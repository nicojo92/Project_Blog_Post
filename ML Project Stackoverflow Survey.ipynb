{
 "cells": [
  {
   "cell_type": "markdown",
   "id": "7b066275-9a66-4fab-a0ab-523c3f51b6a6",
   "metadata": {},
   "source": [
    "# Blog Project"
   ]
  },
  {
   "cell_type": "markdown",
   "id": "5196a35d-fde1-4143-891f-56c118521ea7",
   "metadata": {},
   "source": [
    "## Problem Definition"
   ]
  },
  {
   "cell_type": "markdown",
   "id": "5a9b5030-8fe8-4527-b2e0-9c95cc13b3ea",
   "metadata": {},
   "source": [
    "In this survey I analysed the StackOverflow Developer Survey from 2024. The goal is to create a regression machine learning model that predicts the target Job Satisfaction. Job Satisfaction is a value on a scale from 0 to 10.\n",
    "\n",
    "I limited the features to 'MainBranch', 'Age', 'Employment', 'RemoteWork', 'EdLevel', 'Country' and 'ConvertedCompYearly'."
   ]
  },
  {
   "cell_type": "markdown",
   "id": "ffea8c47-9ef3-477f-b937-e2368b3288ee",
   "metadata": {},
   "source": [
    "## Import Libraries"
   ]
  },
  {
   "cell_type": "code",
   "execution_count": 858,
   "id": "5a4d2872-1874-4763-9aa3-5d2bd48ce9a7",
   "metadata": {
    "collapsed": true,
    "jupyter": {
     "outputs_hidden": true,
     "source_hidden": true
    }
   },
   "outputs": [],
   "source": [
    "# Imports\n",
    "import pandas as pd\n",
    "import numpy as np\n",
    "import matplotlib.pyplot as plt\n",
    "import seaborn as sns\n",
    "\n",
    "from sklearn.model_selection import train_test_split\n",
    "from sklearn.preprocessing import StandardScaler, LabelEncoder\n",
    "from sklearn.metrics import classification_report, confusion_matrix, mean_squared_error, mean_absolute_error, r2_score\n",
    "from sklearn.impute import SimpleImputer\n",
    "\n",
    "# Model imports (e.g., logistic regression, random forest, etc.)\n",
    "from sklearn.ensemble import RandomForestClassifier, RandomForestRegressor\n",
    "from sklearn.linear_model import LinearRegression\n",
    "from sklearn.tree import DecisionTreeRegressor\n",
    "\n",
    "from xgboost import XGBRegressor\n",
    "\n",
    "from statsmodels.stats.multicomp import pairwise_tukeyhsd"
   ]
  },
  {
   "cell_type": "markdown",
   "id": "2cca3173-dcff-4a61-a295-64f274d0c71b",
   "metadata": {},
   "source": [
    "## Load Dataset"
   ]
  },
  {
   "cell_type": "code",
   "execution_count": 859,
   "id": "91e7eb47-3f6c-4310-b700-d2339d777f48",
   "metadata": {
    "collapsed": true,
    "jupyter": {
     "outputs_hidden": true,
     "source_hidden": true
    }
   },
   "outputs": [],
   "source": [
    "# Load data\n",
    "df_raw = pd.read_csv('data/survey_results_public.csv')"
   ]
  },
  {
   "cell_type": "code",
   "execution_count": 860,
   "id": "b3deb68e-9f3b-4368-8a04-e91788d8fce3",
   "metadata": {
    "collapsed": true,
    "jupyter": {
     "outputs_hidden": true,
     "source_hidden": true
    }
   },
   "outputs": [],
   "source": [
    "# Define columns for futher investigation\n",
    "cols_keep = ['MainBranch', 'Age', 'Employment', 'RemoteWork', 'EdLevel',\n",
    "             'JobSat', 'Country', 'ConvertedCompYearly']"
   ]
  },
  {
   "cell_type": "code",
   "execution_count": 861,
   "id": "b85eccd5-2f01-40c6-a035-e5c5c468331b",
   "metadata": {
    "collapsed": true,
    "jupyter": {
     "outputs_hidden": true,
     "source_hidden": true
    }
   },
   "outputs": [],
   "source": [
    "# Reduce dataset to the identified columns\n",
    "df_red = df_raw[cols_keep]"
   ]
  },
  {
   "cell_type": "markdown",
   "id": "cda40ba0-9b0c-491d-9b56-3b042c38d3b7",
   "metadata": {},
   "source": [
    "## Basic Cleaning"
   ]
  },
  {
   "cell_type": "code",
   "execution_count": 862,
   "id": "e460f932-0888-47dc-8252-12d28bdeaa50",
   "metadata": {
    "collapsed": true,
    "jupyter": {
     "outputs_hidden": true,
     "source_hidden": true
    }
   },
   "outputs": [],
   "source": [
    "# Remove all rows where the target \"JobSat\" is NaN\n",
    "df_cleaned = df_red[df_red.JobSat.notna()]"
   ]
  },
  {
   "cell_type": "code",
   "execution_count": 863,
   "id": "3962c338-5b78-4ed2-8b93-3eef469d261a",
   "metadata": {
    "collapsed": true,
    "jupyter": {
     "outputs_hidden": true,
     "source_hidden": true
    }
   },
   "outputs": [
    {
     "name": "stdout",
     "output_type": "stream",
     "text": [
      "Before:  (65437, 8)\n",
      "After:  (29126, 8)\n"
     ]
    }
   ],
   "source": [
    "# Check shape before and after removing JobSat NaN\n",
    "print('Before: ', df_red.shape)\n",
    "print('After: ', df_cleaned.shape)"
   ]
  },
  {
   "cell_type": "markdown",
   "id": "f5b132a6-980d-4212-bed0-4e1cd678949b",
   "metadata": {},
   "source": [
    "## Exploratory Data Analysis (EDA)"
   ]
  },
  {
   "cell_type": "markdown",
   "id": "45361e97-e8cf-40bd-9eaf-49082416a014",
   "metadata": {},
   "source": [
    "### Initial EDA"
   ]
  },
  {
   "cell_type": "markdown",
   "id": "c871afae-af21-48c2-ac18-22b8745f848b",
   "metadata": {},
   "source": [
    "Here I take a first look at the data performing df.info() and df.describe(). Moreover, I begin simplifing the dataset by only including surveys where the respondand selected \"Employed, full-time\". This is by far the most selected value for Employment and simplifies the feature Employment a lot. Originally, it contained 64 unique values. At last, I remove three columns that contain no values for RemoteWork."
   ]
  },
  {
   "cell_type": "code",
   "execution_count": 864,
   "id": "5fdcac77-42d9-4f62-935e-ce922b8d38a9",
   "metadata": {
    "collapsed": true,
    "jupyter": {
     "outputs_hidden": true,
     "source_hidden": true
    }
   },
   "outputs": [
    {
     "name": "stdout",
     "output_type": "stream",
     "text": [
      "<class 'pandas.core.frame.DataFrame'>\n",
      "Index: 29126 entries, 10 to 65412\n",
      "Data columns (total 8 columns):\n",
      " #   Column               Non-Null Count  Dtype  \n",
      "---  ------               --------------  -----  \n",
      " 0   MainBranch           29126 non-null  object \n",
      " 1   Age                  29126 non-null  object \n",
      " 2   Employment           29126 non-null  object \n",
      " 3   RemoteWork           29117 non-null  object \n",
      " 4   EdLevel              29126 non-null  object \n",
      " 5   JobSat               29126 non-null  float64\n",
      " 6   Country              29126 non-null  object \n",
      " 7   ConvertedCompYearly  16075 non-null  float64\n",
      "dtypes: float64(2), object(6)\n",
      "memory usage: 2.0+ MB\n"
     ]
    }
   ],
   "source": [
    "# Check data info\n",
    "df_cleaned.info()"
   ]
  },
  {
   "cell_type": "code",
   "execution_count": 865,
   "id": "ffc2ea8d-74ad-4ce9-8e8d-f7f56a446a7f",
   "metadata": {
    "collapsed": true,
    "jupyter": {
     "outputs_hidden": true,
     "source_hidden": true
    },
    "scrolled": true
   },
   "outputs": [
    {
     "data": {
      "text/html": [
       "<div>\n",
       "<style scoped>\n",
       "    .dataframe tbody tr th:only-of-type {\n",
       "        vertical-align: middle;\n",
       "    }\n",
       "\n",
       "    .dataframe tbody tr th {\n",
       "        vertical-align: top;\n",
       "    }\n",
       "\n",
       "    .dataframe thead th {\n",
       "        text-align: right;\n",
       "    }\n",
       "</style>\n",
       "<table border=\"1\" class=\"dataframe\">\n",
       "  <thead>\n",
       "    <tr style=\"text-align: right;\">\n",
       "      <th></th>\n",
       "      <th>MainBranch</th>\n",
       "      <th>Age</th>\n",
       "      <th>Employment</th>\n",
       "      <th>RemoteWork</th>\n",
       "      <th>EdLevel</th>\n",
       "      <th>JobSat</th>\n",
       "      <th>Country</th>\n",
       "      <th>ConvertedCompYearly</th>\n",
       "    </tr>\n",
       "  </thead>\n",
       "  <tbody>\n",
       "    <tr>\n",
       "      <th>count</th>\n",
       "      <td>29126</td>\n",
       "      <td>29126</td>\n",
       "      <td>29126</td>\n",
       "      <td>29117</td>\n",
       "      <td>29126</td>\n",
       "      <td>29126.000000</td>\n",
       "      <td>29126</td>\n",
       "      <td>1.607500e+04</td>\n",
       "    </tr>\n",
       "    <tr>\n",
       "      <th>unique</th>\n",
       "      <td>5</td>\n",
       "      <td>8</td>\n",
       "      <td>64</td>\n",
       "      <td>3</td>\n",
       "      <td>8</td>\n",
       "      <td>NaN</td>\n",
       "      <td>166</td>\n",
       "      <td>NaN</td>\n",
       "    </tr>\n",
       "    <tr>\n",
       "      <th>top</th>\n",
       "      <td>I am a developer by profession</td>\n",
       "      <td>25-34 years old</td>\n",
       "      <td>Employed, full-time</td>\n",
       "      <td>Hybrid (some remote, some in-person)</td>\n",
       "      <td>Bachelor’s degree (B.A., B.S., B.Eng., etc.)</td>\n",
       "      <td>NaN</td>\n",
       "      <td>United States of America</td>\n",
       "      <td>NaN</td>\n",
       "    </tr>\n",
       "    <tr>\n",
       "      <th>freq</th>\n",
       "      <td>26627</td>\n",
       "      <td>12700</td>\n",
       "      <td>22537</td>\n",
       "      <td>12622</td>\n",
       "      <td>13126</td>\n",
       "      <td>NaN</td>\n",
       "      <td>5534</td>\n",
       "      <td>NaN</td>\n",
       "    </tr>\n",
       "    <tr>\n",
       "      <th>mean</th>\n",
       "      <td>NaN</td>\n",
       "      <td>NaN</td>\n",
       "      <td>NaN</td>\n",
       "      <td>NaN</td>\n",
       "      <td>NaN</td>\n",
       "      <td>6.935041</td>\n",
       "      <td>NaN</td>\n",
       "      <td>8.594299e+04</td>\n",
       "    </tr>\n",
       "    <tr>\n",
       "      <th>std</th>\n",
       "      <td>NaN</td>\n",
       "      <td>NaN</td>\n",
       "      <td>NaN</td>\n",
       "      <td>NaN</td>\n",
       "      <td>NaN</td>\n",
       "      <td>2.088259</td>\n",
       "      <td>NaN</td>\n",
       "      <td>1.722364e+05</td>\n",
       "    </tr>\n",
       "    <tr>\n",
       "      <th>min</th>\n",
       "      <td>NaN</td>\n",
       "      <td>NaN</td>\n",
       "      <td>NaN</td>\n",
       "      <td>NaN</td>\n",
       "      <td>NaN</td>\n",
       "      <td>0.000000</td>\n",
       "      <td>NaN</td>\n",
       "      <td>1.000000e+00</td>\n",
       "    </tr>\n",
       "    <tr>\n",
       "      <th>25%</th>\n",
       "      <td>NaN</td>\n",
       "      <td>NaN</td>\n",
       "      <td>NaN</td>\n",
       "      <td>NaN</td>\n",
       "      <td>NaN</td>\n",
       "      <td>6.000000</td>\n",
       "      <td>NaN</td>\n",
       "      <td>3.356900e+04</td>\n",
       "    </tr>\n",
       "    <tr>\n",
       "      <th>50%</th>\n",
       "      <td>NaN</td>\n",
       "      <td>NaN</td>\n",
       "      <td>NaN</td>\n",
       "      <td>NaN</td>\n",
       "      <td>NaN</td>\n",
       "      <td>7.000000</td>\n",
       "      <td>NaN</td>\n",
       "      <td>6.590700e+04</td>\n",
       "    </tr>\n",
       "    <tr>\n",
       "      <th>75%</th>\n",
       "      <td>NaN</td>\n",
       "      <td>NaN</td>\n",
       "      <td>NaN</td>\n",
       "      <td>NaN</td>\n",
       "      <td>NaN</td>\n",
       "      <td>8.000000</td>\n",
       "      <td>NaN</td>\n",
       "      <td>1.082800e+05</td>\n",
       "    </tr>\n",
       "    <tr>\n",
       "      <th>max</th>\n",
       "      <td>NaN</td>\n",
       "      <td>NaN</td>\n",
       "      <td>NaN</td>\n",
       "      <td>NaN</td>\n",
       "      <td>NaN</td>\n",
       "      <td>10.000000</td>\n",
       "      <td>NaN</td>\n",
       "      <td>1.381802e+07</td>\n",
       "    </tr>\n",
       "  </tbody>\n",
       "</table>\n",
       "</div>"
      ],
      "text/plain": [
       "                            MainBranch              Age           Employment  \\\n",
       "count                            29126            29126                29126   \n",
       "unique                               5                8                   64   \n",
       "top     I am a developer by profession  25-34 years old  Employed, full-time   \n",
       "freq                             26627            12700                22537   \n",
       "mean                               NaN              NaN                  NaN   \n",
       "std                                NaN              NaN                  NaN   \n",
       "min                                NaN              NaN                  NaN   \n",
       "25%                                NaN              NaN                  NaN   \n",
       "50%                                NaN              NaN                  NaN   \n",
       "75%                                NaN              NaN                  NaN   \n",
       "max                                NaN              NaN                  NaN   \n",
       "\n",
       "                                  RemoteWork  \\\n",
       "count                                  29117   \n",
       "unique                                     3   \n",
       "top     Hybrid (some remote, some in-person)   \n",
       "freq                                   12622   \n",
       "mean                                     NaN   \n",
       "std                                      NaN   \n",
       "min                                      NaN   \n",
       "25%                                      NaN   \n",
       "50%                                      NaN   \n",
       "75%                                      NaN   \n",
       "max                                      NaN   \n",
       "\n",
       "                                             EdLevel        JobSat  \\\n",
       "count                                          29126  29126.000000   \n",
       "unique                                             8           NaN   \n",
       "top     Bachelor’s degree (B.A., B.S., B.Eng., etc.)           NaN   \n",
       "freq                                           13126           NaN   \n",
       "mean                                             NaN      6.935041   \n",
       "std                                              NaN      2.088259   \n",
       "min                                              NaN      0.000000   \n",
       "25%                                              NaN      6.000000   \n",
       "50%                                              NaN      7.000000   \n",
       "75%                                              NaN      8.000000   \n",
       "max                                              NaN     10.000000   \n",
       "\n",
       "                         Country  ConvertedCompYearly  \n",
       "count                      29126         1.607500e+04  \n",
       "unique                       166                  NaN  \n",
       "top     United States of America                  NaN  \n",
       "freq                        5534                  NaN  \n",
       "mean                         NaN         8.594299e+04  \n",
       "std                          NaN         1.722364e+05  \n",
       "min                          NaN         1.000000e+00  \n",
       "25%                          NaN         3.356900e+04  \n",
       "50%                          NaN         6.590700e+04  \n",
       "75%                          NaN         1.082800e+05  \n",
       "max                          NaN         1.381802e+07  "
      ]
     },
     "execution_count": 865,
     "metadata": {},
     "output_type": "execute_result"
    }
   ],
   "source": [
    "# Describe features and target\n",
    "df_cleaned.describe(include='all')"
   ]
  },
  {
   "cell_type": "code",
   "execution_count": 866,
   "id": "22df44a8-ec65-44f0-a139-31894988f045",
   "metadata": {
    "collapsed": true,
    "jupyter": {
     "outputs_hidden": true,
     "source_hidden": true
    }
   },
   "outputs": [
    {
     "name": "stdout",
     "output_type": "stream",
     "text": [
      "ConvertedCompYearly    13051\n",
      "RemoteWork                 9\n",
      "MainBranch                 0\n",
      "Age                        0\n",
      "Employment                 0\n",
      "EdLevel                    0\n",
      "JobSat                     0\n",
      "Country                    0\n",
      "dtype: int64\n",
      "ConvertedCompYearly    0.448088\n",
      "RemoteWork             0.000309\n",
      "MainBranch             0.000000\n",
      "Age                    0.000000\n",
      "Employment             0.000000\n",
      "EdLevel                0.000000\n",
      "JobSat                 0.000000\n",
      "Country                0.000000\n",
      "dtype: float64\n"
     ]
    }
   ],
   "source": [
    "# Check for missing values\n",
    "print(df_cleaned.isnull().sum().sort_values(ascending=False))\n",
    "print(df_cleaned.isnull().mean().sort_values(ascending=False))"
   ]
  },
  {
   "cell_type": "code",
   "execution_count": 867,
   "id": "da0ccf81-592a-4fd2-adf8-7d7c649622a9",
   "metadata": {
    "collapsed": true,
    "jupyter": {
     "outputs_hidden": true,
     "source_hidden": true
    }
   },
   "outputs": [],
   "source": [
    "# Reduce dataset to 'employed, full-time' and then drop column 'Employment'\n",
    "df_cleaned = df_cleaned[df_cleaned.Employment == 'Employed, full-time']\n",
    "df_cleaned.drop(columns='Employment', inplace=True)"
   ]
  },
  {
   "cell_type": "code",
   "execution_count": 868,
   "id": "b56e6fa8-5cff-45ce-8d76-48b31c4dd810",
   "metadata": {
    "collapsed": true,
    "jupyter": {
     "outputs_hidden": true,
     "source_hidden": true
    }
   },
   "outputs": [
    {
     "data": {
      "text/html": [
       "<div>\n",
       "<style scoped>\n",
       "    .dataframe tbody tr th:only-of-type {\n",
       "        vertical-align: middle;\n",
       "    }\n",
       "\n",
       "    .dataframe tbody tr th {\n",
       "        vertical-align: top;\n",
       "    }\n",
       "\n",
       "    .dataframe thead th {\n",
       "        text-align: right;\n",
       "    }\n",
       "</style>\n",
       "<table border=\"1\" class=\"dataframe\">\n",
       "  <thead>\n",
       "    <tr style=\"text-align: right;\">\n",
       "      <th></th>\n",
       "      <th>MainBranch</th>\n",
       "      <th>Age</th>\n",
       "      <th>RemoteWork</th>\n",
       "      <th>EdLevel</th>\n",
       "      <th>JobSat</th>\n",
       "      <th>Country</th>\n",
       "      <th>ConvertedCompYearly</th>\n",
       "    </tr>\n",
       "  </thead>\n",
       "  <tbody>\n",
       "    <tr>\n",
       "      <th>count</th>\n",
       "      <td>22537</td>\n",
       "      <td>22537</td>\n",
       "      <td>22534</td>\n",
       "      <td>22537</td>\n",
       "      <td>22537.000000</td>\n",
       "      <td>22537</td>\n",
       "      <td>1.254400e+04</td>\n",
       "    </tr>\n",
       "    <tr>\n",
       "      <th>unique</th>\n",
       "      <td>5</td>\n",
       "      <td>8</td>\n",
       "      <td>3</td>\n",
       "      <td>8</td>\n",
       "      <td>NaN</td>\n",
       "      <td>158</td>\n",
       "      <td>NaN</td>\n",
       "    </tr>\n",
       "    <tr>\n",
       "      <th>top</th>\n",
       "      <td>I am a developer by profession</td>\n",
       "      <td>25-34 years old</td>\n",
       "      <td>Hybrid (some remote, some in-person)</td>\n",
       "      <td>Bachelor’s degree (B.A., B.S., B.Eng., etc.)</td>\n",
       "      <td>NaN</td>\n",
       "      <td>United States of America</td>\n",
       "      <td>NaN</td>\n",
       "    </tr>\n",
       "    <tr>\n",
       "      <th>freq</th>\n",
       "      <td>20668</td>\n",
       "      <td>10258</td>\n",
       "      <td>10006</td>\n",
       "      <td>10497</td>\n",
       "      <td>NaN</td>\n",
       "      <td>4732</td>\n",
       "      <td>NaN</td>\n",
       "    </tr>\n",
       "    <tr>\n",
       "      <th>mean</th>\n",
       "      <td>NaN</td>\n",
       "      <td>NaN</td>\n",
       "      <td>NaN</td>\n",
       "      <td>NaN</td>\n",
       "      <td>6.919288</td>\n",
       "      <td>NaN</td>\n",
       "      <td>8.942110e+04</td>\n",
       "    </tr>\n",
       "    <tr>\n",
       "      <th>std</th>\n",
       "      <td>NaN</td>\n",
       "      <td>NaN</td>\n",
       "      <td>NaN</td>\n",
       "      <td>NaN</td>\n",
       "      <td>2.072053</td>\n",
       "      <td>NaN</td>\n",
       "      <td>1.435716e+05</td>\n",
       "    </tr>\n",
       "    <tr>\n",
       "      <th>min</th>\n",
       "      <td>NaN</td>\n",
       "      <td>NaN</td>\n",
       "      <td>NaN</td>\n",
       "      <td>NaN</td>\n",
       "      <td>0.000000</td>\n",
       "      <td>NaN</td>\n",
       "      <td>1.000000e+00</td>\n",
       "    </tr>\n",
       "    <tr>\n",
       "      <th>25%</th>\n",
       "      <td>NaN</td>\n",
       "      <td>NaN</td>\n",
       "      <td>NaN</td>\n",
       "      <td>NaN</td>\n",
       "      <td>6.000000</td>\n",
       "      <td>NaN</td>\n",
       "      <td>3.866600e+04</td>\n",
       "    </tr>\n",
       "    <tr>\n",
       "      <th>50%</th>\n",
       "      <td>NaN</td>\n",
       "      <td>NaN</td>\n",
       "      <td>NaN</td>\n",
       "      <td>NaN</td>\n",
       "      <td>7.000000</td>\n",
       "      <td>NaN</td>\n",
       "      <td>7.000000e+04</td>\n",
       "    </tr>\n",
       "    <tr>\n",
       "      <th>75%</th>\n",
       "      <td>NaN</td>\n",
       "      <td>NaN</td>\n",
       "      <td>NaN</td>\n",
       "      <td>NaN</td>\n",
       "      <td>8.000000</td>\n",
       "      <td>NaN</td>\n",
       "      <td>1.120000e+05</td>\n",
       "    </tr>\n",
       "    <tr>\n",
       "      <th>max</th>\n",
       "      <td>NaN</td>\n",
       "      <td>NaN</td>\n",
       "      <td>NaN</td>\n",
       "      <td>NaN</td>\n",
       "      <td>10.000000</td>\n",
       "      <td>NaN</td>\n",
       "      <td>9.000000e+06</td>\n",
       "    </tr>\n",
       "  </tbody>\n",
       "</table>\n",
       "</div>"
      ],
      "text/plain": [
       "                            MainBranch              Age  \\\n",
       "count                            22537            22537   \n",
       "unique                               5                8   \n",
       "top     I am a developer by profession  25-34 years old   \n",
       "freq                             20668            10258   \n",
       "mean                               NaN              NaN   \n",
       "std                                NaN              NaN   \n",
       "min                                NaN              NaN   \n",
       "25%                                NaN              NaN   \n",
       "50%                                NaN              NaN   \n",
       "75%                                NaN              NaN   \n",
       "max                                NaN              NaN   \n",
       "\n",
       "                                  RemoteWork  \\\n",
       "count                                  22534   \n",
       "unique                                     3   \n",
       "top     Hybrid (some remote, some in-person)   \n",
       "freq                                   10006   \n",
       "mean                                     NaN   \n",
       "std                                      NaN   \n",
       "min                                      NaN   \n",
       "25%                                      NaN   \n",
       "50%                                      NaN   \n",
       "75%                                      NaN   \n",
       "max                                      NaN   \n",
       "\n",
       "                                             EdLevel        JobSat  \\\n",
       "count                                          22537  22537.000000   \n",
       "unique                                             8           NaN   \n",
       "top     Bachelor’s degree (B.A., B.S., B.Eng., etc.)           NaN   \n",
       "freq                                           10497           NaN   \n",
       "mean                                             NaN      6.919288   \n",
       "std                                              NaN      2.072053   \n",
       "min                                              NaN      0.000000   \n",
       "25%                                              NaN      6.000000   \n",
       "50%                                              NaN      7.000000   \n",
       "75%                                              NaN      8.000000   \n",
       "max                                              NaN     10.000000   \n",
       "\n",
       "                         Country  ConvertedCompYearly  \n",
       "count                      22537         1.254400e+04  \n",
       "unique                       158                  NaN  \n",
       "top     United States of America                  NaN  \n",
       "freq                        4732                  NaN  \n",
       "mean                         NaN         8.942110e+04  \n",
       "std                          NaN         1.435716e+05  \n",
       "min                          NaN         1.000000e+00  \n",
       "25%                          NaN         3.866600e+04  \n",
       "50%                          NaN         7.000000e+04  \n",
       "75%                          NaN         1.120000e+05  \n",
       "max                          NaN         9.000000e+06  "
      ]
     },
     "execution_count": 868,
     "metadata": {},
     "output_type": "execute_result"
    }
   ],
   "source": [
    "# Repeat description of categorical features and numerical target variable\n",
    "df_cleaned.describe(include='all')"
   ]
  },
  {
   "cell_type": "code",
   "execution_count": 869,
   "id": "5b1208a8-b2b5-4d55-802f-2cd8aee18445",
   "metadata": {
    "collapsed": true,
    "jupyter": {
     "outputs_hidden": true,
     "source_hidden": true
    }
   },
   "outputs": [],
   "source": [
    "# Drop rows where RemoteWork is na\n",
    "df_cleaned = df_cleaned.dropna(subset='RemoteWork')"
   ]
  },
  {
   "cell_type": "markdown",
   "id": "4720330a-2ebe-4a1c-bf04-9a2dd5bc1fa1",
   "metadata": {},
   "source": [
    "### Univariate Analysis"
   ]
  },
  {
   "cell_type": "markdown",
   "id": "f128a42e-ebaf-4612-9810-009386431d5e",
   "metadata": {},
   "source": [
    "In the univariate analysis I looked at each feature at a time conducting methos like count absolute and relative frequency of the categorical values. Furthermore, I simplified the categorical features aggregating values that made up less than 1% of all values to the category \"Others\". Lastly, I created bar plots showing the distribution of each feature and the target."
   ]
  },
  {
   "cell_type": "markdown",
   "id": "56ed5e81-1c9c-4e6e-b662-ecbcaa0e8111",
   "metadata": {},
   "source": [
    "#### Absolute and relative frequency"
   ]
  },
  {
   "cell_type": "code",
   "execution_count": 870,
   "id": "1865e835-d4db-4ece-b074-523ec9bb2d65",
   "metadata": {
    "collapsed": true,
    "jupyter": {
     "outputs_hidden": true,
     "source_hidden": true
    }
   },
   "outputs": [
    {
     "name": "stdout",
     "output_type": "stream",
     "text": [
      "MainBranch\n",
      "I am a developer by profession                                                           20665\n",
      "I am not primarily a developer, but I write code sometimes as part of my work/studies     1322\n",
      "I used to be a developer by profession, but no longer am                                   353\n",
      "I am learning to code                                                                      103\n",
      "I code primarily as a hobby                                                                 91\n",
      "Name: count, dtype: int64 \n",
      "\n",
      "MainBranch\n",
      "I am a developer by profession                                                           0.917059\n",
      "I am not primarily a developer, but I write code sometimes as part of my work/studies    0.058667\n",
      "I used to be a developer by profession, but no longer am                                 0.015665\n",
      "I am learning to code                                                                    0.004571\n",
      "I code primarily as a hobby                                                              0.004038\n",
      "Name: proportion, dtype: float64\n"
     ]
    }
   ],
   "source": [
    "# Count frequency and relative frequency values of MainBranch\n",
    "print(df_cleaned.MainBranch.value_counts(), '\\n')\n",
    "print(df_cleaned.MainBranch.value_counts(normalize=True))"
   ]
  },
  {
   "cell_type": "code",
   "execution_count": 871,
   "id": "df7dac03-77c1-42c2-aba0-e0bd0b1e6339",
   "metadata": {
    "collapsed": true,
    "jupyter": {
     "outputs_hidden": true,
     "source_hidden": true
    }
   },
   "outputs": [
    {
     "name": "stdout",
     "output_type": "stream",
     "text": [
      "Age\n",
      "25-34 years old       10258\n",
      "35-44 years old        6392\n",
      "18-24 years old        2580\n",
      "45-54 years old        2371\n",
      "55-64 years old         795\n",
      "65 years or older        86\n",
      "Prefer not to say        35\n",
      "Under 18 years old       17\n",
      "Name: count, dtype: int64 \n",
      "\n",
      "Age\n",
      "25-34 years old       0.455223\n",
      "35-44 years old       0.283660\n",
      "18-24 years old       0.114494\n",
      "45-54 years old       0.105219\n",
      "55-64 years old       0.035280\n",
      "65 years or older     0.003816\n",
      "Prefer not to say     0.001553\n",
      "Under 18 years old    0.000754\n",
      "Name: proportion, dtype: float64\n"
     ]
    }
   ],
   "source": [
    "# Count frequency and relative frequency values of Age\n",
    "print(df_cleaned.Age.value_counts(), '\\n')\n",
    "print(df_cleaned.Age.value_counts(normalize=True))"
   ]
  },
  {
   "cell_type": "code",
   "execution_count": 872,
   "id": "a824b3b6-1e99-465c-bd11-6b5cc2189110",
   "metadata": {
    "collapsed": true,
    "jupyter": {
     "outputs_hidden": true,
     "source_hidden": true
    }
   },
   "outputs": [
    {
     "name": "stdout",
     "output_type": "stream",
     "text": [
      "RemoteWork\n",
      "Hybrid (some remote, some in-person)    10006\n",
      "Remote                                   8038\n",
      "In-person                                4490\n",
      "Name: count, dtype: int64 \n",
      "\n",
      "RemoteWork\n",
      "Hybrid (some remote, some in-person)    0.444040\n",
      "Remote                                  0.356705\n",
      "In-person                               0.199254\n",
      "Name: proportion, dtype: float64\n"
     ]
    }
   ],
   "source": [
    "# Count frequency and relative frequency values of RemoteWork\n",
    "print(df_cleaned.RemoteWork.value_counts(), '\\n')\n",
    "print(df_cleaned.RemoteWork.value_counts(normalize=True))"
   ]
  },
  {
   "cell_type": "code",
   "execution_count": 873,
   "id": "7cb6d7a2-ba1a-44bd-a74e-cd81b1de04a0",
   "metadata": {
    "collapsed": true,
    "jupyter": {
     "outputs_hidden": true,
     "source_hidden": true
    }
   },
   "outputs": [
    {
     "name": "stdout",
     "output_type": "stream",
     "text": [
      "EdLevel\n",
      "Bachelor’s degree (B.A., B.S., B.Eng., etc.)                                          10496\n",
      "Master’s degree (M.A., M.S., M.Eng., MBA, etc.)                                        6729\n",
      "Some college/university study without earning a degree                                 2285\n",
      "Professional degree (JD, MD, Ph.D, Ed.D, etc.)                                         1147\n",
      "Secondary school (e.g. American high school, German Realschule or Gymnasium, etc.)      891\n",
      "Associate degree (A.A., A.S., etc.)                                                     674\n",
      "Something else                                                                          214\n",
      "Primary/elementary school                                                                98\n",
      "Name: count, dtype: int64 \n",
      "\n",
      "EdLevel\n",
      "Bachelor’s degree (B.A., B.S., B.Eng., etc.)                                          0.465785\n",
      "Master’s degree (M.A., M.S., M.Eng., MBA, etc.)                                       0.298615\n",
      "Some college/university study without earning a degree                                0.101402\n",
      "Professional degree (JD, MD, Ph.D, Ed.D, etc.)                                        0.050901\n",
      "Secondary school (e.g. American high school, German Realschule or Gymnasium, etc.)    0.039540\n",
      "Associate degree (A.A., A.S., etc.)                                                   0.029910\n",
      "Something else                                                                        0.009497\n",
      "Primary/elementary school                                                             0.004349\n",
      "Name: proportion, dtype: float64\n"
     ]
    }
   ],
   "source": [
    "# Count frequency and relative frequency values of EdLevel\n",
    "print(df_cleaned.EdLevel.value_counts(), '\\n')\n",
    "print(df_cleaned.EdLevel.value_counts(normalize=True))"
   ]
  },
  {
   "cell_type": "code",
   "execution_count": 874,
   "id": "3ea8c1e6-21fa-4d13-82fb-277fc4c01510",
   "metadata": {
    "collapsed": true,
    "jupyter": {
     "outputs_hidden": true,
     "source_hidden": true
    },
    "scrolled": true
   },
   "outputs": [
    {
     "name": "stdout",
     "output_type": "stream",
     "text": [
      "Country\n",
      "United States of America                                4732\n",
      "Germany                                                 1935\n",
      "India                                                   1707\n",
      "United Kingdom of Great Britain and Northern Ireland    1393\n",
      "Ukraine                                                  862\n",
      "                                                        ... \n",
      "Somalia                                                    1\n",
      "Belize                                                     1\n",
      "Togo                                                       1\n",
      "Liechtenstein                                              1\n",
      "Suriname                                                   1\n",
      "Name: count, Length: 158, dtype: int64 \n",
      "\n",
      "Country\n",
      "United States of America                                0.209994\n",
      "Germany                                                 0.085870\n",
      "India                                                   0.075752\n",
      "United Kingdom of Great Britain and Northern Ireland    0.061818\n",
      "Ukraine                                                 0.038253\n",
      "                                                          ...   \n",
      "Somalia                                                 0.000044\n",
      "Belize                                                  0.000044\n",
      "Togo                                                    0.000044\n",
      "Liechtenstein                                           0.000044\n",
      "Suriname                                                0.000044\n",
      "Name: proportion, Length: 158, dtype: float64\n"
     ]
    }
   ],
   "source": [
    "# Count frequency and relative frequency values of Country\n",
    "print(df_cleaned.Country.value_counts(), '\\n')\n",
    "print(df_cleaned.Country.value_counts(normalize=True))"
   ]
  },
  {
   "cell_type": "code",
   "execution_count": 875,
   "id": "153f956b-cff6-45d0-9425-2f3a9880d31c",
   "metadata": {
    "collapsed": true,
    "jupyter": {
     "outputs_hidden": true,
     "source_hidden": true
    }
   },
   "outputs": [
    {
     "data": {
      "text/plain": [
       "JobSat\n",
       "0.0      242\n",
       "1.0      209\n",
       "2.0      599\n",
       "3.0      900\n",
       "4.0      848\n",
       "5.0     1533\n",
       "6.0     2924\n",
       "7.0     5032\n",
       "8.0     5832\n",
       "9.0     2824\n",
       "10.0    1591\n",
       "Name: count, dtype: int64"
      ]
     },
     "execution_count": 875,
     "metadata": {},
     "output_type": "execute_result"
    }
   ],
   "source": [
    "# Count values for the target JobSat\n",
    "df_cleaned.JobSat.value_counts().sort_index()"
   ]
  },
  {
   "cell_type": "markdown",
   "id": "ccfcb969-5ad9-469f-a4b6-8a8f5f36e6b0",
   "metadata": {},
   "source": [
    "#### Simplification of categorical features"
   ]
  },
  {
   "cell_type": "code",
   "execution_count": 876,
   "id": "f231036f-07c1-4660-bbff-2ce4b5355800",
   "metadata": {
    "collapsed": true,
    "jupyter": {
     "outputs_hidden": true,
     "source_hidden": true
    }
   },
   "outputs": [],
   "source": [
    "# Create a copy dataframe for categorical data simplification steps\n",
    "df_simplified = df_cleaned.copy()"
   ]
  },
  {
   "cell_type": "code",
   "execution_count": 877,
   "id": "33d9d65e-be96-42b2-a507-8fbd4ec2ee4f",
   "metadata": {
    "collapsed": true,
    "jupyter": {
     "outputs_hidden": true,
     "source_hidden": true
    }
   },
   "outputs": [],
   "source": [
    "# Group rare values that make up less than 1% of the MainBranch data\n",
    "\n",
    "# Identify how often each value in column \"MainBranch\" occurs\n",
    "count = df_cleaned.MainBranch.value_counts(normalize=True)\n",
    "\n",
    "# Identify values that make up less than 1%\n",
    "under_one_percent = count[count < 0.01].index\n",
    "\n",
    "# Reassining the identified rare values to \"Other\" and create new simplified column\n",
    "df_simplified[\"MainBranch_simplified\"] = np.where(df_simplified.MainBranch.isin(under_one_percent), \"Other\", df_cleaned.MainBranch)\n",
    "\n",
    "# Remove original column\n",
    "df_simplified.drop(columns=[\"MainBranch\"], inplace=True)"
   ]
  },
  {
   "cell_type": "code",
   "execution_count": 878,
   "id": "3b817663-d0ad-4898-8f06-3c5a12e1dfe1",
   "metadata": {
    "collapsed": true,
    "jupyter": {
     "outputs_hidden": true,
     "source_hidden": true
    }
   },
   "outputs": [],
   "source": [
    "# Group rare values that make up less than 1% of the Age data\n",
    "\n",
    "# Identify how often each value in column \"Age\" occurs\n",
    "count = df_cleaned.Age.value_counts(normalize=True)\n",
    "\n",
    "# Identify values that make up less than 1%\n",
    "under_one_percent = count[count < 0.01].index\n",
    "\n",
    "# Reassining the identified rare values to \"Other\" and create new simplified column\n",
    "df_simplified[\"Age_simplified\"] = np.where(df_simplified.Age.isin(under_one_percent), \"Other\", df_cleaned.Age)\n",
    "\n",
    "# Remove original column\n",
    "df_simplified.drop(columns=[\"Age\"], inplace=True)"
   ]
  },
  {
   "cell_type": "code",
   "execution_count": 879,
   "id": "85574f10-bec1-40dc-8992-e25ca8b07cb5",
   "metadata": {
    "collapsed": true,
    "jupyter": {
     "outputs_hidden": true,
     "source_hidden": true
    }
   },
   "outputs": [],
   "source": [
    "# Group rare values that make up less than 1% of the EdLevel data\n",
    "\n",
    "# Identify how often each value in column \"EdLevel\" occurs\n",
    "count = df_cleaned.EdLevel.value_counts(normalize=True)\n",
    "\n",
    "# Identify values that make up less than 1%\n",
    "under_one_percent = count[count < 0.01].index\n",
    "\n",
    "# Reassining the identified rare values to \"Other\" and create new simplified column\n",
    "df_simplified[\"EdLevel_simplified\"] = np.where(df_simplified.EdLevel.isin(under_one_percent), \"Other\", df_cleaned.EdLevel)\n",
    "\n",
    "# Remove original column\n",
    "df_simplified.drop(columns=[\"EdLevel\"], inplace=True)"
   ]
  },
  {
   "cell_type": "code",
   "execution_count": 880,
   "id": "36786035-ded1-4ae9-b99a-d12673edad79",
   "metadata": {
    "collapsed": true,
    "jupyter": {
     "outputs_hidden": true,
     "source_hidden": true
    }
   },
   "outputs": [],
   "source": [
    "# Group rare values that make up less than 1% of the Country data\n",
    "\n",
    "# Identify how often each value in column \"Country\" occurs\n",
    "count = df_cleaned.Country.value_counts(normalize=True)\n",
    "\n",
    "# Identify values that make up less than 1%\n",
    "under_one_percent = count[count < 0.01].index\n",
    "\n",
    "# Reassining the identified rare values to \"Other\" and create new simplified column\n",
    "df_simplified[\"Country_simplified\"] = np.where(df_simplified.Country.isin(under_one_percent), \"Other\", df_cleaned.Country)\n",
    "\n",
    "# Remove original column\n",
    "df_simplified.drop(columns=[\"Country\"], inplace=True)"
   ]
  },
  {
   "cell_type": "markdown",
   "id": "e0531d13-2ba4-497e-9fc8-e2ca344bbcee",
   "metadata": {},
   "source": [
    "#### Description of simplified data"
   ]
  },
  {
   "cell_type": "code",
   "execution_count": 881,
   "id": "95e0e13a-8368-49a9-a35a-ce7737407411",
   "metadata": {
    "collapsed": true,
    "jupyter": {
     "outputs_hidden": true,
     "source_hidden": true
    }
   },
   "outputs": [
    {
     "data": {
      "text/html": [
       "<div>\n",
       "<style scoped>\n",
       "    .dataframe tbody tr th:only-of-type {\n",
       "        vertical-align: middle;\n",
       "    }\n",
       "\n",
       "    .dataframe tbody tr th {\n",
       "        vertical-align: top;\n",
       "    }\n",
       "\n",
       "    .dataframe thead th {\n",
       "        text-align: right;\n",
       "    }\n",
       "</style>\n",
       "<table border=\"1\" class=\"dataframe\">\n",
       "  <thead>\n",
       "    <tr style=\"text-align: right;\">\n",
       "      <th></th>\n",
       "      <th>RemoteWork</th>\n",
       "      <th>MainBranch_simplified</th>\n",
       "      <th>Age_simplified</th>\n",
       "      <th>EdLevel_simplified</th>\n",
       "      <th>Country_simplified</th>\n",
       "    </tr>\n",
       "  </thead>\n",
       "  <tbody>\n",
       "    <tr>\n",
       "      <th>count</th>\n",
       "      <td>22534</td>\n",
       "      <td>22534</td>\n",
       "      <td>22534</td>\n",
       "      <td>22534</td>\n",
       "      <td>22534</td>\n",
       "    </tr>\n",
       "    <tr>\n",
       "      <th>unique</th>\n",
       "      <td>3</td>\n",
       "      <td>4</td>\n",
       "      <td>6</td>\n",
       "      <td>7</td>\n",
       "      <td>19</td>\n",
       "    </tr>\n",
       "    <tr>\n",
       "      <th>top</th>\n",
       "      <td>Hybrid (some remote, some in-person)</td>\n",
       "      <td>I am a developer by profession</td>\n",
       "      <td>25-34 years old</td>\n",
       "      <td>Bachelor’s degree (B.A., B.S., B.Eng., etc.)</td>\n",
       "      <td>Other</td>\n",
       "    </tr>\n",
       "    <tr>\n",
       "      <th>freq</th>\n",
       "      <td>10006</td>\n",
       "      <td>20665</td>\n",
       "      <td>10258</td>\n",
       "      <td>10496</td>\n",
       "      <td>5623</td>\n",
       "    </tr>\n",
       "  </tbody>\n",
       "</table>\n",
       "</div>"
      ],
      "text/plain": [
       "                                  RemoteWork           MainBranch_simplified  \\\n",
       "count                                  22534                           22534   \n",
       "unique                                     3                               4   \n",
       "top     Hybrid (some remote, some in-person)  I am a developer by profession   \n",
       "freq                                   10006                           20665   \n",
       "\n",
       "         Age_simplified                            EdLevel_simplified  \\\n",
       "count             22534                                         22534   \n",
       "unique                6                                             7   \n",
       "top     25-34 years old  Bachelor’s degree (B.A., B.S., B.Eng., etc.)   \n",
       "freq              10258                                         10496   \n",
       "\n",
       "       Country_simplified  \n",
       "count               22534  \n",
       "unique                 19  \n",
       "top                 Other  \n",
       "freq                 5623  "
      ]
     },
     "execution_count": 881,
     "metadata": {},
     "output_type": "execute_result"
    }
   ],
   "source": [
    "# Repeat description but this time with the simplified columns\n",
    "df_simplified.describe(include='object')"
   ]
  },
  {
   "cell_type": "code",
   "execution_count": 882,
   "id": "16ebe86e-a2b0-44ff-8a2b-834366a6e539",
   "metadata": {
    "collapsed": true,
    "jupyter": {
     "outputs_hidden": true,
     "source_hidden": true
    },
    "scrolled": true
   },
   "outputs": [
    {
     "data": {
      "text/html": [
       "<div>\n",
       "<style scoped>\n",
       "    .dataframe tbody tr th:only-of-type {\n",
       "        vertical-align: middle;\n",
       "    }\n",
       "\n",
       "    .dataframe tbody tr th {\n",
       "        vertical-align: top;\n",
       "    }\n",
       "\n",
       "    .dataframe thead th {\n",
       "        text-align: right;\n",
       "    }\n",
       "</style>\n",
       "<table border=\"1\" class=\"dataframe\">\n",
       "  <thead>\n",
       "    <tr style=\"text-align: right;\">\n",
       "      <th></th>\n",
       "      <th>JobSat</th>\n",
       "      <th>ConvertedCompYearly</th>\n",
       "    </tr>\n",
       "  </thead>\n",
       "  <tbody>\n",
       "    <tr>\n",
       "      <th>count</th>\n",
       "      <td>22534.000000</td>\n",
       "      <td>1.254300e+04</td>\n",
       "    </tr>\n",
       "    <tr>\n",
       "      <th>mean</th>\n",
       "      <td>6.919056</td>\n",
       "      <td>8.941364e+04</td>\n",
       "    </tr>\n",
       "    <tr>\n",
       "      <th>std</th>\n",
       "      <td>2.072065</td>\n",
       "      <td>1.435749e+05</td>\n",
       "    </tr>\n",
       "    <tr>\n",
       "      <th>min</th>\n",
       "      <td>0.000000</td>\n",
       "      <td>1.000000e+00</td>\n",
       "    </tr>\n",
       "    <tr>\n",
       "      <th>25%</th>\n",
       "      <td>6.000000</td>\n",
       "      <td>3.866600e+04</td>\n",
       "    </tr>\n",
       "    <tr>\n",
       "      <th>50%</th>\n",
       "      <td>7.000000</td>\n",
       "      <td>7.000000e+04</td>\n",
       "    </tr>\n",
       "    <tr>\n",
       "      <th>75%</th>\n",
       "      <td>8.000000</td>\n",
       "      <td>1.120000e+05</td>\n",
       "    </tr>\n",
       "    <tr>\n",
       "      <th>max</th>\n",
       "      <td>10.000000</td>\n",
       "      <td>9.000000e+06</td>\n",
       "    </tr>\n",
       "  </tbody>\n",
       "</table>\n",
       "</div>"
      ],
      "text/plain": [
       "             JobSat  ConvertedCompYearly\n",
       "count  22534.000000         1.254300e+04\n",
       "mean       6.919056         8.941364e+04\n",
       "std        2.072065         1.435749e+05\n",
       "min        0.000000         1.000000e+00\n",
       "25%        6.000000         3.866600e+04\n",
       "50%        7.000000         7.000000e+04\n",
       "75%        8.000000         1.120000e+05\n",
       "max       10.000000         9.000000e+06"
      ]
     },
     "execution_count": 882,
     "metadata": {},
     "output_type": "execute_result"
    }
   ],
   "source": [
    "df_simplified.describe()"
   ]
  },
  {
   "cell_type": "markdown",
   "id": "c71d41a6-3cbd-4b83-8555-055568e6fea3",
   "metadata": {},
   "source": [
    "#### Bar Plots of each feature and the target"
   ]
  },
  {
   "cell_type": "code",
   "execution_count": 883,
   "id": "cbd08bc7-adf8-44fb-8231-0d4209d7d010",
   "metadata": {
    "collapsed": true,
    "jupyter": {
     "outputs_hidden": true,
     "source_hidden": true
    },
    "scrolled": true
   },
   "outputs": [
    {
     "data": {
      "image/png": "[encoded data removed]",
      "text/plain": [
       "<Figure size 640x480 with 1 Axes>"
      ]
     },
     "metadata": {},
     "output_type": "display_data"
    }
   ],
   "source": [
    "# Bar Plot of MainBranch\n",
    "# Replace long labels with line-broken versions just for plotting\n",
    "label_map = {\n",
    "    \"I am a developer by profession\": \"I am a developer\\nby profession\",\n",
    "    \"I used to be a developer by profession, but no longer am\": \"Used to be a\\ndeveloper\",\n",
    "    \"I am not primarily a developer, but I write code sometimes as part of my work/studies\": \"Not primarily a developer,\\nbut I write code sometimes \\nas part of my work/studies\",\n",
    "    \"Other\": \"Other\"\n",
    "}\n",
    "\n",
    "# Copy DataFrame to avoid modifying original\n",
    "df_plot = df_simplified.copy()\n",
    "df_plot['MainBranch_simplified_wrapped'] = df_plot['MainBranch_simplified'].replace(label_map)\n",
    "\n",
    "# Plot\n",
    "sns.countplot(x='MainBranch_simplified_wrapped', data=df_plot)\n",
    "plt.title(\"Category Distribution\")\n",
    "plt.xlabel(\"MainBranch\")\n",
    "plt.ylabel(\"Count\")\n",
    "plt.xticks(rotation=45)\n",
    "plt.show()"
   ]
  },
  {
   "cell_type": "code",
   "execution_count": 884,
   "id": "1d9cb876-edeb-4f7b-87b8-fa4f69c6d3e7",
   "metadata": {
    "collapsed": true,
    "jupyter": {
     "outputs_hidden": true,
     "source_hidden": true
    }
   },
   "outputs": [
    {
     "data": {
      "image/png": "[encoded data removed]",
      "text/plain": [
       "<Figure size 640x480 with 1 Axes>"
      ]
     },
     "metadata": {},
     "output_type": "display_data"
    }
   ],
   "source": [
    "# Bar Plot of EdLevel\n",
    "sns.countplot(x='EdLevel_simplified', data=df_simplified)\n",
    "plt.xticks(rotation=90)\n",
    "plt.title(\"Category Distribution\")\n",
    "plt.show()"
   ]
  },
  {
   "cell_type": "code",
   "execution_count": 885,
   "id": "ed278017-4a73-4fb3-b895-f32efc3ac5e0",
   "metadata": {
    "collapsed": true,
    "jupyter": {
     "outputs_hidden": true,
     "source_hidden": true
    }
   },
   "outputs": [
    {
     "data": {
      "image/png": "[encoded data removed]",
      "text/plain": [
       "<Figure size 640x480 with 1 Axes>"
      ]
     },
     "metadata": {},
     "output_type": "display_data"
    }
   ],
   "source": [
    "# Bar Plot of Age\n",
    "sns.countplot(x='Age_simplified', data=df_simplified)\n",
    "plt.xticks(rotation=45)\n",
    "plt.title(\"Category Distribution\")\n",
    "plt.show()"
   ]
  },
  {
   "cell_type": "code",
   "execution_count": 886,
   "id": "6b5c853f-5e9e-4f20-b76d-2fc694a14616",
   "metadata": {
    "collapsed": true,
    "jupyter": {
     "outputs_hidden": true,
     "source_hidden": true
    }
   },
   "outputs": [
    {
     "data": {
      "image/png": "[encoded data removed]",
      "text/plain": [
       "<Figure size 640x480 with 1 Axes>"
      ]
     },
     "metadata": {},
     "output_type": "display_data"
    }
   ],
   "source": [
    "# Bar Plot of EdLevel\n",
    "sns.countplot(x='EdLevel_simplified', data=df_simplified)\n",
    "plt.xticks(rotation=90)\n",
    "plt.title(\"Category Distribution\")\n",
    "plt.show()"
   ]
  },
  {
   "cell_type": "code",
   "execution_count": 887,
   "id": "27d795fb-39cb-4ca0-97e8-d9fc15987ac2",
   "metadata": {
    "collapsed": true,
    "jupyter": {
     "outputs_hidden": true,
     "source_hidden": true
    }
   },
   "outputs": [
    {
     "data": {
      "image/png": "[encoded data removed]",
      "text/plain": [
       "<Figure size 640x480 with 1 Axes>"
      ]
     },
     "metadata": {},
     "output_type": "display_data"
    }
   ],
   "source": [
    "# Bar Plot of JobSat\n",
    "sns.histplot(data=df_simplified, x='JobSat', bins=30, kde=False)\n",
    "plt.title('Histogram of JobSat')\n",
    "plt.xlabel('Value')\n",
    "plt.ylabel('Frequency')\n",
    "plt.show()"
   ]
  },
  {
   "cell_type": "code",
   "execution_count": 888,
   "id": "e6770b5d-9465-41e9-958e-d03642c49318",
   "metadata": {
    "collapsed": true,
    "jupyter": {
     "outputs_hidden": true,
     "source_hidden": true
    }
   },
   "outputs": [
    {
     "data": {
      "image/png": "[encoded data removed]",
      "text/plain": [
       "<Figure size 1200x800 with 14 Axes>"
      ]
     },
     "metadata": {},
     "output_type": "display_data"
    }
   ],
   "source": [
    "# Box plots for numerical data\n",
    "df_simplified.plot(kind=\"box\", subplots=True, layout=(2, 7), figsize=(12, 8), sharex=False, sharey=False)\n",
    "plt.tight_layout()\n",
    "plt.show()"
   ]
  },
  {
   "cell_type": "code",
   "execution_count": 889,
   "id": "283b82c8-1923-4ccf-a5a6-fa18e2ba4df5",
   "metadata": {
    "collapsed": true,
    "jupyter": {
     "outputs_hidden": true,
     "source_hidden": true
    }
   },
   "outputs": [],
   "source": [
    "# Identify outliers with the method interquartile range (IQR)\n",
    "lower_bound = df_simplified.ConvertedCompYearly.quantile(0.01)\n",
    "upper_bound = df_simplified.ConvertedCompYearly.quantile(0.99)\n",
    "outliers = df_simplified[(df_simplified.ConvertedCompYearly < lower_bound) | (df_simplified.ConvertedCompYearly > upper_bound)]\n"
   ]
  },
  {
   "cell_type": "code",
   "execution_count": 890,
   "id": "ec9ed24a-08c6-436c-8fbd-b45a7100fbcf",
   "metadata": {
    "collapsed": true,
    "jupyter": {
     "outputs_hidden": true,
     "source_hidden": true
    }
   },
   "outputs": [],
   "source": [
    "# Remove outliers in the column ConvertedCompYearly\n",
    "df_simplified = df_simplified.drop(outliers.index)"
   ]
  },
  {
   "cell_type": "code",
   "execution_count": 891,
   "id": "d7eec5e3-9c76-4458-b881-272dca336af0",
   "metadata": {
    "collapsed": true,
    "jupyter": {
     "outputs_hidden": true,
     "source_hidden": true
    },
    "scrolled": true
   },
   "outputs": [
    {
     "name": "stderr",
     "output_type": "stream",
     "text": [
      "/var/folders/sd/m93jcv6j64j79l56mv79pfhw0000gn/T/ipykernel_8904/1048088565.py:22: FutureWarning: \n",
      "\n",
      "Passing `palette` without assigning `hue` is deprecated and will be removed in v0.14.0. Assign the `y` variable to `hue` and set `legend=False` for the same effect.\n",
      "\n",
      "  ax = sns.barplot(\n"
     ]
    },
    {
     "data": {
      "image/png": "[encoded data removed]",
      "text/plain": [
       "<Figure size 800x600 with 1 Axes>"
      ]
     },
     "metadata": {},
     "output_type": "display_data"
    }
   ],
   "source": [
    "# Histogram of ConvertedCompYearly\n",
    "# Bin salary column\n",
    "df_simplified[\"SalaryBin\"] = pd.qcut(df_simplified[\"ConvertedCompYearly\"], q=5, duplicates='drop')\n",
    "\n",
    "# Group and calculate mean JobSat\n",
    "salary_stats = df_simplified.groupby(\"SalaryBin\", observed=True)[\"JobSat\"].agg(mean_JobSat=\"mean\", count=\"count\").reset_index()\n",
    "\n",
    "# Sort bins by lower bound descending\n",
    "salary_stats[\"bin_start\"] = salary_stats[\"SalaryBin\"].apply(lambda x: x.left)\n",
    "salary_stats = salary_stats.sort_values(\"bin_start\", ascending=False)\n",
    "\n",
    "# Convert bins to string and use as ordered category\n",
    "salary_stats[\"SalaryBinStr\"] = salary_stats[\"SalaryBin\"].astype(str)\n",
    "salary_stats[\"SalaryBinStr\"] = pd.Categorical(\n",
    "    salary_stats[\"SalaryBinStr\"],\n",
    "    categories=salary_stats[\"SalaryBinStr\"],\n",
    "    ordered=True\n",
    ")\n",
    "\n",
    "# Plot horizontal bar chart\n",
    "plt.figure(figsize=(8, 6))\n",
    "ax = sns.barplot(\n",
    "    data=salary_stats,\n",
    "    y=\"SalaryBinStr\",\n",
    "    x=\"mean_JobSat\",\n",
    "    palette=\"Blues_d\"\n",
    ")\n",
    "\n",
    "# Add text labels\n",
    "for i, val in enumerate(salary_stats[\"mean_JobSat\"]):\n",
    "    ax.text(val + 0.05, i, f\"{val:.2f}\", va=\"center\")\n",
    "\n",
    "plt.xlabel(\"Mean Job Satisfaction\")\n",
    "plt.ylabel(\"ConvertedCompYearly (Binned, Descending)\")\n",
    "plt.xlim(0, 10)\n",
    "plt.title(\"Mean JobSat by Salary Group (Descending)\")\n",
    "plt.tight_layout()\n",
    "plt.show()"
   ]
  },
  {
   "cell_type": "code",
   "execution_count": 892,
   "id": "f0e008ee-666b-4a1a-b012-98089602b560",
   "metadata": {
    "collapsed": true,
    "jupyter": {
     "outputs_hidden": true,
     "source_hidden": true
    }
   },
   "outputs": [],
   "source": [
    "# Drop columns \"SalaryBin\" as it is no longer needed\n",
    "df_simplified.drop(columns='SalaryBin', inplace=True)"
   ]
  },
  {
   "cell_type": "markdown",
   "id": "412a207c-6929-4eae-9f21-23512a3e2764",
   "metadata": {},
   "source": [
    "### Bivariate Analysis"
   ]
  },
  {
   "cell_type": "markdown",
   "id": "23f82057-a4c3-4123-b560-0584cd57a7f2",
   "metadata": {},
   "source": [
    "Following I evaluated the features in combination with the target JobSat. I calculated the average JobSat for each value of each feature. Additionally, I visualised the results in bar charts. Lastly, I conducted Tukey HSD test to test the feature's significance."
   ]
  },
  {
   "cell_type": "markdown",
   "id": "e1a9027c-b774-4e56-a353-5ce261ab7db7",
   "metadata": {},
   "source": [
    "#### Mean target value and count for each value of each feature"
   ]
  },
  {
   "cell_type": "code",
   "execution_count": 893,
   "id": "af8edbcb-7da6-47b3-b334-32101e04f0d6",
   "metadata": {
    "collapsed": true,
    "jupyter": {
     "outputs_hidden": true,
     "source_hidden": true
    }
   },
   "outputs": [
    {
     "data": {
      "text/html": [
       "<div>\n",
       "<style scoped>\n",
       "    .dataframe tbody tr th:only-of-type {\n",
       "        vertical-align: middle;\n",
       "    }\n",
       "\n",
       "    .dataframe tbody tr th {\n",
       "        vertical-align: top;\n",
       "    }\n",
       "\n",
       "    .dataframe thead th {\n",
       "        text-align: right;\n",
       "    }\n",
       "</style>\n",
       "<table border=\"1\" class=\"dataframe\">\n",
       "  <thead>\n",
       "    <tr style=\"text-align: right;\">\n",
       "      <th></th>\n",
       "      <th>mean_JobSat</th>\n",
       "      <th>count</th>\n",
       "    </tr>\n",
       "    <tr>\n",
       "      <th>MainBranch_simplified</th>\n",
       "      <th></th>\n",
       "      <th></th>\n",
       "    </tr>\n",
       "  </thead>\n",
       "  <tbody>\n",
       "    <tr>\n",
       "      <th>I am a developer by profession</th>\n",
       "      <td>6.950250</td>\n",
       "      <td>20422</td>\n",
       "    </tr>\n",
       "    <tr>\n",
       "      <th>I used to be a developer by profession, but no longer am</th>\n",
       "      <td>6.903683</td>\n",
       "      <td>353</td>\n",
       "    </tr>\n",
       "    <tr>\n",
       "      <th>I am not primarily a developer, but I write code sometimes as part of my work/studies</th>\n",
       "      <td>6.640791</td>\n",
       "      <td>1314</td>\n",
       "    </tr>\n",
       "    <tr>\n",
       "      <th>Other</th>\n",
       "      <td>5.613402</td>\n",
       "      <td>194</td>\n",
       "    </tr>\n",
       "  </tbody>\n",
       "</table>\n",
       "</div>"
      ],
      "text/plain": [
       "                                                    mean_JobSat  count\n",
       "MainBranch_simplified                                                 \n",
       "I am a developer by profession                         6.950250  20422\n",
       "I used to be a developer by profession, but no ...     6.903683    353\n",
       "I am not primarily a developer, but I write cod...     6.640791   1314\n",
       "Other                                                  5.613402    194"
      ]
     },
     "execution_count": 893,
     "metadata": {},
     "output_type": "execute_result"
    }
   ],
   "source": [
    "# Mean target values for values in MainBranch \n",
    "df_simplified.groupby(['MainBranch_simplified']).agg(mean_JobSat=('JobSat', 'mean'), count=('MainBranch_simplified', 'count')).sort_values('mean_JobSat', ascending=False)\n"
   ]
  },
  {
   "cell_type": "code",
   "execution_count": 894,
   "id": "c1a7fd18-ca14-41ac-9739-6788c0089253",
   "metadata": {
    "collapsed": true,
    "jupyter": {
     "outputs_hidden": true,
     "source_hidden": true
    }
   },
   "outputs": [
    {
     "name": "stderr",
     "output_type": "stream",
     "text": [
      "/var/folders/sd/m93jcv6j64j79l56mv79pfhw0000gn/T/ipykernel_8904/3189391106.py:19: FutureWarning: \n",
      "\n",
      "Passing `palette` without assigning `hue` is deprecated and will be removed in v0.14.0. Assign the `y` variable to `hue` and set `legend=False` for the same effect.\n",
      "\n",
      "  ax = sns.barplot(\n"
     ]
    },
    {
     "data": {
      "image/png": "[encoded data removed]",
      "text/plain": [
       "<Figure size 1000x500 with 1 Axes>"
      ]
     },
     "metadata": {},
     "output_type": "display_data"
    }
   ],
   "source": [
    "# Bar Chart MainBranch and average JobSat\n",
    "# Data\n",
    "data = {\n",
    "    'MainBranch_simplified': [\n",
    "        \"I am a developer by profession\",\n",
    "        \"I used to be a developer \\nby profession, but no longer am\",\n",
    "        \"I am not primarily a developer,\\nbut I write code sometimes as part \\nof my work/studies\",\n",
    "        \"Other\"\n",
    "    ],\n",
    "    'mean_JobSat': [6.950250, 6.903683, 6.640791, 5.613402]\n",
    "}\n",
    "\n",
    "df_plot = pd.DataFrame(data)\n",
    "\n",
    "# Sort by mean_JobSat descending\n",
    "df_plot = df_plot.sort_values(\"mean_JobSat\", ascending=False)\n",
    "\n",
    "plt.figure(figsize=(10, 5))\n",
    "ax = sns.barplot(\n",
    "    data=df_plot,\n",
    "    x=\"mean_JobSat\",\n",
    "    y=\"MainBranch_simplified\",\n",
    "    palette=\"Blues_d\"\n",
    ")\n",
    "\n",
    "for i in range(len(df_plot)):\n",
    "    value = df_plot[\"mean_JobSat\"].iloc[i]\n",
    "    ax.text(value + 0.02, i, f\"{value:.3f}\", va=\"center\")\n",
    "\n",
    "plt.xlabel(\"Mean Job Satisfaction\")\n",
    "plt.ylabel(\"Main Branch (Simplified)\")\n",
    "plt.title(\"Mean Job Satisfaction by Main Branch\")\n",
    "plt.xlim(0, 10)\n",
    "plt.tight_layout()\n",
    "plt.show()"
   ]
  },
  {
   "cell_type": "code",
   "execution_count": 895,
   "id": "ee22fe3b-b221-46af-a7ec-6d2cbf9cc2d8",
   "metadata": {
    "collapsed": true,
    "jupyter": {
     "outputs_hidden": true,
     "source_hidden": true
    },
    "scrolled": true
   },
   "outputs": [
    {
     "data": {
      "text/html": [
       "<div>\n",
       "<style scoped>\n",
       "    .dataframe tbody tr th:only-of-type {\n",
       "        vertical-align: middle;\n",
       "    }\n",
       "\n",
       "    .dataframe tbody tr th {\n",
       "        vertical-align: top;\n",
       "    }\n",
       "\n",
       "    .dataframe thead th {\n",
       "        text-align: right;\n",
       "    }\n",
       "</style>\n",
       "<table border=\"1\" class=\"dataframe\">\n",
       "  <thead>\n",
       "    <tr style=\"text-align: right;\">\n",
       "      <th></th>\n",
       "      <th>mean_JobSat</th>\n",
       "      <th>count</th>\n",
       "    </tr>\n",
       "    <tr>\n",
       "      <th>Age_simplified</th>\n",
       "      <th></th>\n",
       "      <th></th>\n",
       "    </tr>\n",
       "  </thead>\n",
       "  <tbody>\n",
       "    <tr>\n",
       "      <th>Other</th>\n",
       "      <td>7.591241</td>\n",
       "      <td>137</td>\n",
       "    </tr>\n",
       "    <tr>\n",
       "      <th>55-64 years old</th>\n",
       "      <td>7.219543</td>\n",
       "      <td>788</td>\n",
       "    </tr>\n",
       "    <tr>\n",
       "      <th>45-54 years old</th>\n",
       "      <td>7.106293</td>\n",
       "      <td>2352</td>\n",
       "    </tr>\n",
       "    <tr>\n",
       "      <th>35-44 years old</th>\n",
       "      <td>6.979408</td>\n",
       "      <td>6313</td>\n",
       "    </tr>\n",
       "    <tr>\n",
       "      <th>25-34 years old</th>\n",
       "      <td>6.873534</td>\n",
       "      <td>10145</td>\n",
       "    </tr>\n",
       "    <tr>\n",
       "      <th>18-24 years old</th>\n",
       "      <td>6.653846</td>\n",
       "      <td>2548</td>\n",
       "    </tr>\n",
       "  </tbody>\n",
       "</table>\n",
       "</div>"
      ],
      "text/plain": [
       "                 mean_JobSat  count\n",
       "Age_simplified                     \n",
       "Other               7.591241    137\n",
       "55-64 years old     7.219543    788\n",
       "45-54 years old     7.106293   2352\n",
       "35-44 years old     6.979408   6313\n",
       "25-34 years old     6.873534  10145\n",
       "18-24 years old     6.653846   2548"
      ]
     },
     "execution_count": 895,
     "metadata": {},
     "output_type": "execute_result"
    }
   ],
   "source": [
    "# Mean target values for values in Age \n",
    "df_simplified.groupby(['Age_simplified']).agg(mean_JobSat=('JobSat', 'mean'), count=('Age_simplified', 'count')).sort_values('mean_JobSat', ascending=False)\n"
   ]
  },
  {
   "cell_type": "code",
   "execution_count": 896,
   "id": "ae047e09-98ec-4be8-ae62-48f0c3c5190c",
   "metadata": {
    "collapsed": true,
    "jupyter": {
     "outputs_hidden": true,
     "source_hidden": true
    }
   },
   "outputs": [
    {
     "name": "stderr",
     "output_type": "stream",
     "text": [
      "/var/folders/sd/m93jcv6j64j79l56mv79pfhw0000gn/T/ipykernel_8904/4225390698.py:21: FutureWarning: \n",
      "\n",
      "Passing `palette` without assigning `hue` is deprecated and will be removed in v0.14.0. Assign the `y` variable to `hue` and set `legend=False` for the same effect.\n",
      "\n",
      "  ax = sns.barplot(\n"
     ]
    },
    {
     "data": {
      "image/png": "[encoded data removed]",
      "text/plain": [
       "<Figure size 800x400 with 1 Axes>"
      ]
     },
     "metadata": {},
     "output_type": "display_data"
    }
   ],
   "source": [
    "# Bar Chart Age and average JobSat\n",
    "# Data\n",
    "data = {\n",
    "    'Age_simplified': [\n",
    "        \"Other\",\n",
    "        \"55-64 years old\",\n",
    "        \"45-54 years old\",\n",
    "        \"35-44 years old\",\n",
    "        \"25-34 years old\",\n",
    "        \"18-24 years old\"\n",
    "    ],\n",
    "    'mean_JobSat': [7.591241, 7.219543, 7.106293, 6.979408, 6.873534, 6.653846]\n",
    "}\n",
    "\n",
    "df_plot = pd.DataFrame(data)\n",
    "\n",
    "# Sort descending by mean_JobSat\n",
    "df_plot = df_plot.sort_values(\"mean_JobSat\", ascending=False)\n",
    "\n",
    "plt.figure(figsize=(8, 4))\n",
    "ax = sns.barplot(\n",
    "    data=df_plot,\n",
    "    x=\"mean_JobSat\",\n",
    "    y=\"Age_simplified\",\n",
    "    palette=\"Blues_d\"\n",
    ")\n",
    "\n",
    "for i in range(len(df_plot)):\n",
    "    value = df_plot[\"mean_JobSat\"].iloc[i]\n",
    "    ax.text(value + 0.1, i, f\"{value:.2f}\", va=\"center\")\n",
    "\n",
    "plt.xlabel(\"Mean Job Satisfaction\")\n",
    "plt.ylabel(\"Age Group\")\n",
    "plt.title(\"Mean Job Satisfaction by Age Group\")\n",
    "plt.xlim(0, 10)\n",
    "plt.tight_layout()\n",
    "plt.show()"
   ]
  },
  {
   "cell_type": "code",
   "execution_count": 897,
   "id": "6d8cd1e8-9ad1-44f9-9402-b7ad11bbcd7e",
   "metadata": {
    "collapsed": true,
    "jupyter": {
     "outputs_hidden": true,
     "source_hidden": true
    }
   },
   "outputs": [
    {
     "data": {
      "text/html": [
       "<div>\n",
       "<style scoped>\n",
       "    .dataframe tbody tr th:only-of-type {\n",
       "        vertical-align: middle;\n",
       "    }\n",
       "\n",
       "    .dataframe tbody tr th {\n",
       "        vertical-align: top;\n",
       "    }\n",
       "\n",
       "    .dataframe thead th {\n",
       "        text-align: right;\n",
       "    }\n",
       "</style>\n",
       "<table border=\"1\" class=\"dataframe\">\n",
       "  <thead>\n",
       "    <tr style=\"text-align: right;\">\n",
       "      <th></th>\n",
       "      <th>mean_JobSat</th>\n",
       "      <th>count</th>\n",
       "    </tr>\n",
       "    <tr>\n",
       "      <th>RemoteWork</th>\n",
       "      <th></th>\n",
       "      <th></th>\n",
       "    </tr>\n",
       "  </thead>\n",
       "  <tbody>\n",
       "    <tr>\n",
       "      <th>Remote</th>\n",
       "      <td>7.045954</td>\n",
       "      <td>7921</td>\n",
       "    </tr>\n",
       "    <tr>\n",
       "      <th>Hybrid (some remote, some in-person)</th>\n",
       "      <td>6.947395</td>\n",
       "      <td>9942</td>\n",
       "    </tr>\n",
       "    <tr>\n",
       "      <th>In-person</th>\n",
       "      <td>6.630769</td>\n",
       "      <td>4420</td>\n",
       "    </tr>\n",
       "  </tbody>\n",
       "</table>\n",
       "</div>"
      ],
      "text/plain": [
       "                                      mean_JobSat  count\n",
       "RemoteWork                                              \n",
       "Remote                                   7.045954   7921\n",
       "Hybrid (some remote, some in-person)     6.947395   9942\n",
       "In-person                                6.630769   4420"
      ]
     },
     "execution_count": 897,
     "metadata": {},
     "output_type": "execute_result"
    }
   ],
   "source": [
    "# Mean target values for values in RemoteWork \n",
    "df_simplified.groupby(['RemoteWork']).agg(mean_JobSat=('JobSat', 'mean'), count=('RemoteWork', 'count')).sort_values('mean_JobSat', ascending=False)\n"
   ]
  },
  {
   "cell_type": "code",
   "execution_count": 898,
   "id": "9718955d-db77-4ea4-8a2e-e330ea31df88",
   "metadata": {
    "collapsed": true,
    "jupyter": {
     "outputs_hidden": true,
     "source_hidden": true
    }
   },
   "outputs": [
    {
     "name": "stderr",
     "output_type": "stream",
     "text": [
      "/var/folders/sd/m93jcv6j64j79l56mv79pfhw0000gn/T/ipykernel_8904/2441204722.py:18: FutureWarning: \n",
      "\n",
      "Passing `palette` without assigning `hue` is deprecated and will be removed in v0.14.0. Assign the `y` variable to `hue` and set `legend=False` for the same effect.\n",
      "\n",
      "  ax = sns.barplot(\n"
     ]
    },
    {
     "data": {
      "image/png": "[encoded data removed]",
      "text/plain": [
       "<Figure size 800x300 with 1 Axes>"
      ]
     },
     "metadata": {},
     "output_type": "display_data"
    }
   ],
   "source": [
    "# Bar Chart RemoteWork and average JobSat\n",
    "# Data\n",
    "data = {\n",
    "    'RemoteWork': [\n",
    "        \"Remote\",\n",
    "        \"Hybrid (some remote, some in-person)\",\n",
    "        \"In-person\"\n",
    "    ],\n",
    "    'mean_JobSat': [7.045954, 6.947395, 6.630769]\n",
    "}\n",
    "\n",
    "df_plot = pd.DataFrame(data)\n",
    "\n",
    "# Sort descending by mean_JobSat\n",
    "df_plot = df_plot.sort_values(\"mean_JobSat\", ascending=False)\n",
    "\n",
    "plt.figure(figsize=(8, 3))\n",
    "ax = sns.barplot(\n",
    "    data=df_plot,\n",
    "    x=\"mean_JobSat\",\n",
    "    y=\"RemoteWork\",\n",
    "    palette=\"Blues_d\"\n",
    ")\n",
    "\n",
    "for i in range(len(df_plot)):\n",
    "    value = df_plot[\"mean_JobSat\"].iloc[i]\n",
    "    ax.text(value + 0.02, i, f\"{value:.3f}\", va=\"center\")\n",
    "\n",
    "plt.xlabel(\"Mean Job Satisfaction\")\n",
    "plt.ylabel(\"Remote Work Type\")\n",
    "plt.title(\"Mean Job Satisfaction by Remote Work Type\")\n",
    "plt.xlim(0, 10)\n",
    "plt.tight_layout()\n",
    "plt.show()"
   ]
  },
  {
   "cell_type": "code",
   "execution_count": 899,
   "id": "4b7a8746-a9ad-4ca2-a431-e95a01beaa79",
   "metadata": {
    "collapsed": true,
    "jupyter": {
     "outputs_hidden": true,
     "source_hidden": true
    },
    "scrolled": true
   },
   "outputs": [
    {
     "data": {
      "text/html": [
       "<div>\n",
       "<style scoped>\n",
       "    .dataframe tbody tr th:only-of-type {\n",
       "        vertical-align: middle;\n",
       "    }\n",
       "\n",
       "    .dataframe tbody tr th {\n",
       "        vertical-align: top;\n",
       "    }\n",
       "\n",
       "    .dataframe thead th {\n",
       "        text-align: right;\n",
       "    }\n",
       "</style>\n",
       "<table border=\"1\" class=\"dataframe\">\n",
       "  <thead>\n",
       "    <tr style=\"text-align: right;\">\n",
       "      <th></th>\n",
       "      <th>mean_JobSat</th>\n",
       "      <th>count</th>\n",
       "    </tr>\n",
       "    <tr>\n",
       "      <th>EdLevel_simplified</th>\n",
       "      <th></th>\n",
       "      <th></th>\n",
       "    </tr>\n",
       "  </thead>\n",
       "  <tbody>\n",
       "    <tr>\n",
       "      <th>Professional degree (JD, MD, Ph.D, Ed.D, etc.)</th>\n",
       "      <td>7.059187</td>\n",
       "      <td>1132</td>\n",
       "    </tr>\n",
       "    <tr>\n",
       "      <th>Master’s degree (M.A., M.S., M.Eng., MBA, etc.)</th>\n",
       "      <td>6.980749</td>\n",
       "      <td>6649</td>\n",
       "    </tr>\n",
       "    <tr>\n",
       "      <th>Associate degree (A.A., A.S., etc.)</th>\n",
       "      <td>6.920540</td>\n",
       "      <td>667</td>\n",
       "    </tr>\n",
       "    <tr>\n",
       "      <th>Bachelor’s degree (B.A., B.S., B.Eng., etc.)</th>\n",
       "      <td>6.893277</td>\n",
       "      <td>10382</td>\n",
       "    </tr>\n",
       "    <tr>\n",
       "      <th>Some college/university study without earning a degree</th>\n",
       "      <td>6.853853</td>\n",
       "      <td>2258</td>\n",
       "    </tr>\n",
       "    <tr>\n",
       "      <th>Other</th>\n",
       "      <td>6.852941</td>\n",
       "      <td>306</td>\n",
       "    </tr>\n",
       "    <tr>\n",
       "      <th>Secondary school (e.g. American high school, German Realschule or Gymnasium, etc.)</th>\n",
       "      <td>6.781777</td>\n",
       "      <td>889</td>\n",
       "    </tr>\n",
       "  </tbody>\n",
       "</table>\n",
       "</div>"
      ],
      "text/plain": [
       "                                                    mean_JobSat  count\n",
       "EdLevel_simplified                                                    \n",
       "Professional degree (JD, MD, Ph.D, Ed.D, etc.)         7.059187   1132\n",
       "Master’s degree (M.A., M.S., M.Eng., MBA, etc.)        6.980749   6649\n",
       "Associate degree (A.A., A.S., etc.)                    6.920540    667\n",
       "Bachelor’s degree (B.A., B.S., B.Eng., etc.)           6.893277  10382\n",
       "Some college/university study without earning a...     6.853853   2258\n",
       "Other                                                  6.852941    306\n",
       "Secondary school (e.g. American high school, Ge...     6.781777    889"
      ]
     },
     "execution_count": 899,
     "metadata": {},
     "output_type": "execute_result"
    }
   ],
   "source": [
    "# Mean target values for values in EdLevel\n",
    "df_simplified.groupby(['EdLevel_simplified']).agg(mean_JobSat=('JobSat', 'mean'), count=('EdLevel_simplified', 'count')).sort_values('mean_JobSat', ascending=False)\n"
   ]
  },
  {
   "cell_type": "code",
   "execution_count": 900,
   "id": "15cf2581-f2f9-4b6b-afb7-d9dfe6dca83c",
   "metadata": {
    "collapsed": true,
    "jupyter": {
     "outputs_hidden": true,
     "source_hidden": true
    }
   },
   "outputs": [
    {
     "name": "stderr",
     "output_type": "stream",
     "text": [
      "/var/folders/sd/m93jcv6j64j79l56mv79pfhw0000gn/T/ipykernel_8904/3769790781.py:22: FutureWarning: \n",
      "\n",
      "Passing `palette` without assigning `hue` is deprecated and will be removed in v0.14.0. Assign the `y` variable to `hue` and set `legend=False` for the same effect.\n",
      "\n",
      "  ax = sns.barplot(\n"
     ]
    },
    {
     "data": {
      "image/png": "[encoded data removed]",
      "text/plain": [
       "<Figure size 1000x500 with 1 Axes>"
      ]
     },
     "metadata": {},
     "output_type": "display_data"
    }
   ],
   "source": [
    "# Bar Chart EdLevel and average JobSat\n",
    "# Data\n",
    "data = {\n",
    "    'EdLevel_simplified': [\n",
    "        \"Professional degree (JD, MD, Ph.D, Ed.D, etc.)\",\n",
    "        \"Master’s degree (M.A., M.S., M.Eng., MBA, etc.)\",\n",
    "        \"Associate degree (A.A., A.S., etc.)\",\n",
    "        \"Bachelor’s degree (B.A., B.S., B.Eng., etc.)\",\n",
    "        \"Some college/university study \\nwithout earning a degree\",\n",
    "        \"Other\",\n",
    "        \"Secondary school \\n(e.g. American high school, \\nGerman Realschule or Gymnasium, etc.)\"\n",
    "    ],\n",
    "    'mean_JobSat': [7.059187, 6.980749, 6.920540, 6.893277, 6.853853, 6.852941, 6.781777]\n",
    "}\n",
    "\n",
    "df_plot = pd.DataFrame(data)\n",
    "\n",
    "# Sort descending by mean_JobSat\n",
    "df_plot = df_plot.sort_values(\"mean_JobSat\", ascending=False)\n",
    "\n",
    "plt.figure(figsize=(10, 5))\n",
    "ax = sns.barplot(\n",
    "    data=df_plot,\n",
    "    x=\"mean_JobSat\",\n",
    "    y=\"EdLevel_simplified\",\n",
    "    palette=\"Blues_d\"\n",
    ")\n",
    "\n",
    "for i in range(len(df_plot)):\n",
    "    value = df_plot[\"mean_JobSat\"].iloc[i]\n",
    "    ax.text(value + 0.02, i, f\"{value:.3f}\", va=\"center\")\n",
    "\n",
    "plt.xlabel(\"Mean Job Satisfaction\")\n",
    "plt.ylabel(\"Education Level\")\n",
    "plt.title(\"Mean Job Satisfaction by Education Level\")\n",
    "plt.xlim(0, 10)\n",
    "plt.tight_layout()\n",
    "plt.show()"
   ]
  },
  {
   "cell_type": "code",
   "execution_count": 901,
   "id": "d867f127-77e3-4d8f-894b-f04271d62ac0",
   "metadata": {
    "collapsed": true,
    "jupyter": {
     "outputs_hidden": true,
     "source_hidden": true
    }
   },
   "outputs": [
    {
     "data": {
      "text/html": [
       "<div>\n",
       "<style scoped>\n",
       "    .dataframe tbody tr th:only-of-type {\n",
       "        vertical-align: middle;\n",
       "    }\n",
       "\n",
       "    .dataframe tbody tr th {\n",
       "        vertical-align: top;\n",
       "    }\n",
       "\n",
       "    .dataframe thead th {\n",
       "        text-align: right;\n",
       "    }\n",
       "</style>\n",
       "<table border=\"1\" class=\"dataframe\">\n",
       "  <thead>\n",
       "    <tr style=\"text-align: right;\">\n",
       "      <th></th>\n",
       "      <th>mean_JobSat</th>\n",
       "      <th>count</th>\n",
       "    </tr>\n",
       "    <tr>\n",
       "      <th>Country_simplified</th>\n",
       "      <th></th>\n",
       "      <th></th>\n",
       "    </tr>\n",
       "  </thead>\n",
       "  <tbody>\n",
       "    <tr>\n",
       "      <th>Israel</th>\n",
       "      <td>7.400000</td>\n",
       "      <td>245</td>\n",
       "    </tr>\n",
       "    <tr>\n",
       "      <th>Ukraine</th>\n",
       "      <td>7.265380</td>\n",
       "      <td>829</td>\n",
       "    </tr>\n",
       "    <tr>\n",
       "      <th>Austria</th>\n",
       "      <td>7.243542</td>\n",
       "      <td>271</td>\n",
       "    </tr>\n",
       "    <tr>\n",
       "      <th>Canada</th>\n",
       "      <td>7.172808</td>\n",
       "      <td>787</td>\n",
       "    </tr>\n",
       "    <tr>\n",
       "      <th>Netherlands</th>\n",
       "      <td>7.142857</td>\n",
       "      <td>525</td>\n",
       "    </tr>\n",
       "    <tr>\n",
       "      <th>Sweden</th>\n",
       "      <td>7.140312</td>\n",
       "      <td>449</td>\n",
       "    </tr>\n",
       "    <tr>\n",
       "      <th>Brazil</th>\n",
       "      <td>7.118397</td>\n",
       "      <td>549</td>\n",
       "    </tr>\n",
       "    <tr>\n",
       "      <th>Switzerland</th>\n",
       "      <td>7.032258</td>\n",
       "      <td>341</td>\n",
       "    </tr>\n",
       "    <tr>\n",
       "      <th>France</th>\n",
       "      <td>7.016477</td>\n",
       "      <td>789</td>\n",
       "    </tr>\n",
       "    <tr>\n",
       "      <th>United States of America</th>\n",
       "      <td>6.973463</td>\n",
       "      <td>4635</td>\n",
       "    </tr>\n",
       "    <tr>\n",
       "      <th>Australia</th>\n",
       "      <td>6.937238</td>\n",
       "      <td>478</td>\n",
       "    </tr>\n",
       "    <tr>\n",
       "      <th>Spain</th>\n",
       "      <td>6.891304</td>\n",
       "      <td>506</td>\n",
       "    </tr>\n",
       "    <tr>\n",
       "      <th>Russian Federation</th>\n",
       "      <td>6.856209</td>\n",
       "      <td>306</td>\n",
       "    </tr>\n",
       "    <tr>\n",
       "      <th>Other</th>\n",
       "      <td>6.840360</td>\n",
       "      <td>5550</td>\n",
       "    </tr>\n",
       "    <tr>\n",
       "      <th>Germany</th>\n",
       "      <td>6.821946</td>\n",
       "      <td>1932</td>\n",
       "    </tr>\n",
       "    <tr>\n",
       "      <th>Poland</th>\n",
       "      <td>6.806452</td>\n",
       "      <td>465</td>\n",
       "    </tr>\n",
       "    <tr>\n",
       "      <th>United Kingdom of Great Britain and Northern Ireland</th>\n",
       "      <td>6.763518</td>\n",
       "      <td>1387</td>\n",
       "    </tr>\n",
       "    <tr>\n",
       "      <th>Italy</th>\n",
       "      <td>6.728782</td>\n",
       "      <td>542</td>\n",
       "    </tr>\n",
       "    <tr>\n",
       "      <th>India</th>\n",
       "      <td>6.710666</td>\n",
       "      <td>1697</td>\n",
       "    </tr>\n",
       "  </tbody>\n",
       "</table>\n",
       "</div>"
      ],
      "text/plain": [
       "                                                    mean_JobSat  count\n",
       "Country_simplified                                                    \n",
       "Israel                                                 7.400000    245\n",
       "Ukraine                                                7.265380    829\n",
       "Austria                                                7.243542    271\n",
       "Canada                                                 7.172808    787\n",
       "Netherlands                                            7.142857    525\n",
       "Sweden                                                 7.140312    449\n",
       "Brazil                                                 7.118397    549\n",
       "Switzerland                                            7.032258    341\n",
       "France                                                 7.016477    789\n",
       "United States of America                               6.973463   4635\n",
       "Australia                                              6.937238    478\n",
       "Spain                                                  6.891304    506\n",
       "Russian Federation                                     6.856209    306\n",
       "Other                                                  6.840360   5550\n",
       "Germany                                                6.821946   1932\n",
       "Poland                                                 6.806452    465\n",
       "United Kingdom of Great Britain and Northern Ir...     6.763518   1387\n",
       "Italy                                                  6.728782    542\n",
       "India                                                  6.710666   1697"
      ]
     },
     "execution_count": 901,
     "metadata": {},
     "output_type": "execute_result"
    }
   ],
   "source": [
    "# Mean target values for values in Country\n",
    "df_simplified.groupby(['Country_simplified']).agg(mean_JobSat=('JobSat', 'mean'), count=('Country_simplified', 'count')).sort_values('mean_JobSat', ascending=False)\n"
   ]
  },
  {
   "cell_type": "code",
   "execution_count": 902,
   "id": "4a4b30b5-0528-4b1a-b44e-73f218464fd3",
   "metadata": {
    "collapsed": true,
    "jupyter": {
     "outputs_hidden": true,
     "source_hidden": true
    }
   },
   "outputs": [
    {
     "name": "stderr",
     "output_type": "stream",
     "text": [
      "/var/folders/sd/m93jcv6j64j79l56mv79pfhw0000gn/T/ipykernel_8904/250834827.py:24: FutureWarning: \n",
      "\n",
      "Passing `palette` without assigning `hue` is deprecated and will be removed in v0.14.0. Assign the `y` variable to `hue` and set `legend=False` for the same effect.\n",
      "\n",
      "  ax = sns.barplot(\n"
     ]
    },
    {
     "data": {
      "image/png": "[encoded data removed]",
      "text/plain": [
       "<Figure size 1000x800 with 1 Axes>"
      ]
     },
     "metadata": {},
     "output_type": "display_data"
    }
   ],
   "source": [
    "# Bar Chart Country and average JobSat\n",
    "# Data\n",
    "data = {\n",
    "    'Country_simplified': [\n",
    "        \"Israel\", \"Ukraine\", \"Austria\", \"Canada\", \"Netherlands\", \"Sweden\", \"Brazil\",\n",
    "        \"Switzerland\", \"France\", \"United States of America\", \"Australia\", \"Spain\",\n",
    "        \"Russian Federation\", \"Other\", \"Germany\", \"Poland\",\n",
    "        \"United Kingdom of Great Britain and Northern Ireland\", \"Italy\", \"India\"\n",
    "    ],\n",
    "    'mean_JobSat': [\n",
    "        7.400000, 7.265380, 7.243542, 7.172808, 7.142857, 7.140312, 7.118397,\n",
    "        7.032258, 7.016477, 6.973463, 6.937238, 6.891304,\n",
    "        6.856209, 6.840360, 6.821946, 6.806452,\n",
    "        6.763518, 6.728782, 6.710666\n",
    "    ]\n",
    "}\n",
    "\n",
    "df_plot = pd.DataFrame(data)\n",
    "\n",
    "# Sort by mean_JobSat descending\n",
    "df_plot = df_plot.sort_values(\"mean_JobSat\", ascending=False)\n",
    "\n",
    "plt.figure(figsize=(10, 8))\n",
    "ax = sns.barplot(\n",
    "    data=df_plot,\n",
    "    x=\"mean_JobSat\",\n",
    "    y=\"Country_simplified\",\n",
    "    palette=\"Blues_d\"\n",
    ")\n",
    "\n",
    "# Add value labels\n",
    "for i in range(len(df_plot)):\n",
    "    value = df_plot[\"mean_JobSat\"].iloc[i]\n",
    "    ax.text(value + 0.02, i, f\"{value:.3f}\", va=\"center\")\n",
    "\n",
    "plt.xlabel(\"Mean Job Satisfaction\")\n",
    "plt.ylabel(\"Country (Simplified)\")\n",
    "plt.title(\"Mean Job Satisfaction by Country\")\n",
    "plt.xlim(0, 10)\n",
    "plt.tight_layout()\n",
    "plt.show()"
   ]
  },
  {
   "cell_type": "markdown",
   "id": "8079092a-5cd3-40e4-a435-e88f975995cd",
   "metadata": {},
   "source": [
    "#### Tukey HSD tests"
   ]
  },
  {
   "cell_type": "code",
   "execution_count": 903,
   "id": "218dfb1b-13d7-4b36-9b47-7f82c82c5d36",
   "metadata": {
    "collapsed": true,
    "jupyter": {
     "outputs_hidden": true,
     "source_hidden": true
    }
   },
   "outputs": [
    {
     "data": {
      "text/html": [
       "<table class=\"simpletable\">\n",
       "<caption>Multiple Comparison of Means - Tukey HSD, FWER=0.05</caption>\n",
       "<tr>\n",
       "                                         <th>group1</th>                                                                                <th>group2</th>                                         <th>meandiff</th>  <th>p-adj</th>  <th>lower</th>   <th>upper</th>  <th>reject</th>\n",
       "</tr>\n",
       "<tr>\n",
       "                             <td>I am a developer by profession</td>                             <td>I am not primarily a developer, but I write code sometimes as part of my work/studies</td>  <td>-0.3095</td>   <td>0.0</td>  <td>-0.4605</td> <td>-0.1584</td>  <td>True</td> \n",
       "</tr>\n",
       "<tr>\n",
       "                             <td>I am a developer by profession</td>                                           <td>I used to be a developer by profession, but no longer am</td>                 <td>-0.0466</td> <td>0.9751</td> <td>-0.3315</td> <td>0.2383</td>   <td>False</td>\n",
       "</tr>\n",
       "<tr>\n",
       "                             <td>I am a developer by profession</td>                                                                     <td>Other</td>                                          <td>-1.3368</td>   <td>0.0</td>  <td>-1.7197</td> <td>-0.954</td>   <td>True</td> \n",
       "</tr>\n",
       "<tr>\n",
       "  <td>I am not primarily a developer, but I write code sometimes as part of my work/studies</td>               <td>I used to be a developer by profession, but no longer am</td>                 <td>0.2629</td>  <td>0.1458</td> <td>-0.0553</td> <td>0.5811</td>   <td>False</td>\n",
       "</tr>\n",
       "<tr>\n",
       "  <td>I am not primarily a developer, but I write code sometimes as part of my work/studies</td>                                         <td>Other</td>                                          <td>-1.0274</td>   <td>0.0</td>  <td>-1.4356</td> <td>-0.6192</td>  <td>True</td> \n",
       "</tr>\n",
       "<tr>\n",
       "                <td>I used to be a developer by profession, but no longer am</td>                                                        <td>Other</td>                                          <td>-1.2903</td>   <td>0.0</td>  <td>-1.7646</td> <td>-0.816</td>   <td>True</td> \n",
       "</tr>\n",
       "</table>"
      ],
      "text/latex": [
       "\\begin{center}\n",
       "\\begin{tabular}{ccccccc}\n",
       "\\toprule\n",
       "                                   \\textbf{group1}                                    &                                    \\textbf{group2}                                    & \\textbf{meandiff} & \\textbf{p-adj} & \\textbf{lower} & \\textbf{upper} & \\textbf{reject}  \\\\\n",
       "\\midrule\n",
       "                            I am a developer by profession                            & I am not primarily a developer, but I write code sometimes as part of my work/studies &      -0.3095      &      0.0       &    -0.4605     &    -0.1584     &       True       \\\\\n",
       "                            I am a developer by profession                            &                I used to be a developer by profession, but no longer am               &      -0.0466      &     0.9751     &    -0.3315     &     0.2383     &      False       \\\\\n",
       "                            I am a developer by profession                            &                                         Other                                         &      -1.3368      &      0.0       &    -1.7197     &     -0.954     &       True       \\\\\n",
       "I am not primarily a developer, but I write code sometimes as part of my work/studies &                I used to be a developer by profession, but no longer am               &       0.2629      &     0.1458     &    -0.0553     &     0.5811     &      False       \\\\\n",
       "I am not primarily a developer, but I write code sometimes as part of my work/studies &                                         Other                                         &      -1.0274      &      0.0       &    -1.4356     &    -0.6192     &       True       \\\\\n",
       "               I used to be a developer by profession, but no longer am               &                                         Other                                         &      -1.2903      &      0.0       &    -1.7646     &     -0.816     &       True       \\\\\n",
       "\\bottomrule\n",
       "\\end{tabular}\n",
       "%\\caption{Multiple Comparison of Means - Tukey HSD, FWER=0.05}\n",
       "\\end{center}"
      ],
      "text/plain": [
       "<class 'statsmodels.iolib.table.SimpleTable'>"
      ]
     },
     "execution_count": 903,
     "metadata": {},
     "output_type": "execute_result"
    }
   ],
   "source": [
    "# Run Tukey HSD test to check significance for MainBranch\n",
    "tukey = pairwise_tukeyhsd(\n",
    "    endog=df_simplified['JobSat'],\n",
    "    groups=df_simplified['MainBranch_simplified'],\n",
    "    alpha=0.05\n",
    ")\n",
    "\n",
    "tukey.summary()"
   ]
  },
  {
   "cell_type": "code",
   "execution_count": 904,
   "id": "51b48e75-b395-40dd-845a-9503f70a4b0d",
   "metadata": {
    "collapsed": true,
    "jupyter": {
     "outputs_hidden": true,
     "source_hidden": true
    }
   },
   "outputs": [
    {
     "data": {
      "text/html": [
       "<table class=\"simpletable\">\n",
       "<caption>Multiple Comparison of Means - Tukey HSD, FWER=0.05</caption>\n",
       "<tr>\n",
       "      <th>group1</th>          <th>group2</th>      <th>meandiff</th>  <th>p-adj</th>  <th>lower</th>   <th>upper</th> <th>reject</th>\n",
       "</tr>\n",
       "<tr>\n",
       "  <td>18-24 years old</td> <td>25-34 years old</td>  <td>0.2197</td>    <td>0.0</td>  <td>0.0892</td>  <td>0.3502</td>  <td>True</td> \n",
       "</tr>\n",
       "<tr>\n",
       "  <td>18-24 years old</td> <td>35-44 years old</td>  <td>0.3256</td>    <td>0.0</td>  <td>0.1874</td>  <td>0.4638</td>  <td>True</td> \n",
       "</tr>\n",
       "<tr>\n",
       "  <td>18-24 years old</td> <td>45-54 years old</td>  <td>0.4524</td>    <td>0.0</td>  <td>0.2841</td>  <td>0.6208</td>  <td>True</td> \n",
       "</tr>\n",
       "<tr>\n",
       "  <td>18-24 years old</td> <td>55-64 years old</td>  <td>0.5657</td>    <td>0.0</td>  <td>0.3257</td>  <td>0.8057</td>  <td>True</td> \n",
       "</tr>\n",
       "<tr>\n",
       "  <td>18-24 years old</td>      <td>Other</td>       <td>0.9374</td>    <td>0.0</td>   <td>0.421</td>  <td>1.4538</td>  <td>True</td> \n",
       "</tr>\n",
       "<tr>\n",
       "  <td>25-34 years old</td> <td>35-44 years old</td>  <td>0.1059</td>  <td>0.0175</td> <td>0.0115</td>  <td>0.2003</td>  <td>True</td> \n",
       "</tr>\n",
       "<tr>\n",
       "  <td>25-34 years old</td> <td>45-54 years old</td>  <td>0.2328</td>    <td>0.0</td>   <td>0.098</td>  <td>0.3675</td>  <td>True</td> \n",
       "</tr>\n",
       "<tr>\n",
       "  <td>25-34 years old</td> <td>55-64 years old</td>   <td>0.346</td>  <td>0.0001</td> <td>0.1283</td>  <td>0.5637</td>  <td>True</td> \n",
       "</tr>\n",
       "<tr>\n",
       "  <td>25-34 years old</td>      <td>Other</td>       <td>0.7177</td>  <td>0.0008</td> <td>0.2113</td>  <td>1.2241</td>  <td>True</td> \n",
       "</tr>\n",
       "<tr>\n",
       "  <td>35-44 years old</td> <td>45-54 years old</td>  <td>0.1269</td>   <td>0.112</td> <td>-0.0153</td> <td>0.2691</td>  <td>False</td>\n",
       "</tr>\n",
       "<tr>\n",
       "  <td>35-44 years old</td> <td>55-64 years old</td>  <td>0.2401</td>  <td>0.0256</td> <td>0.0177</td>  <td>0.4626</td>  <td>True</td> \n",
       "</tr>\n",
       "<tr>\n",
       "  <td>35-44 years old</td>      <td>Other</td>       <td>0.6118</td>   <td>0.008</td> <td>0.1034</td>  <td>1.1203</td>  <td>True</td> \n",
       "</tr>\n",
       "<tr>\n",
       "  <td>45-54 years old</td> <td>55-64 years old</td>  <td>0.1133</td>  <td>0.7673</td> <td>-0.1291</td> <td>0.3556</td>  <td>False</td>\n",
       "</tr>\n",
       "<tr>\n",
       "  <td>45-54 years old</td>      <td>Other</td>       <td>0.4849</td>  <td>0.0812</td> <td>-0.0325</td> <td>1.0024</td>  <td>False</td>\n",
       "</tr>\n",
       "<tr>\n",
       "  <td>55-64 years old</td>      <td>Other</td>       <td>0.3717</td>  <td>0.3754</td> <td>-0.1733</td> <td>0.9167</td>  <td>False</td>\n",
       "</tr>\n",
       "</table>"
      ],
      "text/latex": [
       "\\begin{center}\n",
       "\\begin{tabular}{ccccccc}\n",
       "\\toprule\n",
       "\\textbf{group1} & \\textbf{group2} & \\textbf{meandiff} & \\textbf{p-adj} & \\textbf{lower} & \\textbf{upper} & \\textbf{reject}  \\\\\n",
       "\\midrule\n",
       "18-24 years old & 25-34 years old &       0.2197      &      0.0       &     0.0892     &     0.3502     &       True       \\\\\n",
       "18-24 years old & 35-44 years old &       0.3256      &      0.0       &     0.1874     &     0.4638     &       True       \\\\\n",
       "18-24 years old & 45-54 years old &       0.4524      &      0.0       &     0.2841     &     0.6208     &       True       \\\\\n",
       "18-24 years old & 55-64 years old &       0.5657      &      0.0       &     0.3257     &     0.8057     &       True       \\\\\n",
       "18-24 years old &      Other      &       0.9374      &      0.0       &     0.421      &     1.4538     &       True       \\\\\n",
       "25-34 years old & 35-44 years old &       0.1059      &     0.0175     &     0.0115     &     0.2003     &       True       \\\\\n",
       "25-34 years old & 45-54 years old &       0.2328      &      0.0       &     0.098      &     0.3675     &       True       \\\\\n",
       "25-34 years old & 55-64 years old &       0.346       &     0.0001     &     0.1283     &     0.5637     &       True       \\\\\n",
       "25-34 years old &      Other      &       0.7177      &     0.0008     &     0.2113     &     1.2241     &       True       \\\\\n",
       "35-44 years old & 45-54 years old &       0.1269      &     0.112      &    -0.0153     &     0.2691     &      False       \\\\\n",
       "35-44 years old & 55-64 years old &       0.2401      &     0.0256     &     0.0177     &     0.4626     &       True       \\\\\n",
       "35-44 years old &      Other      &       0.6118      &     0.008      &     0.1034     &     1.1203     &       True       \\\\\n",
       "45-54 years old & 55-64 years old &       0.1133      &     0.7673     &    -0.1291     &     0.3556     &      False       \\\\\n",
       "45-54 years old &      Other      &       0.4849      &     0.0812     &    -0.0325     &     1.0024     &      False       \\\\\n",
       "55-64 years old &      Other      &       0.3717      &     0.3754     &    -0.1733     &     0.9167     &      False       \\\\\n",
       "\\bottomrule\n",
       "\\end{tabular}\n",
       "%\\caption{Multiple Comparison of Means - Tukey HSD, FWER=0.05}\n",
       "\\end{center}"
      ],
      "text/plain": [
       "<class 'statsmodels.iolib.table.SimpleTable'>"
      ]
     },
     "execution_count": 904,
     "metadata": {},
     "output_type": "execute_result"
    }
   ],
   "source": [
    "# Run Tukey HSD test to check significance for Age\n",
    "tukey = pairwise_tukeyhsd(\n",
    "    endog=df_simplified['JobSat'],\n",
    "    groups=df_simplified['Age_simplified'],\n",
    "    alpha=0.05\n",
    ")\n",
    "\n",
    "tukey.summary()"
   ]
  },
  {
   "cell_type": "code",
   "execution_count": 905,
   "id": "dcb123fd-b5aa-458d-a6ed-3a1abc07279d",
   "metadata": {
    "collapsed": true,
    "jupyter": {
     "outputs_hidden": true,
     "source_hidden": true
    }
   },
   "outputs": [
    {
     "data": {
      "text/html": [
       "<table class=\"simpletable\">\n",
       "<caption>Multiple Comparison of Means - Tukey HSD, FWER=0.05</caption>\n",
       "<tr>\n",
       "                 <th>group1</th>                 <th>group2</th>   <th>meandiff</th>  <th>p-adj</th>  <th>lower</th>   <th>upper</th>  <th>reject</th>\n",
       "</tr>\n",
       "<tr>\n",
       "  <td>Hybrid (some remote, some in-person)</td> <td>In-person</td>  <td>-0.3166</td>   <td>0.0</td>  <td>-0.4041</td> <td>-0.2291</td>  <td>True</td> \n",
       "</tr>\n",
       "<tr>\n",
       "  <td>Hybrid (some remote, some in-person)</td>  <td>Remote</td>    <td>0.0986</td>  <td>0.0044</td> <td>0.0257</td>  <td>0.1715</td>   <td>True</td> \n",
       "</tr>\n",
       "<tr>\n",
       "                <td>In-person</td>               <td>Remote</td>    <td>0.4152</td>    <td>0.0</td>  <td>0.3243</td>  <td>0.5061</td>   <td>True</td> \n",
       "</tr>\n",
       "</table>"
      ],
      "text/latex": [
       "\\begin{center}\n",
       "\\begin{tabular}{ccccccc}\n",
       "\\toprule\n",
       "          \\textbf{group1}            & \\textbf{group2} & \\textbf{meandiff} & \\textbf{p-adj} & \\textbf{lower} & \\textbf{upper} & \\textbf{reject}  \\\\\n",
       "\\midrule\n",
       "Hybrid (some remote, some in-person) &    In-person    &      -0.3166      &      0.0       &    -0.4041     &    -0.2291     &       True       \\\\\n",
       "Hybrid (some remote, some in-person) &      Remote     &       0.0986      &     0.0044     &     0.0257     &     0.1715     &       True       \\\\\n",
       "             In-person               &      Remote     &       0.4152      &      0.0       &     0.3243     &     0.5061     &       True       \\\\\n",
       "\\bottomrule\n",
       "\\end{tabular}\n",
       "%\\caption{Multiple Comparison of Means - Tukey HSD, FWER=0.05}\n",
       "\\end{center}"
      ],
      "text/plain": [
       "<class 'statsmodels.iolib.table.SimpleTable'>"
      ]
     },
     "execution_count": 905,
     "metadata": {},
     "output_type": "execute_result"
    }
   ],
   "source": [
    "# Run Tukey HSD test to check significance for RemoteWork\n",
    "tukey = pairwise_tukeyhsd(\n",
    "    endog=df_simplified['JobSat'],\n",
    "    groups=df_simplified['RemoteWork'],\n",
    "    alpha=0.05\n",
    ")\n",
    "\n",
    "tukey.summary()"
   ]
  },
  {
   "cell_type": "code",
   "execution_count": 906,
   "id": "58431612-fd08-4891-ac20-d78eba10a813",
   "metadata": {
    "collapsed": true,
    "jupyter": {
     "outputs_hidden": true,
     "source_hidden": true
    }
   },
   "outputs": [
    {
     "data": {
      "text/html": [
       "<table class=\"simpletable\">\n",
       "<caption>Multiple Comparison of Means - Tukey HSD, FWER=0.05</caption>\n",
       "<tr>\n",
       "                                        <th>group1</th>                                                                             <th>group2</th>                                       <th>meandiff</th>  <th>p-adj</th>  <th>lower</th>   <th>upper</th>  <th>reject</th>\n",
       "</tr>\n",
       "<tr>\n",
       "                          <td>Associate degree (A.A., A.S., etc.)</td>                                           <td>Bachelor’s degree (B.A., B.S., B.Eng., etc.)</td>                     <td>-0.0273</td> <td>0.9999</td> <td>-0.271</td>  <td>0.2165</td>   <td>False</td>\n",
       "</tr>\n",
       "<tr>\n",
       "                          <td>Associate degree (A.A., A.S., etc.)</td>                                          <td>Master’s degree (M.A., M.S., M.Eng., MBA, etc.)</td>                   <td>0.0602</td>  <td>0.9917</td> <td>-0.1877</td> <td>0.3081</td>   <td>False</td>\n",
       "</tr>\n",
       "<tr>\n",
       "                          <td>Associate degree (A.A., A.S., etc.)</td>                                                               <td>Other</td>                                        <td>-0.0676</td> <td>0.9992</td> <td>-0.489</td>  <td>0.3538</td>   <td>False</td>\n",
       "</tr>\n",
       "<tr>\n",
       "                          <td>Associate degree (A.A., A.S., etc.)</td>                                          <td>Professional degree (JD, MD, Ph.D, Ed.D, etc.)</td>                    <td>0.1386</td>  <td>0.8167</td> <td>-0.1593</td> <td>0.4366</td>   <td>False</td>\n",
       "</tr>\n",
       "<tr>\n",
       "                          <td>Associate degree (A.A., A.S., etc.)</td>                        <td>Secondary school (e.g. American high school, German Realschule or Gymnasium, etc.)</td>  <td>-0.1388</td> <td>0.8482</td> <td>-0.4514</td> <td>0.1739</td>   <td>False</td>\n",
       "</tr>\n",
       "<tr>\n",
       "                          <td>Associate degree (A.A., A.S., etc.)</td>                                      <td>Some college/university study without earning a degree</td>                <td>-0.0667</td> <td>0.9907</td> <td>-0.3356</td> <td>0.2023</td>   <td>False</td>\n",
       "</tr>\n",
       "<tr>\n",
       "                     <td>Bachelor’s degree (B.A., B.S., B.Eng., etc.)</td>                                      <td>Master’s degree (M.A., M.S., M.Eng., MBA, etc.)</td>                   <td>0.0875</td>  <td>0.1006</td> <td>-0.0084</td> <td>0.1833</td>   <td>False</td>\n",
       "</tr>\n",
       "<tr>\n",
       "                     <td>Bachelor’s degree (B.A., B.S., B.Eng., etc.)</td>                                                           <td>Other</td>                                        <td>-0.0403</td> <td>0.9999</td> <td>-0.3943</td> <td>0.3137</td>   <td>False</td>\n",
       "</tr>\n",
       "<tr>\n",
       "                     <td>Bachelor’s degree (B.A., B.S., B.Eng., etc.)</td>                                      <td>Professional degree (JD, MD, Ph.D, Ed.D, etc.)</td>                    <td>0.1659</td>  <td>0.1382</td> <td>-0.0251</td> <td>0.3569</td>   <td>False</td>\n",
       "</tr>\n",
       "<tr>\n",
       "                     <td>Bachelor’s degree (B.A., B.S., B.Eng., etc.)</td>                    <td>Secondary school (e.g. American high school, German Realschule or Gymnasium, etc.)</td>  <td>-0.1115</td> <td>0.7196</td> <td>-0.3248</td> <td>0.1018</td>   <td>False</td>\n",
       "</tr>\n",
       "<tr>\n",
       "                     <td>Bachelor’s degree (B.A., B.S., B.Eng., etc.)</td>                                  <td>Some college/university study without earning a degree</td>                <td>-0.0394</td>  <td>0.983</td> <td>-0.1811</td> <td>0.1023</td>   <td>False</td>\n",
       "</tr>\n",
       "<tr>\n",
       "                    <td>Master’s degree (M.A., M.S., M.Eng., MBA, etc.)</td>                                                         <td>Other</td>                                        <td>-0.1278</td> <td>0.9406</td> <td>-0.4846</td>  <td>0.229</td>   <td>False</td>\n",
       "</tr>\n",
       "<tr>\n",
       "                    <td>Master’s degree (M.A., M.S., M.Eng., MBA, etc.)</td>                                    <td>Professional degree (JD, MD, Ph.D, Ed.D, etc.)</td>                    <td>0.0784</td>  <td>0.9024</td> <td>-0.1178</td> <td>0.2747</td>   <td>False</td>\n",
       "</tr>\n",
       "<tr>\n",
       "                    <td>Master’s degree (M.A., M.S., M.Eng., MBA, etc.)</td>                  <td>Secondary school (e.g. American high school, German Realschule or Gymnasium, etc.)</td>  <td>-0.199</td>  <td>0.1003</td> <td>-0.4169</td>  <td>0.019</td>   <td>False</td>\n",
       "</tr>\n",
       "<tr>\n",
       "                    <td>Master’s degree (M.A., M.S., M.Eng., MBA, etc.)</td>                                <td>Some college/university study without earning a degree</td>                <td>-0.1269</td> <td>0.1531</td> <td>-0.2755</td> <td>0.0218</td>   <td>False</td>\n",
       "</tr>\n",
       "<tr>\n",
       "                                         <td>Other</td>                                                         <td>Professional degree (JD, MD, Ph.D, Ed.D, etc.)</td>                    <td>0.2062</td>  <td>0.7165</td> <td>-0.187</td>  <td>0.5995</td>   <td>False</td>\n",
       "</tr>\n",
       "<tr>\n",
       "                                         <td>Other</td>                                       <td>Secondary school (e.g. American high school, German Realschule or Gymnasium, etc.)</td>  <td>-0.0712</td> <td>0.9986</td> <td>-0.4757</td> <td>0.3333</td>   <td>False</td>\n",
       "</tr>\n",
       "<tr>\n",
       "                                         <td>Other</td>                                                     <td>Some college/university study without earning a degree</td>                <td>0.0009</td>    <td>1.0</td>  <td>-0.3709</td> <td>0.3727</td>   <td>False</td>\n",
       "</tr>\n",
       "<tr>\n",
       "                    <td>Professional degree (JD, MD, Ph.D, Ed.D, etc.)</td>                   <td>Secondary school (e.g. American high school, German Realschule or Gymnasium, etc.)</td>  <td>-0.2774</td> <td>0.0442</td> <td>-0.5509</td> <td>-0.0039</td>  <td>True</td> \n",
       "</tr>\n",
       "<tr>\n",
       "                    <td>Professional degree (JD, MD, Ph.D, Ed.D, etc.)</td>                                 <td>Some college/university study without earning a degree</td>                <td>-0.2053</td> <td>0.0923</td> <td>-0.4276</td> <td>0.0169</td>   <td>False</td>\n",
       "</tr>\n",
       "<tr>\n",
       "  <td>Secondary school (e.g. American high school, German Realschule or Gymnasium, etc.)</td>               <td>Some college/university study without earning a degree</td>                <td>0.0721</td>  <td>0.9757</td> <td>-0.1696</td> <td>0.3137</td>   <td>False</td>\n",
       "</tr>\n",
       "</table>"
      ],
      "text/latex": [
       "\\begin{center}\n",
       "\\begin{tabular}{ccccccc}\n",
       "\\toprule\n",
       "                                 \\textbf{group1}                                   &                                  \\textbf{group2}                                   & \\textbf{meandiff} & \\textbf{p-adj} & \\textbf{lower} & \\textbf{upper} & \\textbf{reject}  \\\\\n",
       "\\midrule\n",
       "                       Associate degree (A.A., A.S., etc.)                         &                    Bachelor’s degree (B.A., B.S., B.Eng., etc.)                    &      -0.0273      &     0.9999     &     -0.271     &     0.2165     &      False       \\\\\n",
       "                       Associate degree (A.A., A.S., etc.)                         &                  Master’s degree (M.A., M.S., M.Eng., MBA, etc.)                   &       0.0602      &     0.9917     &    -0.1877     &     0.3081     &      False       \\\\\n",
       "                       Associate degree (A.A., A.S., etc.)                         &                                       Other                                        &      -0.0676      &     0.9992     &     -0.489     &     0.3538     &      False       \\\\\n",
       "                       Associate degree (A.A., A.S., etc.)                         &                   Professional degree (JD, MD, Ph.D, Ed.D, etc.)                   &       0.1386      &     0.8167     &    -0.1593     &     0.4366     &      False       \\\\\n",
       "                       Associate degree (A.A., A.S., etc.)                         & Secondary school (e.g. American high school, German Realschule or Gymnasium, etc.) &      -0.1388      &     0.8482     &    -0.4514     &     0.1739     &      False       \\\\\n",
       "                       Associate degree (A.A., A.S., etc.)                         &               Some college/university study without earning a degree               &      -0.0667      &     0.9907     &    -0.3356     &     0.2023     &      False       \\\\\n",
       "                   Bachelor’s degree (B.A., B.S., B.Eng., etc.)                    &                  Master’s degree (M.A., M.S., M.Eng., MBA, etc.)                   &       0.0875      &     0.1006     &    -0.0084     &     0.1833     &      False       \\\\\n",
       "                   Bachelor’s degree (B.A., B.S., B.Eng., etc.)                    &                                       Other                                        &      -0.0403      &     0.9999     &    -0.3943     &     0.3137     &      False       \\\\\n",
       "                   Bachelor’s degree (B.A., B.S., B.Eng., etc.)                    &                   Professional degree (JD, MD, Ph.D, Ed.D, etc.)                   &       0.1659      &     0.1382     &    -0.0251     &     0.3569     &      False       \\\\\n",
       "                   Bachelor’s degree (B.A., B.S., B.Eng., etc.)                    & Secondary school (e.g. American high school, German Realschule or Gymnasium, etc.) &      -0.1115      &     0.7196     &    -0.3248     &     0.1018     &      False       \\\\\n",
       "                   Bachelor’s degree (B.A., B.S., B.Eng., etc.)                    &               Some college/university study without earning a degree               &      -0.0394      &     0.983      &    -0.1811     &     0.1023     &      False       \\\\\n",
       "                 Master’s degree (M.A., M.S., M.Eng., MBA, etc.)                   &                                       Other                                        &      -0.1278      &     0.9406     &    -0.4846     &     0.229      &      False       \\\\\n",
       "                 Master’s degree (M.A., M.S., M.Eng., MBA, etc.)                   &                   Professional degree (JD, MD, Ph.D, Ed.D, etc.)                   &       0.0784      &     0.9024     &    -0.1178     &     0.2747     &      False       \\\\\n",
       "                 Master’s degree (M.A., M.S., M.Eng., MBA, etc.)                   & Secondary school (e.g. American high school, German Realschule or Gymnasium, etc.) &       -0.199      &     0.1003     &    -0.4169     &     0.019      &      False       \\\\\n",
       "                 Master’s degree (M.A., M.S., M.Eng., MBA, etc.)                   &               Some college/university study without earning a degree               &      -0.1269      &     0.1531     &    -0.2755     &     0.0218     &      False       \\\\\n",
       "                                      Other                                        &                   Professional degree (JD, MD, Ph.D, Ed.D, etc.)                   &       0.2062      &     0.7165     &     -0.187     &     0.5995     &      False       \\\\\n",
       "                                      Other                                        & Secondary school (e.g. American high school, German Realschule or Gymnasium, etc.) &      -0.0712      &     0.9986     &    -0.4757     &     0.3333     &      False       \\\\\n",
       "                                      Other                                        &               Some college/university study without earning a degree               &       0.0009      &      1.0       &    -0.3709     &     0.3727     &      False       \\\\\n",
       "                  Professional degree (JD, MD, Ph.D, Ed.D, etc.)                   & Secondary school (e.g. American high school, German Realschule or Gymnasium, etc.) &      -0.2774      &     0.0442     &    -0.5509     &    -0.0039     &       True       \\\\\n",
       "                  Professional degree (JD, MD, Ph.D, Ed.D, etc.)                   &               Some college/university study without earning a degree               &      -0.2053      &     0.0923     &    -0.4276     &     0.0169     &      False       \\\\\n",
       "Secondary school (e.g. American high school, German Realschule or Gymnasium, etc.) &               Some college/university study without earning a degree               &       0.0721      &     0.9757     &    -0.1696     &     0.3137     &      False       \\\\\n",
       "\\bottomrule\n",
       "\\end{tabular}\n",
       "%\\caption{Multiple Comparison of Means - Tukey HSD, FWER=0.05}\n",
       "\\end{center}"
      ],
      "text/plain": [
       "<class 'statsmodels.iolib.table.SimpleTable'>"
      ]
     },
     "execution_count": 906,
     "metadata": {},
     "output_type": "execute_result"
    }
   ],
   "source": [
    "# Run Tukey HSD test to check significance for EdLevel\n",
    "tukey = pairwise_tukeyhsd(\n",
    "    endog=df_simplified['JobSat'],\n",
    "    groups=df_simplified['EdLevel_simplified'],\n",
    "    alpha=0.05\n",
    ")\n",
    "\n",
    "tukey.summary()"
   ]
  },
  {
   "cell_type": "code",
   "execution_count": 907,
   "id": "5b7540c3-c2f8-4826-bac6-cc63714e4ce9",
   "metadata": {
    "collapsed": true,
    "jupyter": {
     "outputs_hidden": true,
     "source_hidden": true
    }
   },
   "outputs": [
    {
     "data": {
      "text/html": [
       "<table class=\"simpletable\">\n",
       "<caption>Multiple Comparison of Means - Tukey HSD, FWER=0.05</caption>\n",
       "<tr>\n",
       "                         <th>group1</th>                                               <th>group2</th>                        <th>meandiff</th>  <th>p-adj</th>  <th>lower</th>   <th>upper</th>  <th>reject</th>\n",
       "</tr>\n",
       "<tr>\n",
       "                        <td>Australia</td>                                             <td>Austria</td>                        <td>0.3063</td>  <td>0.9083</td> <td>-0.2462</td> <td>0.8588</td>   <td>False</td>\n",
       "</tr>\n",
       "<tr>\n",
       "                        <td>Australia</td>                                             <td>Brazil</td>                         <td>0.1812</td>   <td>0.997</td> <td>-0.2734</td> <td>0.6357</td>   <td>False</td>\n",
       "</tr>\n",
       "<tr>\n",
       "                        <td>Australia</td>                                             <td>Canada</td>                         <td>0.2356</td>  <td>0.9017</td> <td>-0.1858</td> <td>0.6569</td>   <td>False</td>\n",
       "</tr>\n",
       "<tr>\n",
       "                        <td>Australia</td>                                             <td>France</td>                         <td>0.0792</td>    <td>1.0</td>  <td>-0.3419</td> <td>0.5004</td>   <td>False</td>\n",
       "</tr>\n",
       "<tr>\n",
       "                        <td>Australia</td>                                             <td>Germany</td>                        <td>-0.1153</td> <td>0.9999</td> <td>-0.4865</td> <td>0.2559</td>   <td>False</td>\n",
       "</tr>\n",
       "<tr>\n",
       "                        <td>Australia</td>                                              <td>India</td>                         <td>-0.2266</td> <td>0.8281</td> <td>-0.6028</td> <td>0.1497</td>   <td>False</td>\n",
       "</tr>\n",
       "<tr>\n",
       "                        <td>Australia</td>                                             <td>Israel</td>                         <td>0.4628</td>   <td>0.301</td> <td>-0.1081</td> <td>1.0337</td>   <td>False</td>\n",
       "</tr>\n",
       "<tr>\n",
       "                        <td>Australia</td>                                              <td>Italy</td>                         <td>-0.2085</td> <td>0.9854</td> <td>-0.6644</td> <td>0.2475</td>   <td>False</td>\n",
       "</tr>\n",
       "<tr>\n",
       "                        <td>Australia</td>                                           <td>Netherlands</td>                      <td>0.2056</td>  <td>0.9884</td> <td>-0.2537</td>  <td>0.665</td>   <td>False</td>\n",
       "</tr>\n",
       "<tr>\n",
       "                        <td>Australia</td>                                              <td>Other</td>                         <td>-0.0969</td>   <td>1.0</td>  <td>-0.4432</td> <td>0.2495</td>   <td>False</td>\n",
       "</tr>\n",
       "<tr>\n",
       "                        <td>Australia</td>                                             <td>Poland</td>                         <td>-0.1308</td>   <td>1.0</td>  <td>-0.6041</td> <td>0.3425</td>   <td>False</td>\n",
       "</tr>\n",
       "<tr>\n",
       "                        <td>Australia</td>                                       <td>Russian Federation</td>                   <td>-0.081</td>    <td>1.0</td>  <td>-0.613</td>  <td>0.4509</td>   <td>False</td>\n",
       "</tr>\n",
       "<tr>\n",
       "                        <td>Australia</td>                                              <td>Spain</td>                         <td>-0.0459</td>   <td>1.0</td>  <td>-0.5094</td> <td>0.4175</td>   <td>False</td>\n",
       "</tr>\n",
       "<tr>\n",
       "                        <td>Australia</td>                                             <td>Sweden</td>                         <td>0.2031</td>  <td>0.9935</td> <td>-0.2744</td> <td>0.6806</td>   <td>False</td>\n",
       "</tr>\n",
       "<tr>\n",
       "                        <td>Australia</td>                                           <td>Switzerland</td>                       <td>0.095</td>    <td>1.0</td>   <td>-0.42</td>  <td>0.6101</td>   <td>False</td>\n",
       "</tr>\n",
       "<tr>\n",
       "                        <td>Australia</td>                                             <td>Ukraine</td>                        <td>0.3281</td>  <td>0.3574</td> <td>-0.0891</td> <td>0.7454</td>   <td>False</td>\n",
       "</tr>\n",
       "<tr>\n",
       "                        <td>Australia</td>                      <td>United Kingdom of Great Britain and Northern Ireland</td>  <td>-0.1737</td> <td>0.9874</td> <td>-0.5591</td> <td>0.2117</td>   <td>False</td>\n",
       "</tr>\n",
       "<tr>\n",
       "                        <td>Australia</td>                                    <td>United States of America</td>                <td>0.0362</td>    <td>1.0</td>  <td>-0.3128</td> <td>0.3853</td>   <td>False</td>\n",
       "</tr>\n",
       "<tr>\n",
       "                         <td>Austria</td>                                              <td>Brazil</td>                         <td>-0.1251</td>   <td>1.0</td>  <td>-0.6646</td> <td>0.4143</td>   <td>False</td>\n",
       "</tr>\n",
       "<tr>\n",
       "                         <td>Austria</td>                                              <td>Canada</td>                         <td>-0.0707</td>   <td>1.0</td>  <td>-0.5825</td>  <td>0.441</td>   <td>False</td>\n",
       "</tr>\n",
       "<tr>\n",
       "                         <td>Austria</td>                                              <td>France</td>                         <td>-0.2271</td> <td>0.9894</td> <td>-0.7387</td> <td>0.2845</td>   <td>False</td>\n",
       "</tr>\n",
       "<tr>\n",
       "                         <td>Austria</td>                                              <td>Germany</td>                        <td>-0.4216</td> <td>0.1493</td> <td>-0.8929</td> <td>0.0497</td>   <td>False</td>\n",
       "</tr>\n",
       "<tr>\n",
       "                         <td>Austria</td>                                               <td>India</td>                         <td>-0.5329</td>  <td>0.011</td> <td>-1.0082</td> <td>-0.0576</td>  <td>True</td> \n",
       "</tr>\n",
       "<tr>\n",
       "                         <td>Austria</td>                                              <td>Israel</td>                         <td>0.1565</td>    <td>1.0</td>  <td>-0.4841</td>  <td>0.797</td>   <td>False</td>\n",
       "</tr>\n",
       "<tr>\n",
       "                         <td>Austria</td>                                               <td>Italy</td>                         <td>-0.5148</td> <td>0.0844</td> <td>-1.0553</td> <td>0.0258</td>   <td>False</td>\n",
       "</tr>\n",
       "<tr>\n",
       "                         <td>Austria</td>                                            <td>Netherlands</td>                      <td>-0.1007</td>   <td>1.0</td>  <td>-0.6442</td> <td>0.4428</td>   <td>False</td>\n",
       "</tr>\n",
       "<tr>\n",
       "                         <td>Austria</td>                                               <td>Other</td>                         <td>-0.4032</td> <td>0.1529</td> <td>-0.8552</td> <td>0.0488</td>   <td>False</td>\n",
       "</tr>\n",
       "<tr>\n",
       "                         <td>Austria</td>                                              <td>Poland</td>                         <td>-0.4371</td> <td>0.3555</td> <td>-0.9924</td> <td>0.1182</td>   <td>False</td>\n",
       "</tr>\n",
       "<tr>\n",
       "                         <td>Austria</td>                                        <td>Russian Federation</td>                   <td>-0.3873</td> <td>0.7467</td> <td>-0.9934</td> <td>0.2188</td>   <td>False</td>\n",
       "</tr>\n",
       "<tr>\n",
       "                         <td>Austria</td>                                               <td>Spain</td>                         <td>-0.3522</td> <td>0.7348</td> <td>-0.8992</td> <td>0.1947</td>   <td>False</td>\n",
       "</tr>\n",
       "<tr>\n",
       "                         <td>Austria</td>                                              <td>Sweden</td>                         <td>-0.1032</td>   <td>1.0</td>  <td>-0.6622</td> <td>0.4557</td>   <td>False</td>\n",
       "</tr>\n",
       "<tr>\n",
       "                         <td>Austria</td>                                            <td>Switzerland</td>                      <td>-0.2113</td> <td>0.9993</td> <td>-0.8026</td>  <td>0.38</td>    <td>False</td>\n",
       "</tr>\n",
       "<tr>\n",
       "                         <td>Austria</td>                                              <td>Ukraine</td>                        <td>0.0218</td>    <td>1.0</td>  <td>-0.4866</td> <td>0.5303</td>   <td>False</td>\n",
       "</tr>\n",
       "<tr>\n",
       "                         <td>Austria</td>                       <td>United Kingdom of Great Britain and Northern Ireland</td>   <td>-0.48</td>  <td>0.0531</td> <td>-0.9626</td> <td>0.0025</td>   <td>False</td>\n",
       "</tr>\n",
       "<tr>\n",
       "                         <td>Austria</td>                                     <td>United States of America</td>                <td>-0.2701</td> <td>0.8425</td> <td>-0.7242</td>  <td>0.184</td>   <td>False</td>\n",
       "</tr>\n",
       "<tr>\n",
       "                         <td>Brazil</td>                                               <td>Canada</td>                         <td>0.0544</td>    <td>1.0</td>  <td>-0.3496</td> <td>0.4584</td>   <td>False</td>\n",
       "</tr>\n",
       "<tr>\n",
       "                         <td>Brazil</td>                                               <td>France</td>                         <td>-0.1019</td>   <td>1.0</td>  <td>-0.5057</td> <td>0.3019</td>   <td>False</td>\n",
       "</tr>\n",
       "<tr>\n",
       "                         <td>Brazil</td>                                               <td>Germany</td>                        <td>-0.2965</td> <td>0.2328</td> <td>-0.6479</td>  <td>0.055</td>   <td>False</td>\n",
       "</tr>\n",
       "<tr>\n",
       "                         <td>Brazil</td>                                                <td>India</td>                         <td>-0.4077</td> <td>0.0082</td> <td>-0.7645</td> <td>-0.051</td>   <td>True</td> \n",
       "</tr>\n",
       "<tr>\n",
       "                         <td>Brazil</td>                                               <td>Israel</td>                         <td>0.2816</td>  <td>0.9603</td> <td>-0.2767</td> <td>0.8399</td>   <td>False</td>\n",
       "</tr>\n",
       "<tr>\n",
       "                         <td>Brazil</td>                                                <td>Italy</td>                         <td>-0.3896</td> <td>0.1621</td> <td>-0.8296</td> <td>0.0504</td>   <td>False</td>\n",
       "</tr>\n",
       "<tr>\n",
       "                         <td>Brazil</td>                                             <td>Netherlands</td>                      <td>0.0245</td>    <td>1.0</td>  <td>-0.4191</td>  <td>0.468</td>   <td>False</td>\n",
       "</tr>\n",
       "<tr>\n",
       "                         <td>Brazil</td>                                                <td>Other</td>                         <td>-0.278</td>  <td>0.2113</td> <td>-0.6031</td>  <td>0.047</td>   <td>False</td>\n",
       "</tr>\n",
       "<tr>\n",
       "                         <td>Brazil</td>                                               <td>Poland</td>                         <td>-0.3119</td> <td>0.6385</td> <td>-0.7699</td>  <td>0.146</td>   <td>False</td>\n",
       "</tr>\n",
       "<tr>\n",
       "                         <td>Brazil</td>                                         <td>Russian Federation</td>                   <td>-0.2622</td> <td>0.9593</td> <td>-0.7805</td> <td>0.2562</td>   <td>False</td>\n",
       "</tr>\n",
       "<tr>\n",
       "                         <td>Brazil</td>                                                <td>Spain</td>                         <td>-0.2271</td> <td>0.9582</td> <td>-0.6749</td> <td>0.2207</td>   <td>False</td>\n",
       "</tr>\n",
       "<tr>\n",
       "                         <td>Brazil</td>                                               <td>Sweden</td>                         <td>0.0219</td>    <td>1.0</td>  <td>-0.4404</td> <td>0.4842</td>   <td>False</td>\n",
       "</tr>\n",
       "<tr>\n",
       "                         <td>Brazil</td>                                             <td>Switzerland</td>                      <td>-0.0861</td>   <td>1.0</td>  <td>-0.5871</td> <td>0.4148</td>   <td>False</td>\n",
       "</tr>\n",
       "<tr>\n",
       "                         <td>Brazil</td>                                               <td>Ukraine</td>                         <td>0.147</td>  <td>0.9989</td> <td>-0.2528</td> <td>0.5468</td>   <td>False</td>\n",
       "</tr>\n",
       "<tr>\n",
       "                         <td>Brazil</td>                        <td>United Kingdom of Great Britain and Northern Ireland</td>  <td>-0.3549</td> <td>0.0709</td> <td>-0.7212</td> <td>0.0115</td>   <td>False</td>\n",
       "</tr>\n",
       "<tr>\n",
       "                         <td>Brazil</td>                                      <td>United States of America</td>                <td>-0.1449</td> <td>0.9899</td> <td>-0.4729</td>  <td>0.183</td>   <td>False</td>\n",
       "</tr>\n",
       "<tr>\n",
       "                         <td>Canada</td>                                               <td>France</td>                         <td>-0.1563</td> <td>0.9932</td> <td>-0.5224</td> <td>0.2097</td>   <td>False</td>\n",
       "</tr>\n",
       "<tr>\n",
       "                         <td>Canada</td>                                               <td>Germany</td>                        <td>-0.3509</td> <td>0.0083</td> <td>-0.6581</td> <td>-0.0436</td>  <td>True</td> \n",
       "</tr>\n",
       "<tr>\n",
       "                         <td>Canada</td>                                                <td>India</td>                         <td>-0.4621</td>   <td>0.0</td>  <td>-0.7755</td> <td>-0.1488</td>  <td>True</td> \n",
       "</tr>\n",
       "<tr>\n",
       "                         <td>Canada</td>                                               <td>Israel</td>                         <td>0.2272</td>  <td>0.9931</td> <td>-0.3044</td> <td>0.7588</td>   <td>False</td>\n",
       "</tr>\n",
       "<tr>\n",
       "                         <td>Canada</td>                                                <td>Italy</td>                         <td>-0.444</td>  <td>0.0156</td> <td>-0.8496</td> <td>-0.0385</td>  <td>True</td> \n",
       "</tr>\n",
       "<tr>\n",
       "                         <td>Canada</td>                                             <td>Netherlands</td>                       <td>-0.03</td>    <td>1.0</td>  <td>-0.4394</td> <td>0.3795</td>   <td>False</td>\n",
       "</tr>\n",
       "<tr>\n",
       "                         <td>Canada</td>                                                <td>Other</td>                         <td>-0.3324</td> <td>0.0035</td> <td>-0.6092</td> <td>-0.0557</td>  <td>True</td> \n",
       "</tr>\n",
       "<tr>\n",
       "                         <td>Canada</td>                                               <td>Poland</td>                         <td>-0.3664</td> <td>0.1996</td> <td>-0.7913</td> <td>0.0586</td>   <td>False</td>\n",
       "</tr>\n",
       "<tr>\n",
       "                         <td>Canada</td>                                         <td>Russian Federation</td>                   <td>-0.3166</td> <td>0.7279</td> <td>-0.8061</td> <td>0.1729</td>   <td>False</td>\n",
       "</tr>\n",
       "<tr>\n",
       "                         <td>Canada</td>                                                <td>Spain</td>                         <td>-0.2815</td>  <td>0.642</td> <td>-0.6955</td> <td>0.1325</td>   <td>False</td>\n",
       "</tr>\n",
       "<tr>\n",
       "                         <td>Canada</td>                                               <td>Sweden</td>                         <td>-0.0325</td>   <td>1.0</td>  <td>-0.4622</td> <td>0.3972</td>   <td>False</td>\n",
       "</tr>\n",
       "<tr>\n",
       "                         <td>Canada</td>                                             <td>Switzerland</td>                      <td>-0.1406</td> <td>0.9999</td> <td>-0.6116</td> <td>0.3305</td>   <td>False</td>\n",
       "</tr>\n",
       "<tr>\n",
       "                         <td>Canada</td>                                               <td>Ukraine</td>                        <td>0.0926</td>    <td>1.0</td>  <td>-0.269</td>  <td>0.4542</td>   <td>False</td>\n",
       "</tr>\n",
       "<tr>\n",
       "                         <td>Canada</td>                        <td>United Kingdom of Great Britain and Northern Ireland</td>  <td>-0.4093</td> <td>0.0014</td> <td>-0.7336</td> <td>-0.085</td>   <td>True</td> \n",
       "</tr>\n",
       "<tr>\n",
       "                         <td>Canada</td>                                      <td>United States of America</td>                <td>-0.1993</td> <td>0.5553</td> <td>-0.4795</td> <td>0.0808</td>   <td>False</td>\n",
       "</tr>\n",
       "<tr>\n",
       "                         <td>France</td>                                               <td>Germany</td>                        <td>-0.1945</td> <td>0.7595</td> <td>-0.5015</td> <td>0.1125</td>   <td>False</td>\n",
       "</tr>\n",
       "<tr>\n",
       "                         <td>France</td>                                                <td>India</td>                         <td>-0.3058</td> <td>0.0648</td> <td>-0.6189</td> <td>0.0073</td>   <td>False</td>\n",
       "</tr>\n",
       "<tr>\n",
       "                         <td>France</td>                                               <td>Israel</td>                         <td>0.3835</td>  <td>0.5274</td> <td>-0.1479</td> <td>0.9149</td>   <td>False</td>\n",
       "</tr>\n",
       "<tr>\n",
       "                         <td>France</td>                                                <td>Italy</td>                         <td>-0.2877</td> <td>0.5605</td> <td>-0.6931</td> <td>0.1177</td>   <td>False</td>\n",
       "</tr>\n",
       "<tr>\n",
       "                         <td>France</td>                                             <td>Netherlands</td>                      <td>0.1264</td>  <td>0.9999</td> <td>-0.2829</td> <td>0.5356</td>   <td>False</td>\n",
       "</tr>\n",
       "<tr>\n",
       "                         <td>France</td>                                                <td>Other</td>                         <td>-0.1761</td> <td>0.7515</td> <td>-0.4526</td> <td>0.1003</td>   <td>False</td>\n",
       "</tr>\n",
       "<tr>\n",
       "                         <td>France</td>                                               <td>Poland</td>                          <td>-0.21</td>  <td>0.9673</td> <td>-0.6348</td> <td>0.2148</td>   <td>False</td>\n",
       "</tr>\n",
       "<tr>\n",
       "                         <td>France</td>                                         <td>Russian Federation</td>                   <td>-0.1603</td> <td>0.9998</td> <td>-0.6496</td> <td>0.3291</td>   <td>False</td>\n",
       "</tr>\n",
       "<tr>\n",
       "                         <td>France</td>                                                <td>Spain</td>                         <td>-0.1252</td> <td>0.9999</td> <td>-0.539</td>  <td>0.2886</td>   <td>False</td>\n",
       "</tr>\n",
       "<tr>\n",
       "                         <td>France</td>                                               <td>Sweden</td>                         <td>0.1238</td>    <td>1.0</td>  <td>-0.3057</td> <td>0.5534</td>   <td>False</td>\n",
       "</tr>\n",
       "<tr>\n",
       "                         <td>France</td>                                             <td>Switzerland</td>                      <td>0.0158</td>    <td>1.0</td>  <td>-0.4551</td> <td>0.4867</td>   <td>False</td>\n",
       "</tr>\n",
       "<tr>\n",
       "                         <td>France</td>                                               <td>Ukraine</td>                        <td>0.2489</td>  <td>0.6181</td> <td>-0.1125</td> <td>0.6103</td>   <td>False</td>\n",
       "</tr>\n",
       "<tr>\n",
       "                         <td>France</td>                        <td>United Kingdom of Great Britain and Northern Ireland</td>  <td>-0.253</td>  <td>0.3712</td> <td>-0.577</td>   <td>0.071</td>   <td>False</td>\n",
       "</tr>\n",
       "<tr>\n",
       "                         <td>France</td>                                      <td>United States of America</td>                <td>-0.043</td>    <td>1.0</td>  <td>-0.3228</td> <td>0.2368</td>   <td>False</td>\n",
       "</tr>\n",
       "<tr>\n",
       "                         <td>Germany</td>                                               <td>India</td>                         <td>-0.1113</td> <td>0.9842</td> <td>-0.353</td>  <td>0.1305</td>   <td>False</td>\n",
       "</tr>\n",
       "<tr>\n",
       "                         <td>Germany</td>                                              <td>Israel</td>                         <td>0.5781</td>  <td>0.0053</td> <td>0.0853</td>  <td>1.0708</td>   <td>True</td> \n",
       "</tr>\n",
       "<tr>\n",
       "                         <td>Germany</td>                                               <td>Italy</td>                         <td>-0.0932</td>   <td>1.0</td>  <td>-0.4463</td>  <td>0.26</td>    <td>False</td>\n",
       "</tr>\n",
       "<tr>\n",
       "                         <td>Germany</td>                                            <td>Netherlands</td>                      <td>0.3209</td>  <td>0.1454</td> <td>-0.0367</td> <td>0.6785</td>   <td>False</td>\n",
       "</tr>\n",
       "<tr>\n",
       "                         <td>Germany</td>                                               <td>Other</td>                         <td>0.0184</td>    <td>1.0</td>  <td>-0.1735</td> <td>0.2103</td>   <td>False</td>\n",
       "</tr>\n",
       "<tr>\n",
       "                         <td>Germany</td>                                              <td>Poland</td>                         <td>-0.0155</td>   <td>1.0</td>  <td>-0.3908</td> <td>0.3598</td>   <td>False</td>\n",
       "</tr>\n",
       "<tr>\n",
       "                         <td>Germany</td>                                        <td>Russian Federation</td>                   <td>0.0343</td>    <td>1.0</td>  <td>-0.4128</td> <td>0.4813</td>   <td>False</td>\n",
       "</tr>\n",
       "<tr>\n",
       "                         <td>Germany</td>                                               <td>Spain</td>                         <td>0.0694</td>    <td>1.0</td>  <td>-0.2935</td> <td>0.4322</td>   <td>False</td>\n",
       "</tr>\n",
       "<tr>\n",
       "                         <td>Germany</td>                                              <td>Sweden</td>                         <td>0.3184</td>  <td>0.2469</td> <td>-0.0623</td>  <td>0.699</td>   <td>False</td>\n",
       "</tr>\n",
       "<tr>\n",
       "                         <td>Germany</td>                                            <td>Switzerland</td>                      <td>0.2103</td>  <td>0.9683</td> <td>-0.2165</td> <td>0.6371</td>   <td>False</td>\n",
       "</tr>\n",
       "<tr>\n",
       "                         <td>Germany</td>                                              <td>Ukraine</td>                        <td>0.4434</td>    <td>0.0</td>  <td>0.1418</td>  <td>0.7451</td>   <td>True</td> \n",
       "</tr>\n",
       "<tr>\n",
       "                         <td>Germany</td>                       <td>United Kingdom of Great Britain and Northern Ireland</td>  <td>-0.0584</td>   <td>1.0</td>  <td>-0.3141</td> <td>0.1973</td>   <td>False</td>\n",
       "</tr>\n",
       "<tr>\n",
       "                         <td>Germany</td>                                     <td>United States of America</td>                <td>0.1515</td>  <td>0.3981</td> <td>-0.0452</td> <td>0.3483</td>   <td>False</td>\n",
       "</tr>\n",
       "<tr>\n",
       "                          <td>India</td>                                               <td>Israel</td>                         <td>0.6893</td>  <td>0.0002</td> <td>0.1928</td>  <td>1.1859</td>   <td>True</td> \n",
       "</tr>\n",
       "<tr>\n",
       "                          <td>India</td>                                                <td>Italy</td>                         <td>0.0181</td>    <td>1.0</td>  <td>-0.3404</td> <td>0.3766</td>   <td>False</td>\n",
       "</tr>\n",
       "<tr>\n",
       "                          <td>India</td>                                             <td>Netherlands</td>                      <td>0.4322</td>  <td>0.0041</td> <td>0.0693</td>  <td>0.7951</td>   <td>True</td> \n",
       "</tr>\n",
       "<tr>\n",
       "                          <td>India</td>                                                <td>Other</td>                         <td>0.1297</td>   <td>0.736</td> <td>-0.0719</td> <td>0.3312</td>   <td>False</td>\n",
       "</tr>\n",
       "<tr>\n",
       "                          <td>India</td>                                               <td>Poland</td>                         <td>0.0958</td>    <td>1.0</td>  <td>-0.2845</td> <td>0.4761</td>   <td>False</td>\n",
       "</tr>\n",
       "<tr>\n",
       "                          <td>India</td>                                         <td>Russian Federation</td>                   <td>0.1455</td>  <td>0.9998</td> <td>-0.3057</td> <td>0.5968</td>   <td>False</td>\n",
       "</tr>\n",
       "<tr>\n",
       "                          <td>India</td>                                                <td>Spain</td>                         <td>0.1806</td>  <td>0.9695</td> <td>-0.1874</td> <td>0.5487</td>   <td>False</td>\n",
       "</tr>\n",
       "<tr>\n",
       "                          <td>India</td>                                               <td>Sweden</td>                         <td>0.4296</td>  <td>0.0121</td>  <td>0.044</td>  <td>0.8153</td>   <td>True</td> \n",
       "</tr>\n",
       "<tr>\n",
       "                          <td>India</td>                                             <td>Switzerland</td>                      <td>0.3216</td>  <td>0.4617</td> <td>-0.1096</td> <td>0.7528</td>   <td>False</td>\n",
       "</tr>\n",
       "<tr>\n",
       "                          <td>India</td>                                               <td>Ukraine</td>                        <td>0.5547</td>    <td>0.0</td>  <td>0.2468</td>  <td>0.8626</td>   <td>True</td> \n",
       "</tr>\n",
       "<tr>\n",
       "                          <td>India</td>                        <td>United Kingdom of Great Britain and Northern Ireland</td>  <td>0.0529</td>    <td>1.0</td>  <td>-0.2102</td> <td>0.3159</td>   <td>False</td>\n",
       "</tr>\n",
       "<tr>\n",
       "                          <td>India</td>                                      <td>United States of America</td>                <td>0.2628</td>  <td>0.0011</td> <td>0.0566</td>   <td>0.469</td>   <td>True</td> \n",
       "</tr>\n",
       "<tr>\n",
       "                         <td>Israel</td>                                                <td>Italy</td>                         <td>-0.6712</td> <td>0.0036</td> <td>-1.2306</td> <td>-0.1119</td>  <td>True</td> \n",
       "</tr>\n",
       "<tr>\n",
       "                         <td>Israel</td>                                             <td>Netherlands</td>                      <td>-0.2571</td> <td>0.9853</td> <td>-0.8193</td>  <td>0.305</td>   <td>False</td>\n",
       "</tr>\n",
       "<tr>\n",
       "                         <td>Israel</td>                                                <td>Other</td>                         <td>-0.5596</td> <td>0.0048</td> <td>-1.034</td>  <td>-0.0853</td>  <td>True</td> \n",
       "</tr>\n",
       "<tr>\n",
       "                         <td>Israel</td>                                               <td>Poland</td>                         <td>-0.5935</td> <td>0.0332</td> <td>-1.1672</td> <td>-0.0199</td>  <td>True</td> \n",
       "</tr>\n",
       "<tr>\n",
       "                         <td>Israel</td>                                         <td>Russian Federation</td>                   <td>-0.5438</td> <td>0.1815</td> <td>-1.1667</td> <td>0.0791</td>   <td>False</td>\n",
       "</tr>\n",
       "<tr>\n",
       "                         <td>Israel</td>                                                <td>Spain</td>                         <td>-0.5087</td> <td>0.1425</td> <td>-1.0742</td> <td>0.0568</td>   <td>False</td>\n",
       "</tr>\n",
       "<tr>\n",
       "                         <td>Israel</td>                                               <td>Sweden</td>                         <td>-0.2597</td> <td>0.9877</td> <td>-0.8368</td> <td>0.3174</td>   <td>False</td>\n",
       "</tr>\n",
       "<tr>\n",
       "                         <td>Israel</td>                                             <td>Switzerland</td>                      <td>-0.3677</td> <td>0.8239</td> <td>-0.9763</td> <td>0.2408</td>   <td>False</td>\n",
       "</tr>\n",
       "<tr>\n",
       "                         <td>Israel</td>                                               <td>Ukraine</td>                        <td>-0.1346</td>   <td>1.0</td>  <td>-0.663</td>  <td>0.3937</td>   <td>False</td>\n",
       "</tr>\n",
       "<tr>\n",
       "                         <td>Israel</td>                        <td>United Kingdom of Great Britain and Northern Ireland</td>  <td>-0.6365</td> <td>0.0013</td>  <td>-1.14</td>  <td>-0.1329</td>  <td>True</td> \n",
       "</tr>\n",
       "<tr>\n",
       "                         <td>Israel</td>                                      <td>United States of America</td>                <td>-0.4265</td>  <td>0.148</td> <td>-0.9029</td> <td>0.0498</td>   <td>False</td>\n",
       "</tr>\n",
       "<tr>\n",
       "                          <td>Italy</td>                                             <td>Netherlands</td>                      <td>0.4141</td>  <td>0.1053</td> <td>-0.0309</td>  <td>0.859</td>   <td>False</td>\n",
       "</tr>\n",
       "<tr>\n",
       "                          <td>Italy</td>                                                <td>Other</td>                         <td>0.1116</td>  <td>0.9996</td> <td>-0.2154</td> <td>0.4386</td>   <td>False</td>\n",
       "</tr>\n",
       "<tr>\n",
       "                          <td>Italy</td>                                               <td>Poland</td>                         <td>0.0777</td>    <td>1.0</td>  <td>-0.3816</td>  <td>0.537</td>   <td>False</td>\n",
       "</tr>\n",
       "<tr>\n",
       "                          <td>Italy</td>                                         <td>Russian Federation</td>                   <td>0.1274</td>    <td>1.0</td>  <td>-0.3921</td>  <td>0.647</td>   <td>False</td>\n",
       "</tr>\n",
       "<tr>\n",
       "                          <td>Italy</td>                                                <td>Spain</td>                         <td>0.1625</td>  <td>0.9991</td> <td>-0.2866</td> <td>0.6117</td>   <td>False</td>\n",
       "</tr>\n",
       "<tr>\n",
       "                          <td>Italy</td>                                               <td>Sweden</td>                         <td>0.4115</td>  <td>0.1592</td> <td>-0.0521</td> <td>0.8752</td>   <td>False</td>\n",
       "</tr>\n",
       "<tr>\n",
       "                          <td>Italy</td>                                             <td>Switzerland</td>                      <td>0.3035</td>   <td>0.824</td> <td>-0.1987</td> <td>0.8057</td>   <td>False</td>\n",
       "</tr>\n",
       "<tr>\n",
       "                          <td>Italy</td>                                               <td>Ukraine</td>                        <td>0.5366</td>  <td>0.0004</td> <td>0.1352</td>   <td>0.938</td>   <td>True</td> \n",
       "</tr>\n",
       "<tr>\n",
       "                          <td>Italy</td>                        <td>United Kingdom of Great Britain and Northern Ireland</td>  <td>0.0347</td>    <td>1.0</td>  <td>-0.3333</td> <td>0.4028</td>   <td>False</td>\n",
       "</tr>\n",
       "<tr>\n",
       "                          <td>Italy</td>                                      <td>United States of America</td>                <td>0.2447</td>  <td>0.4725</td> <td>-0.0852</td> <td>0.5745</td>   <td>False</td>\n",
       "</tr>\n",
       "<tr>\n",
       "                       <td>Netherlands</td>                                             <td>Other</td>                         <td>-0.3025</td> <td>0.1268</td> <td>-0.6343</td> <td>0.0293</td>   <td>False</td>\n",
       "</tr>\n",
       "<tr>\n",
       "                       <td>Netherlands</td>                                            <td>Poland</td>                         <td>-0.3364</td> <td>0.5128</td> <td>-0.7991</td> <td>0.1263</td>   <td>False</td>\n",
       "</tr>\n",
       "<tr>\n",
       "                       <td>Netherlands</td>                                      <td>Russian Federation</td>                   <td>-0.2866</td>  <td>0.916</td> <td>-0.8092</td> <td>0.2359</td>   <td>False</td>\n",
       "</tr>\n",
       "<tr>\n",
       "                       <td>Netherlands</td>                                             <td>Spain</td>                         <td>-0.2516</td> <td>0.9064</td> <td>-0.7042</td> <td>0.2011</td>   <td>False</td>\n",
       "</tr>\n",
       "<tr>\n",
       "                       <td>Netherlands</td>                                            <td>Sweden</td>                         <td>-0.0025</td>   <td>1.0</td>  <td>-0.4696</td> <td>0.4645</td>   <td>False</td>\n",
       "</tr>\n",
       "<tr>\n",
       "                       <td>Netherlands</td>                                          <td>Switzerland</td>                      <td>-0.1106</td>   <td>1.0</td>  <td>-0.616</td>  <td>0.3948</td>   <td>False</td>\n",
       "</tr>\n",
       "<tr>\n",
       "                       <td>Netherlands</td>                                            <td>Ukraine</td>                        <td>0.1225</td>  <td>0.9999</td> <td>-0.2827</td> <td>0.5278</td>   <td>False</td>\n",
       "</tr>\n",
       "<tr>\n",
       "                       <td>Netherlands</td>                     <td>United Kingdom of Great Britain and Northern Ireland</td>  <td>-0.3793</td> <td>0.0402</td> <td>-0.7517</td> <td>-0.007</td>   <td>True</td> \n",
       "</tr>\n",
       "<tr>\n",
       "                       <td>Netherlands</td>                                   <td>United States of America</td>                <td>-0.1694</td> <td>0.9589</td> <td>-0.504</td>  <td>0.1652</td>   <td>False</td>\n",
       "</tr>\n",
       "<tr>\n",
       "                          <td>Other</td>                                               <td>Poland</td>                         <td>-0.0339</td>   <td>1.0</td>  <td>-0.3847</td> <td>0.3169</td>   <td>False</td>\n",
       "</tr>\n",
       "<tr>\n",
       "                          <td>Other</td>                                         <td>Russian Federation</td>                   <td>0.0158</td>    <td>1.0</td>  <td>-0.4108</td> <td>0.4425</td>   <td>False</td>\n",
       "</tr>\n",
       "<tr>\n",
       "                          <td>Other</td>                                                <td>Spain</td>                         <td>0.0509</td>    <td>1.0</td>  <td>-0.2865</td> <td>0.3884</td>   <td>False</td>\n",
       "</tr>\n",
       "<tr>\n",
       "                          <td>Other</td>                                               <td>Sweden</td>                           <td>0.3</td>   <td>0.2371</td> <td>-0.0566</td> <td>0.6565</td>   <td>False</td>\n",
       "</tr>\n",
       "<tr>\n",
       "                          <td>Other</td>                                             <td>Switzerland</td>                      <td>0.1919</td>  <td>0.9789</td> <td>-0.2135</td> <td>0.5973</td>   <td>False</td>\n",
       "</tr>\n",
       "<tr>\n",
       "                          <td>Other</td>                                               <td>Ukraine</td>                         <td>0.425</td>    <td>0.0</td>  <td>0.1545</td>  <td>0.6956</td>   <td>True</td> \n",
       "</tr>\n",
       "<tr>\n",
       "                          <td>Other</td>                        <td>United Kingdom of Great Britain and Northern Ireland</td>  <td>-0.0768</td> <td>0.9994</td> <td>-0.295</td>  <td>0.1413</td>   <td>False</td>\n",
       "</tr>\n",
       "<tr>\n",
       "                          <td>Other</td>                                      <td>United States of America</td>                <td>0.1331</td>  <td>0.1163</td> <td>-0.0115</td> <td>0.2777</td>   <td>False</td>\n",
       "</tr>\n",
       "<tr>\n",
       "                         <td>Poland</td>                                         <td>Russian Federation</td>                   <td>0.0498</td>    <td>1.0</td>  <td>-0.4851</td> <td>0.5846</td>   <td>False</td>\n",
       "</tr>\n",
       "<tr>\n",
       "                         <td>Poland</td>                                                <td>Spain</td>                         <td>0.0849</td>    <td>1.0</td>  <td>-0.3819</td> <td>0.5516</td>   <td>False</td>\n",
       "</tr>\n",
       "<tr>\n",
       "                         <td>Poland</td>                                               <td>Sweden</td>                         <td>0.3339</td>  <td>0.6025</td> <td>-0.1469</td> <td>0.8146</td>   <td>False</td>\n",
       "</tr>\n",
       "<tr>\n",
       "                         <td>Poland</td>                                             <td>Switzerland</td>                      <td>0.2258</td>  <td>0.9914</td> <td>-0.2922</td> <td>0.7438</td>   <td>False</td>\n",
       "</tr>\n",
       "<tr>\n",
       "                         <td>Poland</td>                                               <td>Ukraine</td>                        <td>0.4589</td>  <td>0.0166</td>  <td>0.038</td>  <td>0.8799</td>   <td>True</td> \n",
       "</tr>\n",
       "<tr>\n",
       "                         <td>Poland</td>                        <td>United Kingdom of Great Britain and Northern Ireland</td>  <td>-0.0429</td>   <td>1.0</td>  <td>-0.4323</td> <td>0.3464</td>   <td>False</td>\n",
       "</tr>\n",
       "<tr>\n",
       "                         <td>Poland</td>                                      <td>United States of America</td>                 <td>0.167</td>  <td>0.9793</td> <td>-0.1864</td> <td>0.5205</td>   <td>False</td>\n",
       "</tr>\n",
       "<tr>\n",
       "                   <td>Russian Federation</td>                                          <td>Spain</td>                         <td>0.0351</td>    <td>1.0</td>  <td>-0.4911</td> <td>0.5613</td>   <td>False</td>\n",
       "</tr>\n",
       "<tr>\n",
       "                   <td>Russian Federation</td>                                         <td>Sweden</td>                         <td>0.2841</td>  <td>0.9401</td> <td>-0.2545</td> <td>0.8227</td>   <td>False</td>\n",
       "</tr>\n",
       "<tr>\n",
       "                   <td>Russian Federation</td>                                       <td>Switzerland</td>                       <td>0.176</td>  <td>0.9999</td> <td>-0.3961</td> <td>0.7482</td>   <td>False</td>\n",
       "</tr>\n",
       "<tr>\n",
       "                   <td>Russian Federation</td>                                         <td>Ukraine</td>                        <td>0.4092</td>  <td>0.2361</td> <td>-0.0768</td> <td>0.8952</td>   <td>False</td>\n",
       "</tr>\n",
       "<tr>\n",
       "                   <td>Russian Federation</td>                  <td>United Kingdom of Great Britain and Northern Ireland</td>  <td>-0.0927</td>   <td>1.0</td>  <td>-0.5516</td> <td>0.3662</td>   <td>False</td>\n",
       "</tr>\n",
       "<tr>\n",
       "                   <td>Russian Federation</td>                                <td>United States of America</td>                <td>0.1173</td>    <td>1.0</td>  <td>-0.3116</td> <td>0.5461</td>   <td>False</td>\n",
       "</tr>\n",
       "<tr>\n",
       "                          <td>Spain</td>                                               <td>Sweden</td>                          <td>0.249</td>  <td>0.9389</td> <td>-0.2221</td> <td>0.7201</td>   <td>False</td>\n",
       "</tr>\n",
       "<tr>\n",
       "                          <td>Spain</td>                                             <td>Switzerland</td>                       <td>0.141</td>    <td>1.0</td>  <td>-0.3681</td>  <td>0.65</td>    <td>False</td>\n",
       "</tr>\n",
       "<tr>\n",
       "                          <td>Spain</td>                                               <td>Ukraine</td>                        <td>0.3741</td>  <td>0.1258</td> <td>-0.0358</td>  <td>0.784</td>   <td>False</td>\n",
       "</tr>\n",
       "<tr>\n",
       "                          <td>Spain</td>                        <td>United Kingdom of Great Britain and Northern Ireland</td>  <td>-0.1278</td> <td>0.9996</td> <td>-0.5051</td> <td>0.2496</td>   <td>False</td>\n",
       "</tr>\n",
       "<tr>\n",
       "                          <td>Spain</td>                                      <td>United States of America</td>                <td>0.0822</td>    <td>1.0</td>  <td>-0.258</td>  <td>0.4223</td>   <td>False</td>\n",
       "</tr>\n",
       "<tr>\n",
       "                         <td>Sweden</td>                                             <td>Switzerland</td>                      <td>-0.1081</td>   <td>1.0</td>   <td>-0.63</td>  <td>0.4139</td>   <td>False</td>\n",
       "</tr>\n",
       "<tr>\n",
       "                         <td>Sweden</td>                                               <td>Ukraine</td>                        <td>0.1251</td>    <td>1.0</td>  <td>-0.3007</td> <td>0.5508</td>   <td>False</td>\n",
       "</tr>\n",
       "<tr>\n",
       "                         <td>Sweden</td>                        <td>United Kingdom of Great Britain and Northern Ireland</td>  <td>-0.3768</td> <td>0.0819</td> <td>-0.7713</td> <td>0.0177</td>   <td>False</td>\n",
       "</tr>\n",
       "<tr>\n",
       "                         <td>Sweden</td>                                      <td>United States of America</td>                <td>-0.1668</td> <td>0.9826</td> <td>-0.526</td>  <td>0.1923</td>   <td>False</td>\n",
       "</tr>\n",
       "<tr>\n",
       "                       <td>Switzerland</td>                                            <td>Ukraine</td>                        <td>0.2331</td>  <td>0.9644</td> <td>-0.2343</td> <td>0.7006</td>   <td>False</td>\n",
       "</tr>\n",
       "<tr>\n",
       "                       <td>Switzerland</td>                     <td>United Kingdom of Great Britain and Northern Ireland</td>  <td>-0.2687</td> <td>0.8082</td> <td>-0.7079</td> <td>0.1704</td>   <td>False</td>\n",
       "</tr>\n",
       "<tr>\n",
       "                       <td>Switzerland</td>                                   <td>United States of America</td>                <td>-0.0588</td>   <td>1.0</td>  <td>-0.4665</td> <td>0.3489</td>   <td>False</td>\n",
       "</tr>\n",
       "<tr>\n",
       "                         <td>Ukraine</td>                       <td>United Kingdom of Great Britain and Northern Ireland</td>  <td>-0.5019</td>   <td>0.0</td>  <td>-0.8208</td> <td>-0.1829</td>  <td>True</td> \n",
       "</tr>\n",
       "<tr>\n",
       "                         <td>Ukraine</td>                                     <td>United States of America</td>                <td>-0.2919</td> <td>0.0228</td> <td>-0.5659</td> <td>-0.0179</td>  <td>True</td> \n",
       "</tr>\n",
       "<tr>\n",
       "  <td>United Kingdom of Great Britain and Northern Ireland</td>               <td>United States of America</td>                <td>0.2099</td>  <td>0.0918</td> <td>-0.0124</td> <td>0.4323</td>   <td>False</td>\n",
       "</tr>\n",
       "</table>"
      ],
      "text/latex": [
       "\\begin{center}\n",
       "\\begin{tabular}{ccccccc}\n",
       "\\toprule\n",
       "                  \\textbf{group1}                    &                   \\textbf{group2}                    & \\textbf{meandiff} & \\textbf{p-adj} & \\textbf{lower} & \\textbf{upper} & \\textbf{reject}  \\\\\n",
       "\\midrule\n",
       "                     Australia                       &                       Austria                        &       0.3063      &     0.9083     &    -0.2462     &     0.8588     &      False       \\\\\n",
       "                     Australia                       &                        Brazil                        &       0.1812      &     0.997      &    -0.2734     &     0.6357     &      False       \\\\\n",
       "                     Australia                       &                        Canada                        &       0.2356      &     0.9017     &    -0.1858     &     0.6569     &      False       \\\\\n",
       "                     Australia                       &                        France                        &       0.0792      &      1.0       &    -0.3419     &     0.5004     &      False       \\\\\n",
       "                     Australia                       &                       Germany                        &      -0.1153      &     0.9999     &    -0.4865     &     0.2559     &      False       \\\\\n",
       "                     Australia                       &                        India                         &      -0.2266      &     0.8281     &    -0.6028     &     0.1497     &      False       \\\\\n",
       "                     Australia                       &                        Israel                        &       0.4628      &     0.301      &    -0.1081     &     1.0337     &      False       \\\\\n",
       "                     Australia                       &                        Italy                         &      -0.2085      &     0.9854     &    -0.6644     &     0.2475     &      False       \\\\\n",
       "                     Australia                       &                     Netherlands                      &       0.2056      &     0.9884     &    -0.2537     &     0.665      &      False       \\\\\n",
       "                     Australia                       &                        Other                         &      -0.0969      &      1.0       &    -0.4432     &     0.2495     &      False       \\\\\n",
       "                     Australia                       &                        Poland                        &      -0.1308      &      1.0       &    -0.6041     &     0.3425     &      False       \\\\\n",
       "                     Australia                       &                  Russian Federation                  &       -0.081      &      1.0       &     -0.613     &     0.4509     &      False       \\\\\n",
       "                     Australia                       &                        Spain                         &      -0.0459      &      1.0       &    -0.5094     &     0.4175     &      False       \\\\\n",
       "                     Australia                       &                        Sweden                        &       0.2031      &     0.9935     &    -0.2744     &     0.6806     &      False       \\\\\n",
       "                     Australia                       &                     Switzerland                      &       0.095       &      1.0       &     -0.42      &     0.6101     &      False       \\\\\n",
       "                     Australia                       &                       Ukraine                        &       0.3281      &     0.3574     &    -0.0891     &     0.7454     &      False       \\\\\n",
       "                     Australia                       & United Kingdom of Great Britain and Northern Ireland &      -0.1737      &     0.9874     &    -0.5591     &     0.2117     &      False       \\\\\n",
       "                     Australia                       &               United States of America               &       0.0362      &      1.0       &    -0.3128     &     0.3853     &      False       \\\\\n",
       "                      Austria                        &                        Brazil                        &      -0.1251      &      1.0       &    -0.6646     &     0.4143     &      False       \\\\\n",
       "                      Austria                        &                        Canada                        &      -0.0707      &      1.0       &    -0.5825     &     0.441      &      False       \\\\\n",
       "                      Austria                        &                        France                        &      -0.2271      &     0.9894     &    -0.7387     &     0.2845     &      False       \\\\\n",
       "                      Austria                        &                       Germany                        &      -0.4216      &     0.1493     &    -0.8929     &     0.0497     &      False       \\\\\n",
       "                      Austria                        &                        India                         &      -0.5329      &     0.011      &    -1.0082     &    -0.0576     &       True       \\\\\n",
       "                      Austria                        &                        Israel                        &       0.1565      &      1.0       &    -0.4841     &     0.797      &      False       \\\\\n",
       "                      Austria                        &                        Italy                         &      -0.5148      &     0.0844     &    -1.0553     &     0.0258     &      False       \\\\\n",
       "                      Austria                        &                     Netherlands                      &      -0.1007      &      1.0       &    -0.6442     &     0.4428     &      False       \\\\\n",
       "                      Austria                        &                        Other                         &      -0.4032      &     0.1529     &    -0.8552     &     0.0488     &      False       \\\\\n",
       "                      Austria                        &                        Poland                        &      -0.4371      &     0.3555     &    -0.9924     &     0.1182     &      False       \\\\\n",
       "                      Austria                        &                  Russian Federation                  &      -0.3873      &     0.7467     &    -0.9934     &     0.2188     &      False       \\\\\n",
       "                      Austria                        &                        Spain                         &      -0.3522      &     0.7348     &    -0.8992     &     0.1947     &      False       \\\\\n",
       "                      Austria                        &                        Sweden                        &      -0.1032      &      1.0       &    -0.6622     &     0.4557     &      False       \\\\\n",
       "                      Austria                        &                     Switzerland                      &      -0.2113      &     0.9993     &    -0.8026     &      0.38      &      False       \\\\\n",
       "                      Austria                        &                       Ukraine                        &       0.0218      &      1.0       &    -0.4866     &     0.5303     &      False       \\\\\n",
       "                      Austria                        & United Kingdom of Great Britain and Northern Ireland &       -0.48       &     0.0531     &    -0.9626     &     0.0025     &      False       \\\\\n",
       "                      Austria                        &               United States of America               &      -0.2701      &     0.8425     &    -0.7242     &     0.184      &      False       \\\\\n",
       "                       Brazil                        &                        Canada                        &       0.0544      &      1.0       &    -0.3496     &     0.4584     &      False       \\\\\n",
       "                       Brazil                        &                        France                        &      -0.1019      &      1.0       &    -0.5057     &     0.3019     &      False       \\\\\n",
       "                       Brazil                        &                       Germany                        &      -0.2965      &     0.2328     &    -0.6479     &     0.055      &      False       \\\\\n",
       "                       Brazil                        &                        India                         &      -0.4077      &     0.0082     &    -0.7645     &     -0.051     &       True       \\\\\n",
       "                       Brazil                        &                        Israel                        &       0.2816      &     0.9603     &    -0.2767     &     0.8399     &      False       \\\\\n",
       "                       Brazil                        &                        Italy                         &      -0.3896      &     0.1621     &    -0.8296     &     0.0504     &      False       \\\\\n",
       "                       Brazil                        &                     Netherlands                      &       0.0245      &      1.0       &    -0.4191     &     0.468      &      False       \\\\\n",
       "                       Brazil                        &                        Other                         &       -0.278      &     0.2113     &    -0.6031     &     0.047      &      False       \\\\\n",
       "                       Brazil                        &                        Poland                        &      -0.3119      &     0.6385     &    -0.7699     &     0.146      &      False       \\\\\n",
       "                       Brazil                        &                  Russian Federation                  &      -0.2622      &     0.9593     &    -0.7805     &     0.2562     &      False       \\\\\n",
       "                       Brazil                        &                        Spain                         &      -0.2271      &     0.9582     &    -0.6749     &     0.2207     &      False       \\\\\n",
       "                       Brazil                        &                        Sweden                        &       0.0219      &      1.0       &    -0.4404     &     0.4842     &      False       \\\\\n",
       "                       Brazil                        &                     Switzerland                      &      -0.0861      &      1.0       &    -0.5871     &     0.4148     &      False       \\\\\n",
       "                       Brazil                        &                       Ukraine                        &       0.147       &     0.9989     &    -0.2528     &     0.5468     &      False       \\\\\n",
       "                       Brazil                        & United Kingdom of Great Britain and Northern Ireland &      -0.3549      &     0.0709     &    -0.7212     &     0.0115     &      False       \\\\\n",
       "                       Brazil                        &               United States of America               &      -0.1449      &     0.9899     &    -0.4729     &     0.183      &      False       \\\\\n",
       "                       Canada                        &                        France                        &      -0.1563      &     0.9932     &    -0.5224     &     0.2097     &      False       \\\\\n",
       "                       Canada                        &                       Germany                        &      -0.3509      &     0.0083     &    -0.6581     &    -0.0436     &       True       \\\\\n",
       "                       Canada                        &                        India                         &      -0.4621      &      0.0       &    -0.7755     &    -0.1488     &       True       \\\\\n",
       "                       Canada                        &                        Israel                        &       0.2272      &     0.9931     &    -0.3044     &     0.7588     &      False       \\\\\n",
       "                       Canada                        &                        Italy                         &       -0.444      &     0.0156     &    -0.8496     &    -0.0385     &       True       \\\\\n",
       "                       Canada                        &                     Netherlands                      &       -0.03       &      1.0       &    -0.4394     &     0.3795     &      False       \\\\\n",
       "                       Canada                        &                        Other                         &      -0.3324      &     0.0035     &    -0.6092     &    -0.0557     &       True       \\\\\n",
       "                       Canada                        &                        Poland                        &      -0.3664      &     0.1996     &    -0.7913     &     0.0586     &      False       \\\\\n",
       "                       Canada                        &                  Russian Federation                  &      -0.3166      &     0.7279     &    -0.8061     &     0.1729     &      False       \\\\\n",
       "                       Canada                        &                        Spain                         &      -0.2815      &     0.642      &    -0.6955     &     0.1325     &      False       \\\\\n",
       "                       Canada                        &                        Sweden                        &      -0.0325      &      1.0       &    -0.4622     &     0.3972     &      False       \\\\\n",
       "                       Canada                        &                     Switzerland                      &      -0.1406      &     0.9999     &    -0.6116     &     0.3305     &      False       \\\\\n",
       "                       Canada                        &                       Ukraine                        &       0.0926      &      1.0       &     -0.269     &     0.4542     &      False       \\\\\n",
       "                       Canada                        & United Kingdom of Great Britain and Northern Ireland &      -0.4093      &     0.0014     &    -0.7336     &     -0.085     &       True       \\\\\n",
       "                       Canada                        &               United States of America               &      -0.1993      &     0.5553     &    -0.4795     &     0.0808     &      False       \\\\\n",
       "                       France                        &                       Germany                        &      -0.1945      &     0.7595     &    -0.5015     &     0.1125     &      False       \\\\\n",
       "                       France                        &                        India                         &      -0.3058      &     0.0648     &    -0.6189     &     0.0073     &      False       \\\\\n",
       "                       France                        &                        Israel                        &       0.3835      &     0.5274     &    -0.1479     &     0.9149     &      False       \\\\\n",
       "                       France                        &                        Italy                         &      -0.2877      &     0.5605     &    -0.6931     &     0.1177     &      False       \\\\\n",
       "                       France                        &                     Netherlands                      &       0.1264      &     0.9999     &    -0.2829     &     0.5356     &      False       \\\\\n",
       "                       France                        &                        Other                         &      -0.1761      &     0.7515     &    -0.4526     &     0.1003     &      False       \\\\\n",
       "                       France                        &                        Poland                        &       -0.21       &     0.9673     &    -0.6348     &     0.2148     &      False       \\\\\n",
       "                       France                        &                  Russian Federation                  &      -0.1603      &     0.9998     &    -0.6496     &     0.3291     &      False       \\\\\n",
       "                       France                        &                        Spain                         &      -0.1252      &     0.9999     &     -0.539     &     0.2886     &      False       \\\\\n",
       "                       France                        &                        Sweden                        &       0.1238      &      1.0       &    -0.3057     &     0.5534     &      False       \\\\\n",
       "                       France                        &                     Switzerland                      &       0.0158      &      1.0       &    -0.4551     &     0.4867     &      False       \\\\\n",
       "                       France                        &                       Ukraine                        &       0.2489      &     0.6181     &    -0.1125     &     0.6103     &      False       \\\\\n",
       "                       France                        & United Kingdom of Great Britain and Northern Ireland &       -0.253      &     0.3712     &     -0.577     &     0.071      &      False       \\\\\n",
       "                       France                        &               United States of America               &       -0.043      &      1.0       &    -0.3228     &     0.2368     &      False       \\\\\n",
       "                      Germany                        &                        India                         &      -0.1113      &     0.9842     &     -0.353     &     0.1305     &      False       \\\\\n",
       "                      Germany                        &                        Israel                        &       0.5781      &     0.0053     &     0.0853     &     1.0708     &       True       \\\\\n",
       "                      Germany                        &                        Italy                         &      -0.0932      &      1.0       &    -0.4463     &      0.26      &      False       \\\\\n",
       "                      Germany                        &                     Netherlands                      &       0.3209      &     0.1454     &    -0.0367     &     0.6785     &      False       \\\\\n",
       "                      Germany                        &                        Other                         &       0.0184      &      1.0       &    -0.1735     &     0.2103     &      False       \\\\\n",
       "                      Germany                        &                        Poland                        &      -0.0155      &      1.0       &    -0.3908     &     0.3598     &      False       \\\\\n",
       "                      Germany                        &                  Russian Federation                  &       0.0343      &      1.0       &    -0.4128     &     0.4813     &      False       \\\\\n",
       "                      Germany                        &                        Spain                         &       0.0694      &      1.0       &    -0.2935     &     0.4322     &      False       \\\\\n",
       "                      Germany                        &                        Sweden                        &       0.3184      &     0.2469     &    -0.0623     &     0.699      &      False       \\\\\n",
       "                      Germany                        &                     Switzerland                      &       0.2103      &     0.9683     &    -0.2165     &     0.6371     &      False       \\\\\n",
       "                      Germany                        &                       Ukraine                        &       0.4434      &      0.0       &     0.1418     &     0.7451     &       True       \\\\\n",
       "                      Germany                        & United Kingdom of Great Britain and Northern Ireland &      -0.0584      &      1.0       &    -0.3141     &     0.1973     &      False       \\\\\n",
       "                      Germany                        &               United States of America               &       0.1515      &     0.3981     &    -0.0452     &     0.3483     &      False       \\\\\n",
       "                       India                         &                        Israel                        &       0.6893      &     0.0002     &     0.1928     &     1.1859     &       True       \\\\\n",
       "                       India                         &                        Italy                         &       0.0181      &      1.0       &    -0.3404     &     0.3766     &      False       \\\\\n",
       "                       India                         &                     Netherlands                      &       0.4322      &     0.0041     &     0.0693     &     0.7951     &       True       \\\\\n",
       "                       India                         &                        Other                         &       0.1297      &     0.736      &    -0.0719     &     0.3312     &      False       \\\\\n",
       "                       India                         &                        Poland                        &       0.0958      &      1.0       &    -0.2845     &     0.4761     &      False       \\\\\n",
       "                       India                         &                  Russian Federation                  &       0.1455      &     0.9998     &    -0.3057     &     0.5968     &      False       \\\\\n",
       "                       India                         &                        Spain                         &       0.1806      &     0.9695     &    -0.1874     &     0.5487     &      False       \\\\\n",
       "                       India                         &                        Sweden                        &       0.4296      &     0.0121     &     0.044      &     0.8153     &       True       \\\\\n",
       "                       India                         &                     Switzerland                      &       0.3216      &     0.4617     &    -0.1096     &     0.7528     &      False       \\\\\n",
       "                       India                         &                       Ukraine                        &       0.5547      &      0.0       &     0.2468     &     0.8626     &       True       \\\\\n",
       "                       India                         & United Kingdom of Great Britain and Northern Ireland &       0.0529      &      1.0       &    -0.2102     &     0.3159     &      False       \\\\\n",
       "                       India                         &               United States of America               &       0.2628      &     0.0011     &     0.0566     &     0.469      &       True       \\\\\n",
       "                       Israel                        &                        Italy                         &      -0.6712      &     0.0036     &    -1.2306     &    -0.1119     &       True       \\\\\n",
       "                       Israel                        &                     Netherlands                      &      -0.2571      &     0.9853     &    -0.8193     &     0.305      &      False       \\\\\n",
       "                       Israel                        &                        Other                         &      -0.5596      &     0.0048     &     -1.034     &    -0.0853     &       True       \\\\\n",
       "                       Israel                        &                        Poland                        &      -0.5935      &     0.0332     &    -1.1672     &    -0.0199     &       True       \\\\\n",
       "                       Israel                        &                  Russian Federation                  &      -0.5438      &     0.1815     &    -1.1667     &     0.0791     &      False       \\\\\n",
       "                       Israel                        &                        Spain                         &      -0.5087      &     0.1425     &    -1.0742     &     0.0568     &      False       \\\\\n",
       "                       Israel                        &                        Sweden                        &      -0.2597      &     0.9877     &    -0.8368     &     0.3174     &      False       \\\\\n",
       "                       Israel                        &                     Switzerland                      &      -0.3677      &     0.8239     &    -0.9763     &     0.2408     &      False       \\\\\n",
       "                       Israel                        &                       Ukraine                        &      -0.1346      &      1.0       &     -0.663     &     0.3937     &      False       \\\\\n",
       "                       Israel                        & United Kingdom of Great Britain and Northern Ireland &      -0.6365      &     0.0013     &     -1.14      &    -0.1329     &       True       \\\\\n",
       "                       Israel                        &               United States of America               &      -0.4265      &     0.148      &    -0.9029     &     0.0498     &      False       \\\\\n",
       "                       Italy                         &                     Netherlands                      &       0.4141      &     0.1053     &    -0.0309     &     0.859      &      False       \\\\\n",
       "                       Italy                         &                        Other                         &       0.1116      &     0.9996     &    -0.2154     &     0.4386     &      False       \\\\\n",
       "                       Italy                         &                        Poland                        &       0.0777      &      1.0       &    -0.3816     &     0.537      &      False       \\\\\n",
       "                       Italy                         &                  Russian Federation                  &       0.1274      &      1.0       &    -0.3921     &     0.647      &      False       \\\\\n",
       "                       Italy                         &                        Spain                         &       0.1625      &     0.9991     &    -0.2866     &     0.6117     &      False       \\\\\n",
       "                       Italy                         &                        Sweden                        &       0.4115      &     0.1592     &    -0.0521     &     0.8752     &      False       \\\\\n",
       "                       Italy                         &                     Switzerland                      &       0.3035      &     0.824      &    -0.1987     &     0.8057     &      False       \\\\\n",
       "                       Italy                         &                       Ukraine                        &       0.5366      &     0.0004     &     0.1352     &     0.938      &       True       \\\\\n",
       "                       Italy                         & United Kingdom of Great Britain and Northern Ireland &       0.0347      &      1.0       &    -0.3333     &     0.4028     &      False       \\\\\n",
       "                       Italy                         &               United States of America               &       0.2447      &     0.4725     &    -0.0852     &     0.5745     &      False       \\\\\n",
       "                    Netherlands                      &                        Other                         &      -0.3025      &     0.1268     &    -0.6343     &     0.0293     &      False       \\\\\n",
       "                    Netherlands                      &                        Poland                        &      -0.3364      &     0.5128     &    -0.7991     &     0.1263     &      False       \\\\\n",
       "                    Netherlands                      &                  Russian Federation                  &      -0.2866      &     0.916      &    -0.8092     &     0.2359     &      False       \\\\\n",
       "                    Netherlands                      &                        Spain                         &      -0.2516      &     0.9064     &    -0.7042     &     0.2011     &      False       \\\\\n",
       "                    Netherlands                      &                        Sweden                        &      -0.0025      &      1.0       &    -0.4696     &     0.4645     &      False       \\\\\n",
       "                    Netherlands                      &                     Switzerland                      &      -0.1106      &      1.0       &     -0.616     &     0.3948     &      False       \\\\\n",
       "                    Netherlands                      &                       Ukraine                        &       0.1225      &     0.9999     &    -0.2827     &     0.5278     &      False       \\\\\n",
       "                    Netherlands                      & United Kingdom of Great Britain and Northern Ireland &      -0.3793      &     0.0402     &    -0.7517     &     -0.007     &       True       \\\\\n",
       "                    Netherlands                      &               United States of America               &      -0.1694      &     0.9589     &     -0.504     &     0.1652     &      False       \\\\\n",
       "                       Other                         &                        Poland                        &      -0.0339      &      1.0       &    -0.3847     &     0.3169     &      False       \\\\\n",
       "                       Other                         &                  Russian Federation                  &       0.0158      &      1.0       &    -0.4108     &     0.4425     &      False       \\\\\n",
       "                       Other                         &                        Spain                         &       0.0509      &      1.0       &    -0.2865     &     0.3884     &      False       \\\\\n",
       "                       Other                         &                        Sweden                        &        0.3        &     0.2371     &    -0.0566     &     0.6565     &      False       \\\\\n",
       "                       Other                         &                     Switzerland                      &       0.1919      &     0.9789     &    -0.2135     &     0.5973     &      False       \\\\\n",
       "                       Other                         &                       Ukraine                        &       0.425       &      0.0       &     0.1545     &     0.6956     &       True       \\\\\n",
       "                       Other                         & United Kingdom of Great Britain and Northern Ireland &      -0.0768      &     0.9994     &     -0.295     &     0.1413     &      False       \\\\\n",
       "                       Other                         &               United States of America               &       0.1331      &     0.1163     &    -0.0115     &     0.2777     &      False       \\\\\n",
       "                       Poland                        &                  Russian Federation                  &       0.0498      &      1.0       &    -0.4851     &     0.5846     &      False       \\\\\n",
       "                       Poland                        &                        Spain                         &       0.0849      &      1.0       &    -0.3819     &     0.5516     &      False       \\\\\n",
       "                       Poland                        &                        Sweden                        &       0.3339      &     0.6025     &    -0.1469     &     0.8146     &      False       \\\\\n",
       "                       Poland                        &                     Switzerland                      &       0.2258      &     0.9914     &    -0.2922     &     0.7438     &      False       \\\\\n",
       "                       Poland                        &                       Ukraine                        &       0.4589      &     0.0166     &     0.038      &     0.8799     &       True       \\\\\n",
       "                       Poland                        & United Kingdom of Great Britain and Northern Ireland &      -0.0429      &      1.0       &    -0.4323     &     0.3464     &      False       \\\\\n",
       "                       Poland                        &               United States of America               &       0.167       &     0.9793     &    -0.1864     &     0.5205     &      False       \\\\\n",
       "                 Russian Federation                  &                        Spain                         &       0.0351      &      1.0       &    -0.4911     &     0.5613     &      False       \\\\\n",
       "                 Russian Federation                  &                        Sweden                        &       0.2841      &     0.9401     &    -0.2545     &     0.8227     &      False       \\\\\n",
       "                 Russian Federation                  &                     Switzerland                      &       0.176       &     0.9999     &    -0.3961     &     0.7482     &      False       \\\\\n",
       "                 Russian Federation                  &                       Ukraine                        &       0.4092      &     0.2361     &    -0.0768     &     0.8952     &      False       \\\\\n",
       "                 Russian Federation                  & United Kingdom of Great Britain and Northern Ireland &      -0.0927      &      1.0       &    -0.5516     &     0.3662     &      False       \\\\\n",
       "                 Russian Federation                  &               United States of America               &       0.1173      &      1.0       &    -0.3116     &     0.5461     &      False       \\\\\n",
       "                       Spain                         &                        Sweden                        &       0.249       &     0.9389     &    -0.2221     &     0.7201     &      False       \\\\\n",
       "                       Spain                         &                     Switzerland                      &       0.141       &      1.0       &    -0.3681     &      0.65      &      False       \\\\\n",
       "                       Spain                         &                       Ukraine                        &       0.3741      &     0.1258     &    -0.0358     &     0.784      &      False       \\\\\n",
       "                       Spain                         & United Kingdom of Great Britain and Northern Ireland &      -0.1278      &     0.9996     &    -0.5051     &     0.2496     &      False       \\\\\n",
       "                       Spain                         &               United States of America               &       0.0822      &      1.0       &     -0.258     &     0.4223     &      False       \\\\\n",
       "                       Sweden                        &                     Switzerland                      &      -0.1081      &      1.0       &     -0.63      &     0.4139     &      False       \\\\\n",
       "                       Sweden                        &                       Ukraine                        &       0.1251      &      1.0       &    -0.3007     &     0.5508     &      False       \\\\\n",
       "                       Sweden                        & United Kingdom of Great Britain and Northern Ireland &      -0.3768      &     0.0819     &    -0.7713     &     0.0177     &      False       \\\\\n",
       "                       Sweden                        &               United States of America               &      -0.1668      &     0.9826     &     -0.526     &     0.1923     &      False       \\\\\n",
       "                    Switzerland                      &                       Ukraine                        &       0.2331      &     0.9644     &    -0.2343     &     0.7006     &      False       \\\\\n",
       "                    Switzerland                      & United Kingdom of Great Britain and Northern Ireland &      -0.2687      &     0.8082     &    -0.7079     &     0.1704     &      False       \\\\\n",
       "                    Switzerland                      &               United States of America               &      -0.0588      &      1.0       &    -0.4665     &     0.3489     &      False       \\\\\n",
       "                      Ukraine                        & United Kingdom of Great Britain and Northern Ireland &      -0.5019      &      0.0       &    -0.8208     &    -0.1829     &       True       \\\\\n",
       "                      Ukraine                        &               United States of America               &      -0.2919      &     0.0228     &    -0.5659     &    -0.0179     &       True       \\\\\n",
       "United Kingdom of Great Britain and Northern Ireland &               United States of America               &       0.2099      &     0.0918     &    -0.0124     &     0.4323     &      False       \\\\\n",
       "\\bottomrule\n",
       "\\end{tabular}\n",
       "%\\caption{Multiple Comparison of Means - Tukey HSD, FWER=0.05}\n",
       "\\end{center}"
      ],
      "text/plain": [
       "<class 'statsmodels.iolib.table.SimpleTable'>"
      ]
     },
     "execution_count": 907,
     "metadata": {},
     "output_type": "execute_result"
    }
   ],
   "source": [
    "# Run Tukey HSD test to check significance for Country\n",
    "tukey = pairwise_tukeyhsd(\n",
    "    endog=df_simplified['JobSat'],\n",
    "    groups=df_simplified['Country_simplified'],\n",
    "    alpha=0.05\n",
    ")\n",
    "\n",
    "tukey.summary()"
   ]
  },
  {
   "cell_type": "markdown",
   "id": "cb5d4642-66a6-43ac-b19d-f4503db59000",
   "metadata": {},
   "source": [
    "## Feature Engineering (before train-test-split)"
   ]
  },
  {
   "cell_type": "markdown",
   "id": "19837749-4e9f-4cbb-88c8-5c6d48b1d110",
   "metadata": {},
   "source": [
    "### Overview of the encoding strategies"
   ]
  },
  {
   "cell_type": "markdown",
   "id": "f44c5bfb-2d3b-4b92-b709-8a334bb8fb45",
   "metadata": {},
   "source": [
    "- RemoteWork and MainBranch_simplified: **One-Hot Encoding**, AFTER train-test-split\n",
    "- Age_simplified and EdLevel_simplified: **Ordinal Encoding**, BEFORE train-test-split \n",
    "- Country_simplified: **Target Encoding**, AFTER train-test-split\n",
    "- ConvertedCompYearly: **Imutation**, AFTER traint-test-split"
   ]
  },
  {
   "cell_type": "markdown",
   "id": "47d011d9-3a12-4d20-bfc8-ab17f2c942d3",
   "metadata": {},
   "source": [
    "#### Ordinal Encoding"
   ]
  },
  {
   "cell_type": "code",
   "execution_count": 908,
   "id": "4d21702f-c30c-4921-9217-8dd658dba40c",
   "metadata": {
    "collapsed": true,
    "jupyter": {
     "outputs_hidden": true,
     "source_hidden": true
    }
   },
   "outputs": [],
   "source": [
    "# Copy df_simplified\n",
    "df_encoded = df_simplified.copy()"
   ]
  },
  {
   "cell_type": "code",
   "execution_count": 909,
   "id": "2fc36767-c3b9-4d96-9f8e-2f4f6c755576",
   "metadata": {
    "collapsed": true,
    "jupyter": {
     "outputs_hidden": true,
     "source_hidden": true
    }
   },
   "outputs": [],
   "source": [
    "# Encode Age_simplified\n",
    "Age_order = {\n",
    "    '18-24 years old': 0,\n",
    "    '25-34 years old': 1,\n",
    "    '35-44 years old': 2,\n",
    "    '45-54 years old': 3,\n",
    "    '55-64 years old': 4,\n",
    "    'Other': 5\n",
    "}\n",
    "\n",
    "df_encoded['Age_simplified'] = df_simplified['Age_simplified'].map(Age_order)"
   ]
  },
  {
   "cell_type": "code",
   "execution_count": 910,
   "id": "b082cbd6-4502-42cd-a37a-a68930bbdbf6",
   "metadata": {
    "collapsed": true,
    "jupyter": {
     "outputs_hidden": true,
     "source_hidden": true
    }
   },
   "outputs": [],
   "source": [
    "# Encode EdLevel_simplified\n",
    "EdLevel_order = {\n",
    "    'Secondary school (e.g. American high school, German Realschule or Gymnasium, etc.)': 0,\n",
    "    'Some college/university study without earning a degree': 1,\n",
    "    'Associate degree (A.A., A.S., etc.)': 2,\n",
    "    'Bachelor’s degree (B.A., B.S., B.Eng., etc.)': 3,\n",
    "    'Master’s degree (M.A., M.S., M.Eng., MBA, etc.)': 4,\n",
    "    'Professional degree (JD, MD, Ph.D, Ed.D, etc.)': 5,\n",
    "    'Other': 6\n",
    "}\n",
    "\n",
    "df_encoded['EdLevel_simplified'] = df_simplified['EdLevel_simplified'].map(EdLevel_order)"
   ]
  },
  {
   "cell_type": "markdown",
   "id": "80a0ec34-791b-48ef-ac91-8d9a0cabe7ba",
   "metadata": {},
   "source": [
    "## Train-Test-Split"
   ]
  },
  {
   "cell_type": "code",
   "execution_count": 911,
   "id": "6a962b06-7ccb-4631-b694-f9532112b03a",
   "metadata": {
    "collapsed": true,
    "jupyter": {
     "outputs_hidden": true,
     "source_hidden": true
    }
   },
   "outputs": [],
   "source": [
    "# Create train and test datasets\n",
    "y = df_encoded.JobSat\n",
    "X = df_encoded.drop(columns='JobSat')\n",
    "\n",
    "X_train, X_test, y_train, y_test = train_test_split(X, y, test_size=0.2, random_state=0)"
   ]
  },
  {
   "cell_type": "markdown",
   "id": "6d9213f1-cb62-4b1f-b059-b7c4caf7b901",
   "metadata": {},
   "source": [
    "## Feature Engineering (after train-test-split)"
   ]
  },
  {
   "cell_type": "markdown",
   "id": "4fa2b350-a8c0-4b9b-ae85-60c11dc7fed7",
   "metadata": {},
   "source": [
    "### Overview of the encoding strategies"
   ]
  },
  {
   "cell_type": "markdown",
   "id": "83281dd8-b3ef-497a-a878-358a2415b3ba",
   "metadata": {},
   "source": [
    "- RemoteWork and MainBranch_simplified: **One-Hot Encoding**, AFTER train-test-split\n",
    "- Age_simplified and EdLevel_simplified: **Ordinal Encoding**, BEFORE train-test-split ✅\n",
    "- Country_simplified: **Target Encoding**, AFTER train-test-split\n",
    "- ConvertedCompYearly: **Imutation**, AFTER traint-test-split"
   ]
  },
  {
   "cell_type": "code",
   "execution_count": 912,
   "id": "0d115f7b-e365-49ea-bbc6-f571ab85b179",
   "metadata": {
    "collapsed": true,
    "jupyter": {
     "outputs_hidden": true,
     "source_hidden": true
    }
   },
   "outputs": [],
   "source": [
    "# One-Hot Encoding of RemoteWork and MainBranch_simplified\n",
    "cols_to_encode = ['RemoteWork', 'MainBranch_simplified']\n",
    "\n",
    "X_train_encoded = pd.get_dummies(X_train, columns=cols_to_encode, drop_first=True)\n",
    "X_test_encoded = pd.get_dummies(X_test, columns=cols_to_encode, drop_first=True)\n",
    "\n",
    "X_test_encoded = X_test_encoded.reindex(columns=X_train_encoded.columns, fill_value=0)"
   ]
  },
  {
   "cell_type": "code",
   "execution_count": 913,
   "id": "f5367639-7fd3-4e0d-9a8b-a493c5582242",
   "metadata": {
    "collapsed": true,
    "jupyter": {
     "outputs_hidden": true,
     "source_hidden": true
    }
   },
   "outputs": [],
   "source": [
    "# Target Encoding of Country_simplified\n",
    "country_means = X_train.assign(JobSat=y_train).groupby('Country_simplified').JobSat.mean()\n",
    "\n",
    "X_train_encoded['Country_means'] = X_train_encoded.Country_simplified.map(country_means)\n",
    "X_test_encoded['Country_means'] = X_test_encoded.Country_simplified.map(country_means)\n",
    "\n",
    "global_mean = y_train.mean()\n",
    "X_test_encoded.Country_means = X_test_encoded.Country_means.fillna(global_mean)\n",
    "\n",
    "X_train_encoded.drop(columns='Country_simplified', inplace=True)\n",
    "X_test_encoded.drop(columns='Country_simplified', inplace=True)"
   ]
  },
  {
   "cell_type": "code",
   "execution_count": 914,
   "id": "44d57e5a-6e2f-4a23-8c46-5600ee348971",
   "metadata": {
    "collapsed": true,
    "jupyter": {
     "outputs_hidden": true,
     "source_hidden": true
    }
   },
   "outputs": [],
   "source": [
    "# Median Imputation of ConvertedCompYearly\n",
    "median_imputer = SimpleImputer(strategy='median')\n",
    "\n",
    "X_train_encoded['ConvertedCompYearly'] = median_imputer.fit_transform(X_train_encoded[['ConvertedCompYearly']])\n",
    "X_test_encoded['ConvertedCompYearly'] = median_imputer.transform(X_test_encoded[['ConvertedCompYearly']])"
   ]
  },
  {
   "cell_type": "markdown",
   "id": "16d43f83-0f4b-48c7-a20b-1df699d1cb21",
   "metadata": {},
   "source": [
    "## Train and evaluate Models"
   ]
  },
  {
   "cell_type": "code",
   "execution_count": 915,
   "id": "59b01080-fd06-458c-9d50-543c8478d8ae",
   "metadata": {
    "collapsed": true,
    "jupyter": {
     "outputs_hidden": true,
     "source_hidden": true
    }
   },
   "outputs": [
    {
     "name": "stdout",
     "output_type": "stream",
     "text": [
      "Mean Absolute Error:  1.5350237235312265\n",
      "R² Score:  0.02112477162616\n"
     ]
    }
   ],
   "source": [
    "# LinearRegression model\n",
    "model_lr = LinearRegression()\n",
    "\n",
    "model_lr.fit(X_train_encoded, y_train)\n",
    "predictions_lr = model_lr.predict(X_test_encoded)\n",
    "\n",
    "print(\"Mean Absolute Error: \", mean_absolute_error(y_test, predictions_lr))\n",
    "print(\"R² Score: \", r2_score(y_test, predictions_lr))"
   ]
  },
  {
   "cell_type": "code",
   "execution_count": 916,
   "id": "da885794-7111-4e15-b7f4-2cf2f445958a",
   "metadata": {
    "collapsed": true,
    "jupyter": {
     "outputs_hidden": true,
     "source_hidden": true
    }
   },
   "outputs": [
    {
     "name": "stdout",
     "output_type": "stream",
     "text": [
      "Mean Absolute Error:  1.5362874476263542\n",
      "R² Score:  0.012915543688494124\n"
     ]
    }
   ],
   "source": [
    "# Decision Tree Regressor\n",
    "model_dtr = DecisionTreeRegressor(max_depth=5, min_samples_split=10, min_samples_leaf=5, random_state=0)\n",
    "\n",
    "model_dtr.fit(X_train_encoded, y_train)\n",
    "predictions_dtr = model_dtr.predict(X_test_encoded)\n",
    "\n",
    "print(\"Mean Absolute Error: \", mean_absolute_error(predictions_dtr, y_test))\n",
    "print(\"R² Score: \", r2_score(y_test, predictions_dtr))"
   ]
  },
  {
   "cell_type": "code",
   "execution_count": 917,
   "id": "654d7e91-85e7-4a98-a561-3f97e22cac8f",
   "metadata": {
    "collapsed": true,
    "jupyter": {
     "outputs_hidden": true,
     "source_hidden": true
    }
   },
   "outputs": [
    {
     "name": "stdout",
     "output_type": "stream",
     "text": [
      "Mean Absolute Error:  1.5303457514833199\n",
      "R² Score:  0.02207264794813335\n"
     ]
    }
   ],
   "source": [
    "# Random Forest Regressor\n",
    "model_rfr = RandomForestRegressor(n_estimators=100, max_depth=10, min_samples_split=10, min_samples_leaf=5, random_state=0)\n",
    "\n",
    "model_rfr.fit(X_train_encoded, y_train)\n",
    "predictions_rfr = model_rfr.predict(X_test_encoded)\n",
    "\n",
    "print(\"Mean Absolute Error: \", mean_absolute_error(predictions_rfr, y_test))\n",
    "print(\"R² Score: \", r2_score(y_test, predictions_rfr))"
   ]
  },
  {
   "cell_type": "code",
   "execution_count": 918,
   "id": "cea01e1d-d8a4-43af-8336-85fa1c56a8bd",
   "metadata": {
    "collapsed": true,
    "jupyter": {
     "outputs_hidden": true,
     "source_hidden": true
    }
   },
   "outputs": [
    {
     "name": "stdout",
     "output_type": "stream",
     "text": [
      "Mean Absolute Error:  1.5423391211960973\n",
      "R² Score:  0.010888915198147386\n"
     ]
    }
   ],
   "source": [
    "# XGBoost Regressor\n",
    "model_xgb = XGBRegressor(n_estimators=100, learning_rate=0.1, max_depth=6, subsample=0.8, colsample_bytree=0.8, random_state=0)\n",
    "\n",
    "model_xgb.fit(X_train_encoded, y_train)\n",
    "predictions_xgb = model_xgb.predict(X_test_encoded)\n",
    "\n",
    "print(\"Mean Absolute Error: \", mean_absolute_error(predictions_xgb, y_test))\n",
    "print(\"R² Score: \", r2_score(y_test, predictions_xgb))\n"
   ]
  },
  {
   "cell_type": "code",
   "execution_count": 919,
   "id": "8acde3f9-430b-48e6-afdc-9d957b1bf579",
   "metadata": {
    "collapsed": true,
    "jupyter": {
     "outputs_hidden": true,
     "source_hidden": true
    }
   },
   "outputs": [
    {
     "name": "stdout",
     "output_type": "stream",
     "text": [
      "Mean Absolute Error LinearRegression:  1.5350237235312265\n",
      "Mean Absolute Error DecisionTreeRegressor:  1.5362874476263542\n",
      "Mean Absolute Error RandomForestRegressor:  1.5303457514833199\n",
      "Mean Absolute Error XGBRegressor:  1.5423391211960973\n"
     ]
    }
   ],
   "source": [
    "# Show results\n",
    "print(\"Mean Absolute Error LinearRegression: \", mean_absolute_error(predictions_lr, y_test))\n",
    "print(\"Mean Absolute Error DecisionTreeRegressor: \", mean_absolute_error(predictions_dtr, y_test))\n",
    "print(\"Mean Absolute Error RandomForestRegressor: \", mean_absolute_error(predictions_rfr, y_test))\n",
    "print(\"Mean Absolute Error XGBRegressor: \", mean_absolute_error(predictions_xgb, y_test))"
   ]
  },
  {
   "cell_type": "code",
   "execution_count": 920,
   "id": "ecfae9ca-a0d7-468b-a593-178e4116b8c0",
   "metadata": {
    "collapsed": true,
    "jupyter": {
     "outputs_hidden": true,
     "source_hidden": true
    },
    "scrolled": true
   },
   "outputs": [
    {
     "name": "stderr",
     "output_type": "stream",
     "text": [
      "/var/folders/sd/m93jcv6j64j79l56mv79pfhw0000gn/T/ipykernel_8904/2796927850.py:15: FutureWarning: \n",
      "\n",
      "Passing `palette` without assigning `hue` is deprecated and will be removed in v0.14.0. Assign the `y` variable to `hue` and set `legend=False` for the same effect.\n",
      "\n",
      "  ax = sns.barplot(\n"
     ]
    },
    {
     "data": {
      "image/png": "[encoded data removed]",
      "text/plain": [
       "<Figure size 800x500 with 1 Axes>"
      ]
     },
     "metadata": {},
     "output_type": "display_data"
    }
   ],
   "source": [
    "# Visualise results in a bar chart\n",
    "# MAE values\n",
    "mae_data = {\n",
    "    \"LinearRegression\": 1.5350,\n",
    "    \"DecisionTreeRegressor\": 1.5363,\n",
    "    \"RandomForestRegressor\": 1.5303,\n",
    "    \"XGBRegressor\": 1.5423\n",
    "}\n",
    "\n",
    "# Create and sort DataFrame\n",
    "mae_df = pd.DataFrame(mae_data.items(), columns=[\"Model\", \"MAE\"]).sort_values(\"MAE\", ascending=True)\n",
    "\n",
    "# Plot\n",
    "plt.figure(figsize=(8, 5))\n",
    "ax = sns.barplot(\n",
    "    data=mae_df,\n",
    "    x=\"MAE\",\n",
    "    y=\"Model\",\n",
    "    palette=\"Blues_d\",\n",
    "    order=mae_df[\"Model\"]\n",
    ")\n",
    "\n",
    "# Add text labels\n",
    "for i, val in enumerate(mae_df[\"MAE\"]):\n",
    "    ax.text(val + 0.0005, i, f\"{val:.4f}\", va='center')\n",
    "\n",
    "# Zoom in to emphasize differences\n",
    "plt.xlim(1.528, 1.545)  # adjust as needed for your data\n",
    "plt.title(\"Mean Absolute Error by Model (Zoomed In)\")\n",
    "plt.xlabel(\"MAE\")\n",
    "plt.ylabel(\"Model\")\n",
    "plt.tight_layout()\n",
    "plt.show()"
   ]
  },
  {
   "cell_type": "markdown",
   "id": "eb4c37b1-05d7-4c4f-8c48-e2402d3a9798",
   "metadata": {},
   "source": [
    "## Feature Importances"
   ]
  },
  {
   "cell_type": "markdown",
   "id": "440c7316-31a4-4946-b2f7-40513a160f7c",
   "metadata": {},
   "source": [
    "Lastly, I evaluated which features had the highest impacts on the created models."
   ]
  },
  {
   "cell_type": "code",
   "execution_count": 921,
   "id": "43aa85ba-7b2c-4845-af70-0d7e27e4a395",
   "metadata": {
    "collapsed": true,
    "jupyter": {
     "outputs_hidden": true,
     "source_hidden": true
    }
   },
   "outputs": [
    {
     "name": "stdout",
     "output_type": "stream",
     "text": [
      "MainBranch_simplified_Other                                                                                    1.168941\n",
      "Country_means                                                                                                  0.829603\n",
      "MainBranch_simplified_I am not primarily a developer, but I write code sometimes as part of my work/studies    0.301785\n",
      "RemoteWork_In-person                                                                                           0.185388\n",
      "Age_simplified                                                                                                 0.089786\n",
      "EdLevel_simplified                                                                                             0.032915\n",
      "RemoteWork_Remote                                                                                              0.032666\n",
      "MainBranch_simplified_I used to be a developer by profession, but no longer am                                 0.029429\n",
      "ConvertedCompYearly                                                                                            0.000002\n",
      "dtype: float64\n"
     ]
    }
   ],
   "source": [
    "# Feature importance for Linear Regression model\n",
    "importance = pd.Series(model_lr.coef_, index=X_train_encoded.columns)\n",
    "importance = importance.abs().sort_values(ascending=False)\n",
    "print(importance)"
   ]
  },
  {
   "cell_type": "code",
   "execution_count": 922,
   "id": "c31e7b70-b8f9-4856-8b1d-9b2a5c549e65",
   "metadata": {
    "collapsed": true,
    "jupyter": {
     "outputs_hidden": true,
     "source_hidden": true
    }
   },
   "outputs": [
    {
     "data": {
      "text/plain": [
       "<Axes: >"
      ]
     },
     "execution_count": 922,
     "metadata": {},
     "output_type": "execute_result"
    },
    {
     "data": {
      "image/png": "[encoded data removed]",
      "text/plain": [
       "<Figure size 640x480 with 1 Axes>"
      ]
     },
     "metadata": {},
     "output_type": "display_data"
    }
   ],
   "source": [
    "# Feature importance for Decision Tree model\n",
    "importances = model_dtr.feature_importances_\n",
    "\n",
    "# Display\n",
    "feature_importance = pd.Series(importances, index=X_train_encoded.columns)\n",
    "feature_importance.sort_values(ascending=False).plot(kind='barh')"
   ]
  },
  {
   "cell_type": "code",
   "execution_count": 923,
   "id": "8c6e45f4-aa90-40b9-a5ef-e72137493494",
   "metadata": {
    "collapsed": true,
    "jupyter": {
     "outputs_hidden": true,
     "source_hidden": true
    }
   },
   "outputs": [
    {
     "data": {
      "text/plain": [
       "<Axes: >"
      ]
     },
     "execution_count": 923,
     "metadata": {},
     "output_type": "execute_result"
    },
    {
     "data": {
      "image/png": "[encoded data removed]",
      "text/plain": [
       "<Figure size 640x480 with 1 Axes>"
      ]
     },
     "metadata": {},
     "output_type": "display_data"
    }
   ],
   "source": [
    "# Feature importance for Random Forest model\n",
    "importances = model_rfr.feature_importances_\n",
    "\n",
    "# Display\n",
    "feature_importance = pd.Series(importances, index=X_train_encoded.columns)\n",
    "feature_importance.sort_values(ascending=False).plot(kind='barh')"
   ]
  },
  {
   "cell_type": "markdown",
   "id": "cb350b8c-d5fa-4054-b204-9fd076bce7f3",
   "metadata": {},
   "source": [
    "## Evaluation"
   ]
  },
  {
   "cell_type": "markdown",
   "id": "55689e2f-ec6e-490f-81b2-34eee2e5bde7",
   "metadata": {},
   "source": [
    "The performance of all models is similar, with the Random Forest Regressor performing best, however, only by 0.01 than the worst performing model.\n",
    "Overall, the MAE of 1.53 is lower than the standard deviation of the Job Satisfaction Score and therefore an acceptable, however, not superb result.\n",
    "The feature which had the highest impact on the Random Forest Regression model was Converted Compensation Yearly."
   ]
  }
 ],
 "metadata": {
  "kernelspec": {
   "display_name": "Python 3 (ipykernel)",
   "language": "python",
   "name": "python3"
  },
  "language_info": {
   "codemirror_mode": {
    "name": "ipython",
    "version": 3
   },
   "file_extension": ".py",
   "mimetype": "text/x-python",
   "name": "python",
   "nbconvert_exporter": "python",
   "pygments_lexer": "ipython3",
   "version": "3.13.0"
  }
 },
 "nbformat": 4,
 "nbformat_minor": 5
}
